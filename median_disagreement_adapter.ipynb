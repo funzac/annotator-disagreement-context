{
 "cells": [
  {
   "cell_type": "code",
   "execution_count": 1,
   "metadata": {
    "id": "9X-yBKUtgcNZ"
   },
   "outputs": [],
   "source": [
    "import pandas as pd\n",
    "import numpy as np\n",
    "import os\n",
    "import csv\n",
    "from zipfile import ZipFile\n",
    "from sklearn.metrics.pairwise import cosine_similarity\n",
    "import torch\n",
    "import torch.nn as nn\n",
    "import torch.optim as optim\n",
    "import torch.nn.functional as F\n",
    "from torch.utils.data import Dataset, DataLoader\n",
    "from torch.utils.data.dataloader import default_collate\n",
    "from torch.optim.lr_scheduler import ReduceLROnPlateau\n",
    "from sklearn.metrics import accuracy_score, precision_recall_fscore_support\n",
    "from scipy.optimize import minimize\n",
    "from transformers import AutoModel, AutoTokenizer, XLMRobertaModel\n",
    "from tqdm.notebook import tqdm\n",
    "from torch.nn.utils.rnn import pad_sequence\n",
    "from typing import Dict, List, Tuple, Optional\n",
    "import random\n",
    "from torch.utils.data import random_split\n",
    "import logging\n",
    "import matplotlib.pyplot as plt\n",
    "import seaborn as sns"
   ]
  },
  {
   "cell_type": "code",
   "execution_count": 2,
   "metadata": {},
   "outputs": [],
   "source": [
    "class DataLoaders:\n",
    "    def __init__(self):\n",
    "        self.setup_paths()\n",
    "        self.setup_logging()\n",
    "\n",
    "    def setup_logging(self):\n",
    "        logging.basicConfig(level=logging.INFO, format='%(asctime)s - %(levelname)s - %(message)s')\n",
    "        self.logger = logging.getLogger(__name__)\n",
    "\n",
    "    def setup_paths(self):\n",
    "        self.path_dev = 'dev/'\n",
    "        self.path_train = 'train/'\n",
    "        self.path_test = 'test/'\n",
    "        self.path_output = 'answer/'\n",
    "        self.path_testh = 'testh/'\n",
    "\n",
    "        for path in [self.path_dev, self.path_train, self.path_test, self.path_output, self.path_testh]:\n",
    "            if not os.path.exists(path):\n",
    "                os.makedirs(path)\n",
    "\n",
    "    def extract_zip_files(self):\n",
    "        # Extract dev.zip\n",
    "        if not os.listdir(self.path_dev):\n",
    "            with ZipFile('dev.zip', 'r') as dev:\n",
    "                dev.extractall(self.path_dev)\n",
    "\n",
    "        # Extract train.zip\n",
    "        if not os.listdir(self.path_train):\n",
    "            with ZipFile('train.zip', 'r') as train:\n",
    "                train.extractall(self.path_train)\n",
    "\n",
    "        # Extract test.zip\n",
    "        if not os.listdir(self.path_test):\n",
    "            with ZipFile('test.zip', 'r') as test:\n",
    "                test.extractall(self.path_test)\n",
    "\n",
    "        # Extract testh.zip\n",
    "        if not os.listdir(self.path_testh):\n",
    "            with ZipFile('test_hidden1.zip', 'r') as testh:\n",
    "                testh.extractall(self.path_testh)\n",
    "\n",
    "    def load_tsv_files(self):\n",
    "        languages = os.listdir(self.path_train)\n",
    "        self.logger.info(f\"Found languages: {languages}\")\n",
    "\n",
    "        # Initialize file paths\n",
    "        label_file_paths_train = []\n",
    "        uses_file_paths_train = []\n",
    "        label_file_paths_dev = []\n",
    "        uses_file_paths_dev = []\n",
    "        instance_file_paths_test = []\n",
    "        uses_file_paths_test = []\n",
    "        label_file_paths_test = []\n",
    "        \n",
    "\n",
    "        for lang in languages:\n",
    "            label_file_paths_train.append(f\"{self.path_train}{lang}/labels.tsv\")\n",
    "            uses_file_paths_train.append(f\"{self.path_train}{lang}/uses.tsv\")\n",
    "            label_file_paths_dev.append(f\"{self.path_dev}{lang}/labels.tsv\")\n",
    "            uses_file_paths_dev.append(f\"{self.path_dev}{lang}/uses.tsv\")\n",
    "            instance_file_paths_test.append(f\"{self.path_test}{lang}/instances.tsv\")\n",
    "            uses_file_paths_test.append(f\"{self.path_test}{lang}/uses.tsv\")\n",
    "            label_file_paths_test.append(f\"{self.path_testh}{lang}/labels.tsv\")\n",
    "        paths = {\n",
    "            'train_labels_list': label_file_paths_train,\n",
    "            'train_uses_list': uses_file_paths_train,\n",
    "            'dev_labels_list': label_file_paths_dev,\n",
    "            'dev_uses_list': uses_file_paths_dev,\n",
    "            'test_uses_list': uses_file_paths_test,\n",
    "            'test_instances_list': instance_file_paths_test,\n",
    "            'test_labels_list': label_file_paths_test\n",
    "        }\n",
    "\n",
    "        data_dict = {key: [] for key in paths.keys()}\n",
    "\n",
    "        for save_path, path_list in paths.items():\n",
    "            for path in path_list:\n",
    "                with open(path, encoding='utf-8') as tsvfile:\n",
    "                    language = path.split('/')[1]\n",
    "                    reader = csv.DictReader(tsvfile, delimiter='\\t',\n",
    "                                         quoting=csv.QUOTE_MINIMAL, quotechar='\"')\n",
    "                    for row in reader:\n",
    "                        row['language'] = language\n",
    "                        data_dict[save_path].append(row)\n",
    "\n",
    "        return data_dict\n",
    "\n",
    "    def create_merged_dataframes(self, data_dict):\n",
    "        def create_mappings(uses_list):\n",
    "            id2context = {}\n",
    "            id2idx = {}\n",
    "            for row in uses_list:\n",
    "                identifier = row['identifier']\n",
    "                id2context[identifier] = row['context']\n",
    "                id2idx[identifier] = row['indices_target_token']\n",
    "            return id2context, id2idx\n",
    "\n",
    "        # Create mappings\n",
    "        train_id2context, train_id2idx = create_mappings(data_dict['train_uses_list'])\n",
    "        dev_id2context, dev_id2idx = create_mappings(data_dict['dev_uses_list'])\n",
    "        test_id2context, test_id2idx = create_mappings(data_dict['test_uses_list'])\n",
    "\n",
    "        # Merge train data\n",
    "        train_uses_merged = []\n",
    "        for row in data_dict['train_labels_list']:\n",
    "            identifier1_train = row['identifier1']\n",
    "            identifier2_train = row['identifier2']\n",
    "\n",
    "            data_row = {\n",
    "                'context1': train_id2context.get(identifier1_train),\n",
    "                'context2': train_id2context.get(identifier2_train),\n",
    "                'index_target_token1': train_id2idx.get(identifier1_train),\n",
    "                'index_target_token2': train_id2idx.get(identifier2_train),\n",
    "                'identifier1': identifier1_train,\n",
    "                'identifier2': identifier2_train,\n",
    "                'lemma': row['lemma'],\n",
    "                'median_cleaned': row['median_cleaned'],\n",
    "                'judgments': row['judgments'],\n",
    "                'language': row['language']\n",
    "            }\n",
    "            train_uses_merged.append(data_row)\n",
    "\n",
    "\n",
    "        dev_uses_merged = []\n",
    "        for row in data_dict['dev_labels_list']:\n",
    "            identifier1_dev = row['identifier1']\n",
    "            identifier2_dev = row['identifier2']\n",
    "\n",
    "            data_row = {\n",
    "                'context1': dev_id2context.get(identifier1_dev),\n",
    "                'context2': dev_id2context.get(identifier2_dev),\n",
    "                'index_target_token1': dev_id2idx.get(identifier1_dev),\n",
    "                'index_target_token2': dev_id2idx.get(identifier2_dev),\n",
    "                'identifier1': identifier1_dev,\n",
    "                'identifier2': identifier2_dev,\n",
    "                'lemma': row['lemma'],\n",
    "                'median_cleaned': row['median_cleaned'],\n",
    "                'judgments': row['judgments'],\n",
    "                'language': row['language']\n",
    "            }\n",
    "            dev_uses_merged.append(data_row)\n",
    "\n",
    "        # Merge test data\n",
    "        test_uses_merged = []\n",
    "        for row in data_dict['test_labels_list']:\n",
    "            identifier1_test = row['identifier1']\n",
    "            identifier2_test = row['identifier2']\n",
    "\n",
    "            data_row = {\n",
    "                'context1': test_id2context.get(identifier1_test),\n",
    "                'context2': test_id2context.get(identifier2_test),\n",
    "                'index_target_token1': test_id2idx.get(identifier1_test),\n",
    "                'index_target_token2': test_id2idx.get(identifier2_test),\n",
    "                'identifier1': identifier1_test,\n",
    "                'identifier2': identifier2_test,\n",
    "                'lemma': row['lemma'],\n",
    "                'median_cleaned': row['median_cleaned'],\n",
    "                'language': row['language']\n",
    "            }\n",
    "            test_uses_merged.append(data_row)\n",
    "\n",
    "        return pd.DataFrame(train_uses_merged), pd.DataFrame(dev_uses_merged), pd.DataFrame(test_uses_merged)"
   ]
  },
  {
   "cell_type": "code",
   "execution_count": 3,
   "metadata": {
    "id": "-kTxkcNjglr4"
   },
   "outputs": [
    {
     "name": "stderr",
     "output_type": "stream",
     "text": [
      "2024-11-17 00:18:50,703 - INFO - Found languages: ['norwegian', 'german', 'chinese', 'spanish', 'english', 'russian', 'swedish']\n"
     ]
    }
   ],
   "source": [
    "data_loader = DataLoaders()\n",
    "data_loader.extract_zip_files()\n",
    "data_dict = data_loader.load_tsv_files()\n",
    "df_train_uses_merged, df_dev_uses_merged, df_test_uses_merged = data_loader.create_merged_dataframes(data_dict)"
   ]
  },
  {
   "cell_type": "code",
   "execution_count": 4,
   "metadata": {
    "colab": {
     "base_uri": "https://localhost:8080/",
     "height": 241
    },
    "id": "V6Myj4bQgrD2",
    "outputId": "273cd893-9d2b-4f7d-972e-1ab6b4935b09"
   },
   "outputs": [
    {
     "data": {
      "text/plain": [
       "median_cleaned\n",
       "4.0    30257\n",
       "1.0     7099\n",
       "3.0     5967\n",
       "2.0     4510\n",
       "Name: count, dtype: int64"
      ]
     },
     "execution_count": 4,
     "metadata": {},
     "output_type": "execute_result"
    }
   ],
   "source": [
    "df_train_uses_merged['median_cleaned'].value_counts()"
   ]
  },
  {
   "cell_type": "code",
   "execution_count": 5,
   "metadata": {},
   "outputs": [
    {
     "data": {
      "text/html": [
       "<div>\n",
       "<style scoped>\n",
       "    .dataframe tbody tr th:only-of-type {\n",
       "        vertical-align: middle;\n",
       "    }\n",
       "\n",
       "    .dataframe tbody tr th {\n",
       "        vertical-align: top;\n",
       "    }\n",
       "\n",
       "    .dataframe thead th {\n",
       "        text-align: right;\n",
       "    }\n",
       "</style>\n",
       "<table border=\"1\" class=\"dataframe\">\n",
       "  <thead>\n",
       "    <tr style=\"text-align: right;\">\n",
       "      <th></th>\n",
       "      <th>context1</th>\n",
       "      <th>context2</th>\n",
       "      <th>index_target_token1</th>\n",
       "      <th>index_target_token2</th>\n",
       "      <th>identifier1</th>\n",
       "      <th>identifier2</th>\n",
       "      <th>lemma</th>\n",
       "      <th>median_cleaned</th>\n",
       "      <th>judgments</th>\n",
       "      <th>language</th>\n",
       "    </tr>\n",
       "  </thead>\n",
       "  <tbody>\n",
       "    <tr>\n",
       "      <th>0</th>\n",
       "      <td>573 F LR N (Samisk) (Sang- (Utkast Salmer boke...</td>\n",
       "      <td>Det er saerlig knyttet anfektelser til spørsmå...</td>\n",
       "      <td>116:126</td>\n",
       "      <td>23:34</td>\n",
       "      <td>1970-2015_anfektelse_0</td>\n",
       "      <td>1970-2015_anfektelse_15</td>\n",
       "      <td>anfektelse</td>\n",
       "      <td>3.0</td>\n",
       "      <td>[3, 3]</td>\n",
       "      <td>norwegian</td>\n",
       "    </tr>\n",
       "    <tr>\n",
       "      <th>1</th>\n",
       "      <td>Trøst dem i all nød og anfektelse med din Hell...</td>\n",
       "      <td>Menneskelivet og kristenlivet I — V Kveldsbønn...</td>\n",
       "      <td>23:33</td>\n",
       "      <td>79:89</td>\n",
       "      <td>1970-2015_anfektelse_16</td>\n",
       "      <td>1970-2015_anfektelse_2</td>\n",
       "      <td>anfektelse</td>\n",
       "      <td>4.0</td>\n",
       "      <td>[4, 4]</td>\n",
       "      <td>norwegian</td>\n",
       "    </tr>\n",
       "    <tr>\n",
       "      <th>2</th>\n",
       "      <td>Trøst dem i all nød og anfektelse med din Hell...</td>\n",
       "      <td>Trøst dem i all nød og anfektelse med din Hell...</td>\n",
       "      <td>23:33</td>\n",
       "      <td>23:33</td>\n",
       "      <td>1970-2015_anfektelse_16</td>\n",
       "      <td>1970-2015_anfektelse_17</td>\n",
       "      <td>anfektelse</td>\n",
       "      <td>4.0</td>\n",
       "      <td>[4, 4, 4]</td>\n",
       "      <td>norwegian</td>\n",
       "    </tr>\n",
       "    <tr>\n",
       "      <th>3</th>\n",
       "      <td>Det er saerlig knyttet anfektelser til spørsmå...</td>\n",
       "      <td>Dernest hadde Løvenskiold anfektelser på grunn...</td>\n",
       "      <td>23:34</td>\n",
       "      <td>26:37</td>\n",
       "      <td>1970-2015_anfektelse_15</td>\n",
       "      <td>1970-2015_anfektelse_5</td>\n",
       "      <td>anfektelse</td>\n",
       "      <td>4.0</td>\n",
       "      <td>[4, 4, 4]</td>\n",
       "      <td>norwegian</td>\n",
       "    </tr>\n",
       "    <tr>\n",
       "      <th>4</th>\n",
       "      <td>Og selv ikke kommunene later til å ha noen sae...</td>\n",
       "      <td>Dernest hadde Løvenskiold anfektelser på grunn...</td>\n",
       "      <td>52:63</td>\n",
       "      <td>26:37</td>\n",
       "      <td>1970-2015_anfektelse_11</td>\n",
       "      <td>1970-2015_anfektelse_5</td>\n",
       "      <td>anfektelse</td>\n",
       "      <td>4.0</td>\n",
       "      <td>[4, 4, 4]</td>\n",
       "      <td>norwegian</td>\n",
       "    </tr>\n",
       "  </tbody>\n",
       "</table>\n",
       "</div>"
      ],
      "text/plain": [
       "                                            context1  \\\n",
       "0  573 F LR N (Samisk) (Sang- (Utkast Salmer boke...   \n",
       "1  Trøst dem i all nød og anfektelse med din Hell...   \n",
       "2  Trøst dem i all nød og anfektelse med din Hell...   \n",
       "3  Det er saerlig knyttet anfektelser til spørsmå...   \n",
       "4  Og selv ikke kommunene later til å ha noen sae...   \n",
       "\n",
       "                                            context2 index_target_token1  \\\n",
       "0  Det er saerlig knyttet anfektelser til spørsmå...             116:126   \n",
       "1  Menneskelivet og kristenlivet I — V Kveldsbønn...               23:33   \n",
       "2  Trøst dem i all nød og anfektelse med din Hell...               23:33   \n",
       "3  Dernest hadde Løvenskiold anfektelser på grunn...               23:34   \n",
       "4  Dernest hadde Løvenskiold anfektelser på grunn...               52:63   \n",
       "\n",
       "  index_target_token2              identifier1              identifier2  \\\n",
       "0               23:34   1970-2015_anfektelse_0  1970-2015_anfektelse_15   \n",
       "1               79:89  1970-2015_anfektelse_16   1970-2015_anfektelse_2   \n",
       "2               23:33  1970-2015_anfektelse_16  1970-2015_anfektelse_17   \n",
       "3               26:37  1970-2015_anfektelse_15   1970-2015_anfektelse_5   \n",
       "4               26:37  1970-2015_anfektelse_11   1970-2015_anfektelse_5   \n",
       "\n",
       "        lemma median_cleaned  judgments   language  \n",
       "0  anfektelse            3.0     [3, 3]  norwegian  \n",
       "1  anfektelse            4.0     [4, 4]  norwegian  \n",
       "2  anfektelse            4.0  [4, 4, 4]  norwegian  \n",
       "3  anfektelse            4.0  [4, 4, 4]  norwegian  \n",
       "4  anfektelse            4.0  [4, 4, 4]  norwegian  "
      ]
     },
     "metadata": {},
     "output_type": "display_data"
    },
    {
     "data": {
      "text/html": [
       "<div>\n",
       "<style scoped>\n",
       "    .dataframe tbody tr th:only-of-type {\n",
       "        vertical-align: middle;\n",
       "    }\n",
       "\n",
       "    .dataframe tbody tr th {\n",
       "        vertical-align: top;\n",
       "    }\n",
       "\n",
       "    .dataframe thead th {\n",
       "        text-align: right;\n",
       "    }\n",
       "</style>\n",
       "<table border=\"1\" class=\"dataframe\">\n",
       "  <thead>\n",
       "    <tr style=\"text-align: right;\">\n",
       "      <th></th>\n",
       "      <th>context1</th>\n",
       "      <th>context2</th>\n",
       "      <th>index_target_token1</th>\n",
       "      <th>index_target_token2</th>\n",
       "      <th>identifier1</th>\n",
       "      <th>identifier2</th>\n",
       "      <th>lemma</th>\n",
       "      <th>median_cleaned</th>\n",
       "      <th>judgments</th>\n",
       "      <th>language</th>\n",
       "    </tr>\n",
       "  </thead>\n",
       "  <tbody>\n",
       "    <tr>\n",
       "      <th>0</th>\n",
       "      <td>av forordningen, kan gi hjelp til at det blir ...</td>\n",
       "      <td>Finner retten på noe tidspunkt at etterforskni...</td>\n",
       "      <td>90:104</td>\n",
       "      <td>34:50</td>\n",
       "      <td>1929-1965_etterforskning_9</td>\n",
       "      <td>1970-2015_etterforskning_1824</td>\n",
       "      <td>etterforskning</td>\n",
       "      <td>4.0</td>\n",
       "      <td>[4, 4, 4]</td>\n",
       "      <td>norwegian</td>\n",
       "    </tr>\n",
       "    <tr>\n",
       "      <th>1</th>\n",
       "      <td>Og det sier seg selv at det da ikke alltid er ...</td>\n",
       "      <td>Dette førte til ny interesse for saken i offen...</td>\n",
       "      <td>112:126</td>\n",
       "      <td>298:312</td>\n",
       "      <td>1929-1965_etterforskning_54</td>\n",
       "      <td>1970-2015_etterforskning_1032</td>\n",
       "      <td>etterforskning</td>\n",
       "      <td>4.0</td>\n",
       "      <td>[4, 4]</td>\n",
       "      <td>norwegian</td>\n",
       "    </tr>\n",
       "    <tr>\n",
       "      <th>2</th>\n",
       "      <td>Resultatet av drøftelsene på Stortinget i 1948...</td>\n",
       "      <td>Det følgende vil redegjøre for enkelte øvrige ...</td>\n",
       "      <td>215:229</td>\n",
       "      <td>334:350</td>\n",
       "      <td>1929-1965_etterforskning_52</td>\n",
       "      <td>1970-2015_etterforskning_998</td>\n",
       "      <td>etterforskning</td>\n",
       "      <td>4.0</td>\n",
       "      <td>[4, 4]</td>\n",
       "      <td>norwegian</td>\n",
       "    </tr>\n",
       "    <tr>\n",
       "      <th>3</th>\n",
       "      <td>Resultatet av drøftelsene på Stortinget i 1948...</td>\n",
       "      <td>Alene den lange tid - 25 år - som har gått sid...</td>\n",
       "      <td>215:229</td>\n",
       "      <td>180:194</td>\n",
       "      <td>1929-1965_etterforskning_52</td>\n",
       "      <td>1970-2015_etterforskning_557</td>\n",
       "      <td>etterforskning</td>\n",
       "      <td>4.0</td>\n",
       "      <td>[4, 4]</td>\n",
       "      <td>norwegian</td>\n",
       "    </tr>\n",
       "    <tr>\n",
       "      <th>4</th>\n",
       "      <td>Anm.: 1 anledning spørsmålet om etterforskning...</td>\n",
       "      <td>Målet må vaere å øke ressursene ved å foreta e...</td>\n",
       "      <td>32:46</td>\n",
       "      <td>79:93</td>\n",
       "      <td>1929-1965_etterforskning_62</td>\n",
       "      <td>1970-2015_etterforskning_318</td>\n",
       "      <td>etterforskning</td>\n",
       "      <td>4.0</td>\n",
       "      <td>[4, 4]</td>\n",
       "      <td>norwegian</td>\n",
       "    </tr>\n",
       "  </tbody>\n",
       "</table>\n",
       "</div>"
      ],
      "text/plain": [
       "                                            context1  \\\n",
       "0  av forordningen, kan gi hjelp til at det blir ...   \n",
       "1  Og det sier seg selv at det da ikke alltid er ...   \n",
       "2  Resultatet av drøftelsene på Stortinget i 1948...   \n",
       "3  Resultatet av drøftelsene på Stortinget i 1948...   \n",
       "4  Anm.: 1 anledning spørsmålet om etterforskning...   \n",
       "\n",
       "                                            context2 index_target_token1  \\\n",
       "0  Finner retten på noe tidspunkt at etterforskni...              90:104   \n",
       "1  Dette førte til ny interesse for saken i offen...             112:126   \n",
       "2  Det følgende vil redegjøre for enkelte øvrige ...             215:229   \n",
       "3  Alene den lange tid - 25 år - som har gått sid...             215:229   \n",
       "4  Målet må vaere å øke ressursene ved å foreta e...               32:46   \n",
       "\n",
       "  index_target_token2                  identifier1  \\\n",
       "0               34:50   1929-1965_etterforskning_9   \n",
       "1             298:312  1929-1965_etterforskning_54   \n",
       "2             334:350  1929-1965_etterforskning_52   \n",
       "3             180:194  1929-1965_etterforskning_52   \n",
       "4               79:93  1929-1965_etterforskning_62   \n",
       "\n",
       "                     identifier2           lemma median_cleaned  judgments  \\\n",
       "0  1970-2015_etterforskning_1824  etterforskning            4.0  [4, 4, 4]   \n",
       "1  1970-2015_etterforskning_1032  etterforskning            4.0     [4, 4]   \n",
       "2   1970-2015_etterforskning_998  etterforskning            4.0     [4, 4]   \n",
       "3   1970-2015_etterforskning_557  etterforskning            4.0     [4, 4]   \n",
       "4   1970-2015_etterforskning_318  etterforskning            4.0     [4, 4]   \n",
       "\n",
       "    language  \n",
       "0  norwegian  \n",
       "1  norwegian  \n",
       "2  norwegian  \n",
       "3  norwegian  \n",
       "4  norwegian  "
      ]
     },
     "metadata": {},
     "output_type": "display_data"
    },
    {
     "data": {
      "text/html": [
       "<div>\n",
       "<style scoped>\n",
       "    .dataframe tbody tr th:only-of-type {\n",
       "        vertical-align: middle;\n",
       "    }\n",
       "\n",
       "    .dataframe tbody tr th {\n",
       "        vertical-align: top;\n",
       "    }\n",
       "\n",
       "    .dataframe thead th {\n",
       "        text-align: right;\n",
       "    }\n",
       "</style>\n",
       "<table border=\"1\" class=\"dataframe\">\n",
       "  <thead>\n",
       "    <tr style=\"text-align: right;\">\n",
       "      <th></th>\n",
       "      <th>context1</th>\n",
       "      <th>context2</th>\n",
       "      <th>index_target_token1</th>\n",
       "      <th>index_target_token2</th>\n",
       "      <th>identifier1</th>\n",
       "      <th>identifier2</th>\n",
       "      <th>lemma</th>\n",
       "      <th>median_cleaned</th>\n",
       "      <th>language</th>\n",
       "    </tr>\n",
       "  </thead>\n",
       "  <tbody>\n",
       "    <tr>\n",
       "      <th>0</th>\n",
       "      <td>3. Egne hjem for krigspensjonister, der graden...</td>\n",
       "      <td>Han gjennomførte flere førstebestigninger både...</td>\n",
       "      <td>249:254</td>\n",
       "      <td>695:700</td>\n",
       "      <td>1980-1990_syden_4</td>\n",
       "      <td>2012-2019_syden_4</td>\n",
       "      <td>Syden</td>\n",
       "      <td>4.0</td>\n",
       "      <td>norwegian</td>\n",
       "    </tr>\n",
       "    <tr>\n",
       "      <th>1</th>\n",
       "      <td>«Hvi kan I innbille Jer, I, dårlige menneske, ...</td>\n",
       "      <td>For kortere perioder kan det vaere aktuelt å l...</td>\n",
       "      <td>128:133</td>\n",
       "      <td>211:216</td>\n",
       "      <td>1980-1990_syden_7</td>\n",
       "      <td>1980-1990_syden_8</td>\n",
       "      <td>Syden</td>\n",
       "      <td>4.0</td>\n",
       "      <td>norwegian</td>\n",
       "    </tr>\n",
       "    <tr>\n",
       "      <th>2</th>\n",
       "      <td>«Hvi kan I innbille Jer, I, dårlige menneske, ...</td>\n",
       "      <td>utdannelse Hovedfag i samfunnsgeografi ved Uni...</td>\n",
       "      <td>128:133</td>\n",
       "      <td>164:169</td>\n",
       "      <td>1980-1990_syden_7</td>\n",
       "      <td>2012-2019_syden_111</td>\n",
       "      <td>Syden</td>\n",
       "      <td>4.0</td>\n",
       "      <td>norwegian</td>\n",
       "    </tr>\n",
       "    <tr>\n",
       "      <th>3</th>\n",
       "      <td>«Hvi kan I innbille Jer, I, dårlige menneske, ...</td>\n",
       "      <td>Men da artisjokk helkokt i klarnet smør skulle...</td>\n",
       "      <td>128:133</td>\n",
       "      <td>82:87</td>\n",
       "      <td>1980-1990_syden_7</td>\n",
       "      <td>2012-2019_syden_187</td>\n",
       "      <td>Syden</td>\n",
       "      <td>4.0</td>\n",
       "      <td>norwegian</td>\n",
       "    </tr>\n",
       "    <tr>\n",
       "      <th>4</th>\n",
       "      <td>«Hvi kan I innbille Jer, I, dårlige menneske, ...</td>\n",
       "      <td>Pris pr. person i 2-romsleilighet på Sea Melod...</td>\n",
       "      <td>128:133</td>\n",
       "      <td>316:321</td>\n",
       "      <td>1980-1990_syden_7</td>\n",
       "      <td>2012-2019_syden_22</td>\n",
       "      <td>Syden</td>\n",
       "      <td>4.0</td>\n",
       "      <td>norwegian</td>\n",
       "    </tr>\n",
       "  </tbody>\n",
       "</table>\n",
       "</div>"
      ],
      "text/plain": [
       "                                            context1  \\\n",
       "0  3. Egne hjem for krigspensjonister, der graden...   \n",
       "1  «Hvi kan I innbille Jer, I, dårlige menneske, ...   \n",
       "2  «Hvi kan I innbille Jer, I, dårlige menneske, ...   \n",
       "3  «Hvi kan I innbille Jer, I, dårlige menneske, ...   \n",
       "4  «Hvi kan I innbille Jer, I, dårlige menneske, ...   \n",
       "\n",
       "                                            context2 index_target_token1  \\\n",
       "0  Han gjennomførte flere førstebestigninger både...             249:254   \n",
       "1  For kortere perioder kan det vaere aktuelt å l...             128:133   \n",
       "2  utdannelse Hovedfag i samfunnsgeografi ved Uni...             128:133   \n",
       "3  Men da artisjokk helkokt i klarnet smør skulle...             128:133   \n",
       "4  Pris pr. person i 2-romsleilighet på Sea Melod...             128:133   \n",
       "\n",
       "  index_target_token2        identifier1          identifier2  lemma  \\\n",
       "0             695:700  1980-1990_syden_4    2012-2019_syden_4  Syden   \n",
       "1             211:216  1980-1990_syden_7    1980-1990_syden_8  Syden   \n",
       "2             164:169  1980-1990_syden_7  2012-2019_syden_111  Syden   \n",
       "3               82:87  1980-1990_syden_7  2012-2019_syden_187  Syden   \n",
       "4             316:321  1980-1990_syden_7   2012-2019_syden_22  Syden   \n",
       "\n",
       "  median_cleaned   language  \n",
       "0            4.0  norwegian  \n",
       "1            4.0  norwegian  \n",
       "2            4.0  norwegian  \n",
       "3            4.0  norwegian  \n",
       "4            4.0  norwegian  "
      ]
     },
     "metadata": {},
     "output_type": "display_data"
    }
   ],
   "source": [
    "display(df_train_uses_merged.head())\n",
    "display(df_dev_uses_merged.head())\n",
    "display(df_test_uses_merged.head())"
   ]
  },
  {
   "cell_type": "code",
   "execution_count": 6,
   "metadata": {},
   "outputs": [
    {
     "data": {
      "text/plain": [
       "median_cleaned\n",
       "4.0    5676\n",
       "1.0    1055\n",
       "2.0     817\n",
       "3.0     739\n",
       "Name: count, dtype: int64"
      ]
     },
     "execution_count": 6,
     "metadata": {},
     "output_type": "execute_result"
    }
   ],
   "source": [
    "df_dev_uses_merged['median_cleaned'].value_counts()"
   ]
  },
  {
   "cell_type": "code",
   "execution_count": 7,
   "metadata": {},
   "outputs": [
    {
     "data": {
      "text/plain": [
       "median_cleaned\n",
       "4.0    30257\n",
       "1.0     7099\n",
       "3.0     5967\n",
       "2.0     4510\n",
       "Name: count, dtype: int64"
      ]
     },
     "execution_count": 7,
     "metadata": {},
     "output_type": "execute_result"
    }
   ],
   "source": [
    "df_train_uses_merged['median_cleaned'].value_counts()\n"
   ]
  },
  {
   "cell_type": "code",
   "execution_count": 8,
   "metadata": {
    "id": "YVJJ_f3agrG5"
   },
   "outputs": [],
   "source": [
    "from sklearn.preprocessing import LabelEncoder\n",
    "\n",
    "label_encoder = LabelEncoder()\n",
    "df_train_uses_merged['median_cleaned'] = label_encoder.fit_transform(df_train_uses_merged['median_cleaned'])\n",
    "df_dev_uses_merged['median_cleaned'] = label_encoder.transform(df_dev_uses_merged['median_cleaned'])"
   ]
  },
  {
   "cell_type": "code",
   "execution_count": 9,
   "metadata": {
    "id": "DUfshRcSgv1m"
   },
   "outputs": [],
   "source": [
    "class EmbeddingGenerator:\n",
    "    def __init__(self, model_name=\"FacebookAI/xlm-roberta-base\"):\n",
    "        self.tokenizer = AutoTokenizer.from_pretrained(model_name)\n",
    "        self.model = XLMRobertaModel.from_pretrained(model_name)\n",
    "\n",
    "    def truncation_indices(self, target_subword_indices, truncation_tokens_before_target=0.5):\n",
    "        max_tokens = 512\n",
    "        n_target_subtokens = target_subword_indices.count(True)\n",
    "        tokens_before = int((max_tokens - n_target_subtokens) * truncation_tokens_before_target)\n",
    "        tokens_after = max_tokens - tokens_before - n_target_subtokens\n",
    "\n",
    "        lindex_target = target_subword_indices.index(True)\n",
    "        rindex_target = lindex_target + n_target_subtokens\n",
    "        lindex = max(lindex_target - tokens_before, 0)\n",
    "        rindex = rindex_target + tokens_after\n",
    "\n",
    "        return lindex, rindex\n",
    "\n",
    "    def get_target_token_embedding(self, context, index):\n",
    "        start_idx = int(str(index).strip().split(':')[0])\n",
    "        end_idx = int(str(index).strip().split(':')[1])\n",
    "\n",
    "        inputs = self.tokenizer(context, return_tensors=\"pt\",\n",
    "                              return_offsets_mapping=True, add_special_tokens=False)\n",
    "\n",
    "        offset_mapping = inputs['offset_mapping'][0].tolist()\n",
    "        input_ids = inputs['input_ids']\n",
    "        tokens = self.tokenizer.convert_ids_to_tokens(input_ids[0])\n",
    "\n",
    "        subwords_bool_mask = [\n",
    "            (start <= start_idx < end) or (start < end_idx <= end)\n",
    "            or (start_idx <= start and end <= end_idx)\n",
    "            for start, end in offset_mapping\n",
    "        ]\n",
    "\n",
    "        if len(input_ids[0]) > 512:\n",
    "            lindex, rindex = self.truncation_indices(subwords_bool_mask)\n",
    "            tokens = tokens[lindex:rindex]\n",
    "            input_ids = input_ids[:, lindex:rindex]\n",
    "            subwords_bool_mask = subwords_bool_mask[lindex:rindex]\n",
    "            inputs['input_ids'] = input_ids\n",
    "\n",
    "        with torch.no_grad():\n",
    "            outputs = self.model(inputs['input_ids'])\n",
    "\n",
    "        target_embeddings = outputs.last_hidden_state[0][subwords_bool_mask]\n",
    "        return target_embeddings.mean(dim=0).numpy()\n",
    "\n",
    "    def generate_embeddings(self, df, file_name):\n",
    "        id2embedding = {}\n",
    "\n",
    "        for _, row in df.iterrows():\n",
    "            identifier1 = row['identifier1']\n",
    "            identifier2 = row['identifier2']\n",
    "\n",
    "            if identifier1 not in id2embedding:\n",
    "                embedding1 = self.get_target_token_embedding(row['context1'],\n",
    "                                                          row['index_target_token1'])\n",
    "                id2embedding[identifier1] = embedding1\n",
    "\n",
    "            if identifier2 not in id2embedding:\n",
    "                embedding2 = self.get_target_token_embedding(row['context2'],\n",
    "                                                          row['index_target_token2'])\n",
    "                id2embedding[identifier2] = embedding2\n",
    "\n",
    "        np.savez(file_name, **id2embedding)\n",
    "        return id2embedding"
   ]
  },
  {
   "cell_type": "code",
   "execution_count": 10,
   "metadata": {
    "id": "-P_coNRYgyPX"
   },
   "outputs": [],
   "source": [
    "# Generate embeddings\n",
    "#embedding_generator = EmbeddingGenerator()\n",
    "#train_embeddings = embedding_generator.generate_embeddings(df_train_uses_merged,\n",
    "                                                         #'subtask1_train_embeddings.npz')\n",
    "#dev_embeddings = embedding_generator.generate_embeddings(df_dev_uses_merged,\n",
    "                                                       #'subtask1_dev_embeddings.npz')"
   ]
  },
  {
   "cell_type": "code",
   "execution_count": 11,
   "metadata": {
    "id": "_A3Kjnmcgv49"
   },
   "outputs": [],
   "source": [
    "class CustomDataset(Dataset):\n",
    "    def __init__(self, data, embeddings, max_len=512, is_test=False):\n",
    "        self.data = data\n",
    "        self.embeddings = self.load_embeddings(embeddings)\n",
    "        self.max_len = max_len\n",
    "        self.is_test = is_test\n",
    "\n",
    "    def __len__(self):\n",
    "        return len(self.data)\n",
    "\n",
    "    def create_features(self, embedding1, embedding2):\n",
    "        \"\"\"Create combined features from two embeddings.\"\"\"\n",
    "        concatenated = np.concatenate([embedding1, embedding2])\n",
    "        difference = embedding1 - embedding2\n",
    "        product = embedding1 * embedding2\n",
    "\n",
    "        # Calculate similarity metrics\n",
    "        cos_sim = np.dot(embedding1, embedding2) / (\n",
    "            np.linalg.norm(embedding1) * np.linalg.norm(embedding2) + 1e-8)\n",
    "        euclidean_dist = np.linalg.norm(embedding1 - embedding2)\n",
    "        manhattan_dist = np.sum(np.abs(embedding1 - embedding2))\n",
    "\n",
    "        # Combine all features\n",
    "        features = np.concatenate([\n",
    "            concatenated,\n",
    "            difference,\n",
    "            product,\n",
    "            [cos_sim, euclidean_dist, manhattan_dist]\n",
    "        ])\n",
    "        return torch.tensor(features, dtype=torch.float)\n",
    "\n",
    "    def load_embeddings(self, file_name):\n",
    "        \"\"\"Load embeddings from a single .npz file.\"\"\"\n",
    "        try:\n",
    "            loaded_embeddings = np.load(file_name)\n",
    "            embeddings = {identifier: loaded_embeddings[identifier]\n",
    "                        for identifier in loaded_embeddings.files}\n",
    "            return embeddings\n",
    "        except Exception as e:\n",
    "            print(f\"Error loading embeddings from {file_name}: {e}\")\n",
    "            return {}\n",
    "\n",
    "    def __getitem__(self, idx):\n",
    "        row = self.data.iloc[idx]\n",
    "        identifier1 = row['identifier1']\n",
    "        identifier2 = row['identifier2']\n",
    "\n",
    "        # Get embeddings with zero padding if not found\n",
    "        embedding1 = self.embeddings.get(identifier1, np.zeros(self.max_len))\n",
    "        embedding2 = self.embeddings.get(identifier2, np.zeros(self.max_len))\n",
    "\n",
    "        # Convert embeddings to tensors\n",
    "        target_embedding1 = torch.tensor(embedding1, dtype=torch.float)\n",
    "        target_embedding2 = torch.tensor(embedding2, dtype=torch.float)\n",
    "\n",
    "        # Create combined features\n",
    "        combined_features = self.create_features(embedding1, embedding2)\n",
    "\n",
    "        if not self.is_test:\n",
    "            # Get the median_cleaned value as a float for regression\n",
    "            target = torch.tensor(float(row['median_cleaned']), dtype=torch.float)\n",
    "\n",
    "            return {\n",
    "                'target_embedding1': target_embedding1,\n",
    "                'target_embedding2': target_embedding2,\n",
    "                'combined_features': combined_features,\n",
    "                'target': target\n",
    "            }\n",
    "        else:\n",
    "            return {\n",
    "                'target_embedding1': target_embedding1,\n",
    "                'target_embedding2': target_embedding2,\n",
    "                'combined_features': combined_features\n",
    "            }\n",
    "\n",
    "def collate_fn(batch):\n",
    "    \"\"\"Custom collate function to handle dictionary outputs.\"\"\"\n",
    "    return {key: default_collate([d[key] for d in batch]) for key in batch[0]}"
   ]
  },
  {
   "cell_type": "code",
   "execution_count": 12,
   "metadata": {
    "id": "w0blUHNLg2HD"
   },
   "outputs": [],
   "source": [
    "train_dataset = CustomDataset(data=df_train_uses_merged,\n",
    "                            embeddings='subtask1_train_embeddings.npz',\n",
    "                            max_len=512,\n",
    "                            is_test=False)\n",
    "\n",
    "dev_dataset = CustomDataset(data=df_dev_uses_merged,\n",
    "                          embeddings='subtask1_dev_embeddings.npz',\n",
    "                          max_len=512,\n",
    "                          is_test=False)\n",
    "\n",
    "test_dataset = CustomDataset(data=df_test_uses_merged,\n",
    "                          embeddings='subtask1_test_embeddings.npz',\n",
    "                          max_len=512,\n",
    "                          is_test=True)\n"
   ]
  },
  {
   "cell_type": "code",
   "execution_count": 41,
   "metadata": {},
   "outputs": [],
   "source": [
    "#CUDA_LAUNCH_BLOCKING=1"
   ]
  },
  {
   "cell_type": "code",
   "execution_count": 13,
   "metadata": {},
   "outputs": [],
   "source": [
    "class AdapterLayer(nn.Module):\n",
    "    \"\"\"\n",
    "    Bottleneck adapter architecture following standard practices:\n",
    "    - Down-project -> Non-linearity -> Up-project\n",
    "    \"\"\"\n",
    "    def __init__(self, input_dim, bottleneck_dim, dropout_rate=0.1):\n",
    "        super().__init__()\n",
    "        self.down_project = nn.Linear(input_dim, bottleneck_dim)\n",
    "        self.up_project = nn.Linear(bottleneck_dim, input_dim)\n",
    "        self.layer_norm = nn.LayerNorm(input_dim)\n",
    "        self.dropout = nn.Dropout(dropout_rate)\n",
    "        self.activation = nn.GELU()\n",
    "\n",
    "    def forward(self, x):\n",
    "        residual = x\n",
    "        x = self.down_project(x)\n",
    "        x = self.activation(x)\n",
    "        x = self.dropout(x)\n",
    "        x = self.up_project(x)\n",
    "        x = self.dropout(x)\n",
    "        x = x + residual  # Residual connection\n",
    "        x = self.layer_norm(x)\n",
    "        return x\n",
    "\n",
    "class AdapterNetwork(nn.Module):\n",
    "    def __init__(\n",
    "        self,\n",
    "        num_classes=4,\n",
    "        embedding_dim=768,\n",
    "        adapter_dim=64,  # Bottleneck dimension\n",
    "        hidden_dims=[512, 256],\n",
    "        dropout_rate=0.2\n",
    "    ):\n",
    "        super().__init__()\n",
    "\n",
    "        # Adapter layers with bottleneck architecture\n",
    "        self.adapter1 = AdapterLayer(\n",
    "            input_dim=embedding_dim,\n",
    "            bottleneck_dim=adapter_dim,\n",
    "            dropout_rate=dropout_rate\n",
    "        )\n",
    "\n",
    "        self.adapter2 = AdapterLayer(\n",
    "            input_dim=embedding_dim,\n",
    "            bottleneck_dim=adapter_dim,\n",
    "            dropout_rate=dropout_rate\n",
    "        )\n",
    "\n",
    "        # Calculate input dimensions\n",
    "        combined_embedding_dim = embedding_dim * 2  # Concatenated adapted embeddings\n",
    "        feature_dim = embedding_dim * 4 + 3  # From CustomDataset.create_features\n",
    "        total_input_dim = combined_embedding_dim + feature_dim\n",
    "\n",
    "        # Build classifier layers with skip connections\n",
    "        self.classifier_layers = nn.ModuleList()\n",
    "        input_dim = total_input_dim\n",
    "\n",
    "        for hidden_dim in hidden_dims:\n",
    "            self.classifier_layers.append(\n",
    "                nn.Sequential(\n",
    "                    nn.Linear(input_dim, hidden_dim),\n",
    "                    nn.LayerNorm(hidden_dim),\n",
    "                    nn.GELU(),\n",
    "                    nn.Dropout(dropout_rate)\n",
    "                )\n",
    "            )\n",
    "            input_dim = hidden_dim\n",
    "\n",
    "        # Final classification layer\n",
    "        self.final_layer = nn.Linear(input_dim, num_classes)\n",
    "\n",
    "        # Initialize weights\n",
    "        self._init_weights()\n",
    "\n",
    "    def _init_weights(self):\n",
    "        \"\"\"Initialize weights using Xavier initialization\"\"\"\n",
    "        for module in self.modules():\n",
    "            if isinstance(module, nn.Linear):\n",
    "                nn.init.xavier_uniform_(module.weight)\n",
    "                if module.bias is not None:\n",
    "                    nn.init.zeros_(module.bias)\n",
    "\n",
    "    def forward(self, embedding1, embedding2, combined_features):\n",
    "        # Apply adapters with residual connections\n",
    "        adapted1 = self.adapter1(embedding1)\n",
    "        adapted2 = self.adapter2(embedding2)\n",
    "\n",
    "        # Concatenate adapted embeddings with combined features\n",
    "        x = torch.cat([adapted1, adapted2, combined_features], dim=1)\n",
    "\n",
    "        # Pass through classifier layers with skip connections\n",
    "        for layer in self.classifier_layers:\n",
    "            layer_output = layer(x)\n",
    "            # Add skip connection if dimensions match\n",
    "            if layer_output.shape == x.shape:\n",
    "                x = layer_output + x\n",
    "            else:\n",
    "                x = layer_output\n",
    "\n",
    "        # Final classification\n",
    "        output = self.final_layer(x)\n",
    "\n",
    "        return output\n",
    "\n",
    "    def get_adapter_params(self):\n",
    "        \"\"\"Get only the adapter parameters for efficient fine-tuning\"\"\"\n",
    "        adapter_params = []\n",
    "        for name, param in self.named_parameters():\n",
    "            if 'adapter' in name:\n",
    "                adapter_params.append(param)\n",
    "        return adapter_params\n",
    "\n",
    "    def freeze_non_adapter_params(self):\n",
    "        \"\"\"Freeze all parameters except adapters for fine-tuning\"\"\"\n",
    "        for name, param in self.named_parameters():\n",
    "            if 'adapter' not in name:\n",
    "                param.requires_grad = False"
   ]
  },
  {
   "cell_type": "code",
   "execution_count": 15,
   "metadata": {
    "colab": {
     "base_uri": "https://localhost:8080/",
     "height": 684,
     "referenced_widgets": [
      "cd1ffc7f535b4616a961474ad6f87ed3",
      "b00198cdb6f44ba5a082a1a4bf9ecd68",
      "ca43f6d40016420781517b5ec7ed8e38",
      "057326ac2aa34258964f5030d5c55f44",
      "9261a6b92a764664a90efb95ce1c69ad",
      "a3f4d46de3d04e2fb2c7c526f1aa90f7",
      "e36f6a34ab134330b2e604ec2a605b33",
      "09fbf5c5793942f485230c7bc529d0dd",
      "f6556ea3feda4fa68f98ba130825e857",
      "122e31e9821146dfb45aa79a42eb350b",
      "9d7197c47e5d45f89eb4260ba22ca2f5",
      "67dbcb9fcf1c48a7aa70472760e486e7",
      "72244fcf4346440bb6a292f48d283727",
      "0bb2967d59f94006967220488b47bffb",
      "b9f8d8a2d4914704bd88461febfea740",
      "9c3cd37ca6f84e4c9108bb89712c42f2",
      "f44e1cb4aaa14da785ef4af8e016c1d2",
      "6900d4fc9aff4920bd729f456f2c6e2e",
      "26533f093e60470e848dff38d0031959",
      "904124b075054a3e95abbed5ca4392c1",
      "07278ace6b5e434aaad6f6b5503587d3",
      "31bf0adf15844cde86a68c119ae601e2",
      "6ebb6f11226c4114a7f00db3676d59c7",
      "1c8af6d427524bc0b44d335a9037d063",
      "cf3e104c07794b75b9fd7d6b413bc8b9",
      "c993a4d8158e42459cc8dcb77888b094",
      "7fa0c95c2e0f4dbdae4a595c4b37ddbc",
      "7414ab078f4e42efb260b0fb2a9d501e",
      "bcdfd3fe43474eac9d7702f5cdc96e66",
      "8d30cbeb39994379907e8ead691ec6e0",
      "3539415b9e4b41b494cdcd6ae8419abb",
      "bc551b2a8015433e9afad0335b3c3040",
      "ed96d35d8e084a1d90a2a2d4ab3a057e",
      "68fc7bb5775d4dfe8e1f7a17181ddee9",
      "3e33d9a559734ea982a0df8ccdd78b2a",
      "6c0c1b729f674519a43a8e5da98a6ceb",
      "921af096b2fc41de9acc8c883f6c0ad1",
      "3c7b46e804494495861472b598a976b9",
      "103828b9560042c882b5f4ced1bd8062",
      "cf8fab36a95c4ee491f0ceff5038e913",
      "da4482c2c5f04c59a278e42e7d29e026",
      "54f08e7d38ac454ab2a05fe074f54b12",
      "3d1da7a34f52483fbc8a419031ef0a25",
      "c803728552bf4b08a0bc04256f98409d",
      "f9e189dacf8e480db479a3f81c401174",
      "7d688c9efb90473787140eb337798e76",
      "55e6906e62ee47da98e4b5e982444e7d",
      "3e2a0f7d7fd248c88582c6f22e1fe062",
      "e6cc1e30080845f5a7c51434e976f898",
      "a55ab80b89704018b8c95a86b00506e7",
      "3c93b1fbba744d07bbf90da14aa44e04",
      "2919bbb044ee49789a4ead7b228f027c",
      "71fb75fd9b7540f784c6e066430362c4",
      "b6ddc786aee248bfbc36624865d6b012",
      "925746f78ec24bf2be04fedfc1d1fa4c",
      "d0adba74e56740d79c1485d5f279b7b5",
      "ace3f161152449ddbe3437c00175b5c0",
      "5a3193e1a38c4f1cad648be34af3bf8d",
      "8a9c92cec8e74471a180f11888f9bb93",
      "7433f125465e463aa386a4928a70e144",
      "c2c37b7951bc435ba775228e60d0ca19",
      "28b4956dc1a34c11904ebee43be5f75a",
      "d2bee3163556451aa758b394c14a2d89",
      "8f9aacc4091d4eb2b57baff77503b7a9",
      "c64c4731e45e45f1888737941d13b8e7",
      "7aa26adf9a0747d998bd408cc1183e9a",
      "393c3eb529ef4f3fbdedeeeea991f21a",
      "6620d524caec4726b42610caec20d303",
      "3285cd0c11e04e13b9e3e20ee48b9ba6",
      "f56944726c2d46498bc077ca426fe0ac",
      "6838f3e71df14ee79202f9ada96030a6",
      "4c0ac6365e2b4429a30734bc5bd84ac4",
      "bfcbb8ea630948dc9ad1675f6c2b8f19",
      "e82022b489bc4b6aacc06d5ca577f765",
      "5696db60dce34850af257d0ce3a3ac61",
      "29e5ef99378e477688e5889ec02a9274",
      "6712733917f8478087ff0097f11313e9",
      "14fef39c16554c79841b066a1e6ca999",
      "f5beefc6e4a44464b69ba665d8ea8383",
      "74f0e22f64dd4d99832a6201523be013",
      "42b6900fe5e148d09ecb263d0ca55152",
      "c468a8a1b80b4fab9603d6eb01c4908e",
      "7113804a61404c17870cc8b13921a21b",
      "12fccbe7a85b4c0f912729dd811210c6",
      "23c4929e6a764d658820e7fa4d977a05",
      "4761b9e976164fc199593cf7b8269747",
      "e4e0c976eb164c0b8a0367e0b080556b",
      "3ad7c17375f242e396edaeabaafe664c",
      "f3267c7871784faf931440e56e48d094",
      "e5f0914ddbd34fe78022a0b8b1fa02f2",
      "e60fce1b554e461d80fbf8abd87118e3",
      "dfd1f3ea0afc450592351f93724e76aa",
      "e99d6847efdd481eb0f1f9d0b34ef3a4",
      "ec0db515f43f4190813e474438b8552f",
      "3b2d40fd84704d2f8297e7e11bc4048c",
      "ca1a8a283ce54551a243e3770833d53e",
      "72ba31f8f62242919065bd3cba53f112",
      "35214c46675a4c07986508c6ffc97e38",
      "ec413fd66dbd4749b0dfcad1e0890181",
      "9966c25f0262429ab7bbd0731a714916",
      "985db25c8f1946f6aa420bc432272c35",
      "4733cd39045c47bfb2e5d6ceebf6c3ef",
      "b8403eaf68b649baba365f5a398974d9",
      "07c72348577e4b7a98482863daa3548e",
      "3d2502b8c4c14d83bb609840d5da3e3b",
      "9fcb1f161f574b789eed795972eeadec",
      "959ad9b215044c6ea4b23dc4706bdcc0",
      "1f69e4caaf9d4399a2dfefe74d7f82fb",
      "9ef82070bc6b406ea251a56a59fcda81",
      "c3a9a8fa7bc64dbbb91859484f75928b"
     ]
    },
    "id": "smsXIBh-g9Dn",
    "outputId": "fb83b661-ab48-4ce5-b70c-92cd5908a254"
   },
   "outputs": [],
   "source": [
    "from sklearn.metrics import accuracy_score, precision_recall_fscore_support\n",
    "\n",
    "class AdapterLearner:\n",
    "    def __init__(self,\n",
    "                 embedding_dim=768,\n",
    "                 hidden_dims=[512, 256],\n",
    "                 learning_rate=1e-4,\n",
    "                 batch_size=32,\n",
    "                 num_epochs=10,\n",
    "                 dropout_rate=0.2,\n",
    "                 num_classes=4,\n",
    "                 device='cuda' if torch.cuda.is_available() else 'cpu'):\n",
    "\n",
    "        self.model = AdapterNetwork(\n",
    "            embedding_dim=embedding_dim,\n",
    "            hidden_dims=hidden_dims,\n",
    "            dropout_rate=dropout_rate,\n",
    "            num_classes=num_classes\n",
    "        ).to(device)\n",
    "\n",
    "        self.optimizer = optim.AdamW(self.model.parameters(), lr=learning_rate)\n",
    "        self.criterion = nn.CrossEntropyLoss()\n",
    "        self.batch_size = batch_size\n",
    "        self.num_epochs = num_epochs\n",
    "        self.device = device\n",
    "\n",
    "        self.train_losses = []\n",
    "        self.val_losses = []\n",
    "        self.train_accuracies = []\n",
    "        self.val_accuracies = []\n",
    "\n",
    "    def train(self, train_dataset, dev_dataset):\n",
    "        train_loader = DataLoader(\n",
    "            train_dataset,\n",
    "            batch_size=self.batch_size,\n",
    "            shuffle=True\n",
    "        )\n",
    "\n",
    "        if dev_dataset:\n",
    "            val_loader = DataLoader(\n",
    "                dev_dataset,\n",
    "                batch_size=self.batch_size,\n",
    "                shuffle=False\n",
    "            )\n",
    "\n",
    "        best_val_loss = float('inf')\n",
    "\n",
    "        for epoch in range(self.num_epochs):\n",
    "            self.model.train()\n",
    "            total_train_loss = 0\n",
    "            total_train_correct = 0\n",
    "            train_batches = tqdm(train_loader, desc=f'Epoch {epoch+1}/{self.num_epochs}')\n",
    "\n",
    "            for batch in train_batches:\n",
    "                self.optimizer.zero_grad()\n",
    "\n",
    "                target_embedding1 = batch['target_embedding1'].to(self.device)\n",
    "                target_embedding2 = batch['target_embedding2'].to(self.device)\n",
    "                combined_features = batch['combined_features'].to(self.device)\n",
    "                target = batch['target'].squeeze().to(self.device).long()\n",
    "\n",
    "                logits = self.model(target_embedding1, target_embedding2, combined_features)\n",
    "                loss = self.criterion(logits, target)\n",
    "\n",
    "                loss.backward()\n",
    "                self.optimizer.step()\n",
    "\n",
    "                total_train_loss += loss.item()\n",
    "\n",
    "                # Calculate accuracy\n",
    "                preds = torch.argmax(logits, dim=1)\n",
    "                total_train_correct += (preds == target).sum().item()\n",
    "\n",
    "                train_batches.set_postfix({'train_loss': loss.item()})\n",
    "\n",
    "            avg_train_loss = total_train_loss / len(train_loader)\n",
    "            avg_train_accuracy = total_train_correct / len(train_loader.dataset)  # Accuracy over all data\n",
    "            self.train_losses.append(avg_train_loss)\n",
    "            self.train_accuracies.append(avg_train_accuracy)\n",
    "\n",
    "            if dev_dataset:\n",
    "                val_loss, val_accuracy = self.evaluate(val_loader)\n",
    "                self.val_losses.append(val_loss)\n",
    "                self.val_accuracies.append(val_accuracy)\n",
    "\n",
    "                print(f'Epoch {epoch+1}: Train Loss = {avg_train_loss:.4f}, Train Accuracy = {avg_train_accuracy:.4f}, Val Loss = {val_loss:.4f}, Val Accuracy = {val_accuracy:.4f}')\n",
    "\n",
    "                if val_loss < best_val_loss:\n",
    "                    best_val_loss = val_loss\n",
    "                    torch.save(self.model.state_dict(), 'best_adapter_model.pt')\n",
    "            else:\n",
    "                print(f'Epoch {epoch+1}: Train Loss = {avg_train_loss:.4f}, Train Accuracy = {avg_train_accuracy:.4f}')\n",
    "\n",
    "        return self.train_losses, self.val_losses, self.train_accuracies, self.val_accuracies\n",
    "\n",
    "    def evaluate(self, val_loader):\n",
    "        self.model.eval()\n",
    "        total_val_loss = 0\n",
    "        total_val_correct = 0\n",
    "        all_preds = []\n",
    "        all_targets = []\n",
    "\n",
    "        with torch.no_grad():\n",
    "            for batch in val_loader:\n",
    "                target_embedding1 = batch['target_embedding1'].to(self.device)\n",
    "                target_embedding2 = batch['target_embedding2'].to(self.device)\n",
    "                combined_features = batch['combined_features'].to(self.device)\n",
    "                target = batch['target'].squeeze().to(self.device).long()\n",
    "\n",
    "                logits = self.model(target_embedding1, target_embedding2, combined_features)\n",
    "                loss = self.criterion(logits, target)\n",
    "\n",
    "                total_val_loss += loss.item()\n",
    "\n",
    "                # Calculate accuracy\n",
    "                preds = torch.argmax(logits, dim=1)\n",
    "                total_val_correct += (preds == target).sum().item()\n",
    "\n",
    "                all_preds.extend(preds.cpu().numpy())\n",
    "                all_targets.extend(target.cpu().numpy())\n",
    "\n",
    "        avg_val_loss = total_val_loss / len(val_loader)\n",
    "        val_accuracy = total_val_correct / len(val_loader.dataset)  # Accuracy over all data\n",
    "        precision, recall, f1, _ = precision_recall_fscore_support(all_targets, all_preds, average='macro', zero_division=0)\n",
    "\n",
    "        print(f\"Validation Metrics: Accuracy = {val_accuracy:.4f}, Precision = {precision:.4f}, Recall = {recall:.4f}, F1-Score = {f1:.4f}\")\n",
    "\n",
    "        return avg_val_loss, val_accuracy\n",
    "\n",
    "    def predict(self, test_dataset, return_probabilities=False):\n",
    "        test_loader = DataLoader(\n",
    "            test_dataset,\n",
    "            batch_size=self.batch_size,\n",
    "            shuffle=False\n",
    "        )\n",
    "\n",
    "        self.model.eval()\n",
    "        predictions = []\n",
    "\n",
    "        with torch.no_grad():\n",
    "            for batch in test_loader:\n",
    "                target_embedding1 = batch['target_embedding1'].to(self.device)\n",
    "                target_embedding2 = batch['target_embedding2'].to(self.device)\n",
    "                combined_features = batch['combined_features'].to(self.device)\n",
    "\n",
    "                logits = self.model(target_embedding1, target_embedding2, combined_features)\n",
    "\n",
    "                if return_probabilities:\n",
    "                    probs = torch.softmax(logits, dim=1)\n",
    "                    predictions.extend(probs.cpu().numpy())\n",
    "                else:\n",
    "                    preds = torch.argmax(logits, dim=1)\n",
    "                    predictions.extend(preds.cpu().numpy())\n",
    "\n",
    "        return np.array(predictions)\n"
   ]
  },
  {
   "cell_type": "code",
   "execution_count": 17,
   "metadata": {},
   "outputs": [
    {
     "data": {
      "application/vnd.jupyter.widget-view+json": {
       "model_id": "75929381aefb4556806143d9f4556149",
       "version_major": 2,
       "version_minor": 0
      },
      "text/plain": [
       "Epoch 1/50:   0%|          | 0/1495 [00:00<?, ?it/s]"
      ]
     },
     "metadata": {},
     "output_type": "display_data"
    },
    {
     "name": "stdout",
     "output_type": "stream",
     "text": [
      "Validation Metrics: Accuracy = 0.6655, Precision = 0.4684, Recall = 0.4130, F1-Score = 0.4255\n",
      "Epoch 1: Train Loss = 0.8611, Train Accuracy = 0.6715, Val Loss = 0.8838, Val Accuracy = 0.6655\n"
     ]
    },
    {
     "data": {
      "application/vnd.jupyter.widget-view+json": {
       "model_id": "61092358f6fc42d4b4b22c304a43b2b4",
       "version_major": 2,
       "version_minor": 0
      },
      "text/plain": [
       "Epoch 2/50:   0%|          | 0/1495 [00:00<?, ?it/s]"
      ]
     },
     "metadata": {},
     "output_type": "display_data"
    },
    {
     "name": "stdout",
     "output_type": "stream",
     "text": [
      "Validation Metrics: Accuracy = 0.6954, Precision = 0.4445, Recall = 0.3661, F1-Score = 0.3744\n",
      "Epoch 2: Train Loss = 0.6995, Train Accuracy = 0.7212, Val Loss = 0.8653, Val Accuracy = 0.6954\n"
     ]
    },
    {
     "data": {
      "application/vnd.jupyter.widget-view+json": {
       "model_id": "d00830bf92a3468eb88039de71e0059e",
       "version_major": 2,
       "version_minor": 0
      },
      "text/plain": [
       "Epoch 3/50:   0%|          | 0/1495 [00:00<?, ?it/s]"
      ]
     },
     "metadata": {},
     "output_type": "display_data"
    },
    {
     "name": "stdout",
     "output_type": "stream",
     "text": [
      "Validation Metrics: Accuracy = 0.6920, Precision = 0.4735, Recall = 0.3685, F1-Score = 0.3885\n",
      "Epoch 3: Train Loss = 0.6474, Train Accuracy = 0.7423, Val Loss = 0.9502, Val Accuracy = 0.6920\n"
     ]
    },
    {
     "data": {
      "application/vnd.jupyter.widget-view+json": {
       "model_id": "b525a4907bfc44d5bc51a77c7ba43ed4",
       "version_major": 2,
       "version_minor": 0
      },
      "text/plain": [
       "Epoch 4/50:   0%|          | 0/1495 [00:00<?, ?it/s]"
      ]
     },
     "metadata": {},
     "output_type": "display_data"
    },
    {
     "name": "stdout",
     "output_type": "stream",
     "text": [
      "Validation Metrics: Accuracy = 0.6980, Precision = 0.4552, Recall = 0.4358, F1-Score = 0.4282\n",
      "Epoch 4: Train Loss = 0.6029, Train Accuracy = 0.7594, Val Loss = 0.9684, Val Accuracy = 0.6980\n"
     ]
    },
    {
     "data": {
      "application/vnd.jupyter.widget-view+json": {
       "model_id": "3187a60f22284a90894a7ebe00f98aea",
       "version_major": 2,
       "version_minor": 0
      },
      "text/plain": [
       "Epoch 5/50:   0%|          | 0/1495 [00:00<?, ?it/s]"
      ]
     },
     "metadata": {},
     "output_type": "display_data"
    },
    {
     "name": "stdout",
     "output_type": "stream",
     "text": [
      "Validation Metrics: Accuracy = 0.7038, Precision = 0.4619, Recall = 0.4277, F1-Score = 0.4340\n",
      "Epoch 5: Train Loss = 0.5673, Train Accuracy = 0.7733, Val Loss = 1.0114, Val Accuracy = 0.7038\n"
     ]
    },
    {
     "data": {
      "application/vnd.jupyter.widget-view+json": {
       "model_id": "60276951ddda4561b2cd15e875ea8d49",
       "version_major": 2,
       "version_minor": 0
      },
      "text/plain": [
       "Epoch 6/50:   0%|          | 0/1495 [00:00<?, ?it/s]"
      ]
     },
     "metadata": {},
     "output_type": "display_data"
    },
    {
     "name": "stdout",
     "output_type": "stream",
     "text": [
      "Validation Metrics: Accuracy = 0.7083, Precision = 0.4790, Recall = 0.4080, F1-Score = 0.4273\n",
      "Epoch 6: Train Loss = 0.5344, Train Accuracy = 0.7874, Val Loss = 1.0751, Val Accuracy = 0.7083\n"
     ]
    },
    {
     "data": {
      "application/vnd.jupyter.widget-view+json": {
       "model_id": "cefc51b9b7d848f782cb3dea76ac1ac9",
       "version_major": 2,
       "version_minor": 0
      },
      "text/plain": [
       "Epoch 7/50:   0%|          | 0/1495 [00:00<?, ?it/s]"
      ]
     },
     "metadata": {},
     "output_type": "display_data"
    },
    {
     "name": "stdout",
     "output_type": "stream",
     "text": [
      "Validation Metrics: Accuracy = 0.7187, Precision = 0.5031, Recall = 0.4105, F1-Score = 0.4232\n",
      "Epoch 7: Train Loss = 0.5035, Train Accuracy = 0.8001, Val Loss = 1.0979, Val Accuracy = 0.7187\n"
     ]
    },
    {
     "data": {
      "application/vnd.jupyter.widget-view+json": {
       "model_id": "7ac0291c9f754ac982120071ec4c8ae6",
       "version_major": 2,
       "version_minor": 0
      },
      "text/plain": [
       "Epoch 8/50:   0%|          | 0/1495 [00:00<?, ?it/s]"
      ]
     },
     "metadata": {},
     "output_type": "display_data"
    },
    {
     "name": "stdout",
     "output_type": "stream",
     "text": [
      "Validation Metrics: Accuracy = 0.7007, Precision = 0.4674, Recall = 0.3568, F1-Score = 0.3732\n",
      "Epoch 8: Train Loss = 0.4743, Train Accuracy = 0.8118, Val Loss = 0.9746, Val Accuracy = 0.7007\n"
     ]
    },
    {
     "data": {
      "application/vnd.jupyter.widget-view+json": {
       "model_id": "832f4a32c8a34ae1959341816a6673d4",
       "version_major": 2,
       "version_minor": 0
      },
      "text/plain": [
       "Epoch 9/50:   0%|          | 0/1495 [00:00<?, ?it/s]"
      ]
     },
     "metadata": {},
     "output_type": "display_data"
    },
    {
     "name": "stdout",
     "output_type": "stream",
     "text": [
      "Validation Metrics: Accuracy = 0.7075, Precision = 0.4892, Recall = 0.4275, F1-Score = 0.4481\n",
      "Epoch 9: Train Loss = 0.4481, Train Accuracy = 0.8237, Val Loss = 1.0680, Val Accuracy = 0.7075\n"
     ]
    },
    {
     "data": {
      "application/vnd.jupyter.widget-view+json": {
       "model_id": "220d7d5c9ce54a91b12f0edf28b812b5",
       "version_major": 2,
       "version_minor": 0
      },
      "text/plain": [
       "Epoch 10/50:   0%|          | 0/1495 [00:00<?, ?it/s]"
      ]
     },
     "metadata": {},
     "output_type": "display_data"
    },
    {
     "name": "stdout",
     "output_type": "stream",
     "text": [
      "Validation Metrics: Accuracy = 0.7111, Precision = 0.4592, Recall = 0.4426, F1-Score = 0.4390\n",
      "Epoch 10: Train Loss = 0.4255, Train Accuracy = 0.8326, Val Loss = 1.0000, Val Accuracy = 0.7111\n"
     ]
    },
    {
     "data": {
      "application/vnd.jupyter.widget-view+json": {
       "model_id": "8088fba140a447dcb50ea68e14e0dad0",
       "version_major": 2,
       "version_minor": 0
      },
      "text/plain": [
       "Epoch 11/50:   0%|          | 0/1495 [00:00<?, ?it/s]"
      ]
     },
     "metadata": {},
     "output_type": "display_data"
    },
    {
     "name": "stdout",
     "output_type": "stream",
     "text": [
      "Validation Metrics: Accuracy = 0.7175, Precision = 0.5068, Recall = 0.3938, F1-Score = 0.4206\n",
      "Epoch 11: Train Loss = 0.4006, Train Accuracy = 0.8415, Val Loss = 1.1062, Val Accuracy = 0.7175\n"
     ]
    },
    {
     "data": {
      "application/vnd.jupyter.widget-view+json": {
       "model_id": "0dc139e20e414f63a8cb781971419117",
       "version_major": 2,
       "version_minor": 0
      },
      "text/plain": [
       "Epoch 12/50:   0%|          | 0/1495 [00:00<?, ?it/s]"
      ]
     },
     "metadata": {},
     "output_type": "display_data"
    },
    {
     "name": "stdout",
     "output_type": "stream",
     "text": [
      "Validation Metrics: Accuracy = 0.7053, Precision = 0.4825, Recall = 0.4459, F1-Score = 0.4538\n",
      "Epoch 12: Train Loss = 0.3777, Train Accuracy = 0.8516, Val Loss = 1.1199, Val Accuracy = 0.7053\n"
     ]
    },
    {
     "data": {
      "application/vnd.jupyter.widget-view+json": {
       "model_id": "480b42fdbed445108d8c00893606fc3c",
       "version_major": 2,
       "version_minor": 0
      },
      "text/plain": [
       "Epoch 13/50:   0%|          | 0/1495 [00:00<?, ?it/s]"
      ]
     },
     "metadata": {},
     "output_type": "display_data"
    },
    {
     "name": "stdout",
     "output_type": "stream",
     "text": [
      "Validation Metrics: Accuracy = 0.7159, Precision = 0.5015, Recall = 0.3950, F1-Score = 0.4153\n",
      "Epoch 13: Train Loss = 0.3614, Train Accuracy = 0.8578, Val Loss = 1.2523, Val Accuracy = 0.7159\n"
     ]
    },
    {
     "data": {
      "application/vnd.jupyter.widget-view+json": {
       "model_id": "6e54623b45fc403a83357aac9c3c239f",
       "version_major": 2,
       "version_minor": 0
      },
      "text/plain": [
       "Epoch 14/50:   0%|          | 0/1495 [00:00<?, ?it/s]"
      ]
     },
     "metadata": {},
     "output_type": "display_data"
    },
    {
     "name": "stdout",
     "output_type": "stream",
     "text": [
      "Validation Metrics: Accuracy = 0.7073, Precision = 0.4907, Recall = 0.4085, F1-Score = 0.4270\n",
      "Epoch 14: Train Loss = 0.3427, Train Accuracy = 0.8649, Val Loss = 1.2501, Val Accuracy = 0.7073\n"
     ]
    },
    {
     "data": {
      "application/vnd.jupyter.widget-view+json": {
       "model_id": "2c3550ac584449f7873e048cae752a8e",
       "version_major": 2,
       "version_minor": 0
      },
      "text/plain": [
       "Epoch 15/50:   0%|          | 0/1495 [00:00<?, ?it/s]"
      ]
     },
     "metadata": {},
     "output_type": "display_data"
    },
    {
     "name": "stdout",
     "output_type": "stream",
     "text": [
      "Validation Metrics: Accuracy = 0.7021, Precision = 0.4730, Recall = 0.4269, F1-Score = 0.4398\n",
      "Epoch 15: Train Loss = 0.3215, Train Accuracy = 0.8717, Val Loss = 1.2086, Val Accuracy = 0.7021\n"
     ]
    },
    {
     "data": {
      "application/vnd.jupyter.widget-view+json": {
       "model_id": "d8600677fbc44196ba263baabc81de09",
       "version_major": 2,
       "version_minor": 0
      },
      "text/plain": [
       "Epoch 16/50:   0%|          | 0/1495 [00:00<?, ?it/s]"
      ]
     },
     "metadata": {},
     "output_type": "display_data"
    },
    {
     "name": "stdout",
     "output_type": "stream",
     "text": [
      "Validation Metrics: Accuracy = 0.7181, Precision = 0.4833, Recall = 0.4302, F1-Score = 0.4399\n",
      "Epoch 16: Train Loss = 0.3060, Train Accuracy = 0.8790, Val Loss = 1.2368, Val Accuracy = 0.7181\n"
     ]
    },
    {
     "data": {
      "application/vnd.jupyter.widget-view+json": {
       "model_id": "d2935546c965446eae10b68c9f62c6f9",
       "version_major": 2,
       "version_minor": 0
      },
      "text/plain": [
       "Epoch 17/50:   0%|          | 0/1495 [00:00<?, ?it/s]"
      ]
     },
     "metadata": {},
     "output_type": "display_data"
    },
    {
     "name": "stdout",
     "output_type": "stream",
     "text": [
      "Validation Metrics: Accuracy = 0.7141, Precision = 0.5200, Recall = 0.4300, F1-Score = 0.4524\n",
      "Epoch 17: Train Loss = 0.2898, Train Accuracy = 0.8851, Val Loss = 1.3009, Val Accuracy = 0.7141\n"
     ]
    },
    {
     "data": {
      "application/vnd.jupyter.widget-view+json": {
       "model_id": "49005bf220a64b41b2f2c2adf40cdea7",
       "version_major": 2,
       "version_minor": 0
      },
      "text/plain": [
       "Epoch 18/50:   0%|          | 0/1495 [00:00<?, ?it/s]"
      ]
     },
     "metadata": {},
     "output_type": "display_data"
    },
    {
     "name": "stdout",
     "output_type": "stream",
     "text": [
      "Validation Metrics: Accuracy = 0.7206, Precision = 0.5013, Recall = 0.4233, F1-Score = 0.4459\n",
      "Epoch 18: Train Loss = 0.2749, Train Accuracy = 0.8914, Val Loss = 1.4014, Val Accuracy = 0.7206\n"
     ]
    },
    {
     "data": {
      "application/vnd.jupyter.widget-view+json": {
       "model_id": "8614c1be30b44c89ba1614d82868e835",
       "version_major": 2,
       "version_minor": 0
      },
      "text/plain": [
       "Epoch 19/50:   0%|          | 0/1495 [00:00<?, ?it/s]"
      ]
     },
     "metadata": {},
     "output_type": "display_data"
    },
    {
     "name": "stdout",
     "output_type": "stream",
     "text": [
      "Validation Metrics: Accuracy = 0.7065, Precision = 0.5056, Recall = 0.4048, F1-Score = 0.4263\n",
      "Epoch 19: Train Loss = 0.2591, Train Accuracy = 0.8970, Val Loss = 1.3558, Val Accuracy = 0.7065\n"
     ]
    },
    {
     "data": {
      "application/vnd.jupyter.widget-view+json": {
       "model_id": "d2b349261e324aad82a41605b0fd6889",
       "version_major": 2,
       "version_minor": 0
      },
      "text/plain": [
       "Epoch 20/50:   0%|          | 0/1495 [00:00<?, ?it/s]"
      ]
     },
     "metadata": {},
     "output_type": "display_data"
    },
    {
     "name": "stdout",
     "output_type": "stream",
     "text": [
      "Validation Metrics: Accuracy = 0.7263, Precision = 0.4956, Recall = 0.4148, F1-Score = 0.4219\n",
      "Epoch 20: Train Loss = 0.2475, Train Accuracy = 0.9017, Val Loss = 1.3826, Val Accuracy = 0.7263\n"
     ]
    },
    {
     "data": {
      "application/vnd.jupyter.widget-view+json": {
       "model_id": "5c760f1337ac4617aec1d32ffa1f8d1f",
       "version_major": 2,
       "version_minor": 0
      },
      "text/plain": [
       "Epoch 21/50:   0%|          | 0/1495 [00:00<?, ?it/s]"
      ]
     },
     "metadata": {},
     "output_type": "display_data"
    },
    {
     "name": "stdout",
     "output_type": "stream",
     "text": [
      "Validation Metrics: Accuracy = 0.7083, Precision = 0.4824, Recall = 0.4148, F1-Score = 0.4369\n",
      "Epoch 21: Train Loss = 0.2366, Train Accuracy = 0.9069, Val Loss = 1.4286, Val Accuracy = 0.7083\n"
     ]
    },
    {
     "data": {
      "application/vnd.jupyter.widget-view+json": {
       "model_id": "4aedbc548e74438b99c0f4670194a8bd",
       "version_major": 2,
       "version_minor": 0
      },
      "text/plain": [
       "Epoch 22/50:   0%|          | 0/1495 [00:00<?, ?it/s]"
      ]
     },
     "metadata": {},
     "output_type": "display_data"
    },
    {
     "name": "stdout",
     "output_type": "stream",
     "text": [
      "Validation Metrics: Accuracy = 0.7082, Precision = 0.4705, Recall = 0.4371, F1-Score = 0.4409\n",
      "Epoch 22: Train Loss = 0.2231, Train Accuracy = 0.9114, Val Loss = 1.5333, Val Accuracy = 0.7082\n"
     ]
    },
    {
     "data": {
      "application/vnd.jupyter.widget-view+json": {
       "model_id": "d9f3ba2a1043454fa8d9cde9f03c5d70",
       "version_major": 2,
       "version_minor": 0
      },
      "text/plain": [
       "Epoch 23/50:   0%|          | 0/1495 [00:00<?, ?it/s]"
      ]
     },
     "metadata": {},
     "output_type": "display_data"
    },
    {
     "name": "stdout",
     "output_type": "stream",
     "text": [
      "Validation Metrics: Accuracy = 0.7058, Precision = 0.4901, Recall = 0.4152, F1-Score = 0.4353\n",
      "Epoch 23: Train Loss = 0.2123, Train Accuracy = 0.9153, Val Loss = 1.5688, Val Accuracy = 0.7058\n"
     ]
    },
    {
     "data": {
      "application/vnd.jupyter.widget-view+json": {
       "model_id": "448bb57f49fb4493953bd4e0e2b920cc",
       "version_major": 2,
       "version_minor": 0
      },
      "text/plain": [
       "Epoch 24/50:   0%|          | 0/1495 [00:00<?, ?it/s]"
      ]
     },
     "metadata": {},
     "output_type": "display_data"
    },
    {
     "name": "stdout",
     "output_type": "stream",
     "text": [
      "Validation Metrics: Accuracy = 0.7147, Precision = 0.4844, Recall = 0.4131, F1-Score = 0.4331\n",
      "Epoch 24: Train Loss = 0.2002, Train Accuracy = 0.9205, Val Loss = 1.5704, Val Accuracy = 0.7147\n"
     ]
    },
    {
     "data": {
      "application/vnd.jupyter.widget-view+json": {
       "model_id": "632359f1042047e9aad59f458ef3e0bc",
       "version_major": 2,
       "version_minor": 0
      },
      "text/plain": [
       "Epoch 25/50:   0%|          | 0/1495 [00:00<?, ?it/s]"
      ]
     },
     "metadata": {},
     "output_type": "display_data"
    },
    {
     "name": "stdout",
     "output_type": "stream",
     "text": [
      "Validation Metrics: Accuracy = 0.6975, Precision = 0.4849, Recall = 0.4093, F1-Score = 0.4282\n",
      "Epoch 25: Train Loss = 0.1907, Train Accuracy = 0.9236, Val Loss = 1.7004, Val Accuracy = 0.6975\n"
     ]
    },
    {
     "data": {
      "application/vnd.jupyter.widget-view+json": {
       "model_id": "ae74ed2bb6874e83a473c31a595a9b8a",
       "version_major": 2,
       "version_minor": 0
      },
      "text/plain": [
       "Epoch 26/50:   0%|          | 0/1495 [00:00<?, ?it/s]"
      ]
     },
     "metadata": {},
     "output_type": "display_data"
    },
    {
     "name": "stdout",
     "output_type": "stream",
     "text": [
      "Validation Metrics: Accuracy = 0.7110, Precision = 0.5027, Recall = 0.4077, F1-Score = 0.4338\n",
      "Epoch 26: Train Loss = 0.1825, Train Accuracy = 0.9275, Val Loss = 1.6098, Val Accuracy = 0.7110\n"
     ]
    },
    {
     "data": {
      "application/vnd.jupyter.widget-view+json": {
       "model_id": "c40dc9ae543141ff9665a706f74a79da",
       "version_major": 2,
       "version_minor": 0
      },
      "text/plain": [
       "Epoch 27/50:   0%|          | 0/1495 [00:00<?, ?it/s]"
      ]
     },
     "metadata": {},
     "output_type": "display_data"
    },
    {
     "name": "stdout",
     "output_type": "stream",
     "text": [
      "Validation Metrics: Accuracy = 0.7115, Precision = 0.4791, Recall = 0.4386, F1-Score = 0.4528\n",
      "Epoch 27: Train Loss = 0.1725, Train Accuracy = 0.9322, Val Loss = 1.4967, Val Accuracy = 0.7115\n"
     ]
    },
    {
     "data": {
      "application/vnd.jupyter.widget-view+json": {
       "model_id": "3a0e97c221de4719a86e3a834034c0a9",
       "version_major": 2,
       "version_minor": 0
      },
      "text/plain": [
       "Epoch 28/50:   0%|          | 0/1495 [00:00<?, ?it/s]"
      ]
     },
     "metadata": {},
     "output_type": "display_data"
    },
    {
     "name": "stdout",
     "output_type": "stream",
     "text": [
      "Validation Metrics: Accuracy = 0.7085, Precision = 0.4717, Recall = 0.4166, F1-Score = 0.4262\n",
      "Epoch 28: Train Loss = 0.1621, Train Accuracy = 0.9360, Val Loss = 1.8371, Val Accuracy = 0.7085\n"
     ]
    },
    {
     "data": {
      "application/vnd.jupyter.widget-view+json": {
       "model_id": "4ccb03dfe2304f7f99ef8cb6e922bec6",
       "version_major": 2,
       "version_minor": 0
      },
      "text/plain": [
       "Epoch 29/50:   0%|          | 0/1495 [00:00<?, ?it/s]"
      ]
     },
     "metadata": {},
     "output_type": "display_data"
    },
    {
     "name": "stdout",
     "output_type": "stream",
     "text": [
      "Validation Metrics: Accuracy = 0.7157, Precision = 0.5020, Recall = 0.4172, F1-Score = 0.4384\n",
      "Epoch 29: Train Loss = 0.1570, Train Accuracy = 0.9383, Val Loss = 1.7310, Val Accuracy = 0.7157\n"
     ]
    },
    {
     "data": {
      "application/vnd.jupyter.widget-view+json": {
       "model_id": "04b04cea35c34047846c5d3bbadc1be7",
       "version_major": 2,
       "version_minor": 0
      },
      "text/plain": [
       "Epoch 30/50:   0%|          | 0/1495 [00:00<?, ?it/s]"
      ]
     },
     "metadata": {},
     "output_type": "display_data"
    },
    {
     "name": "stdout",
     "output_type": "stream",
     "text": [
      "Validation Metrics: Accuracy = 0.6995, Precision = 0.4868, Recall = 0.4146, F1-Score = 0.4349\n",
      "Epoch 30: Train Loss = 0.1501, Train Accuracy = 0.9411, Val Loss = 1.8329, Val Accuracy = 0.6995\n"
     ]
    },
    {
     "data": {
      "application/vnd.jupyter.widget-view+json": {
       "model_id": "e089504f8ff24c98925e134c5bb1a78f",
       "version_major": 2,
       "version_minor": 0
      },
      "text/plain": [
       "Epoch 31/50:   0%|          | 0/1495 [00:00<?, ?it/s]"
      ]
     },
     "metadata": {},
     "output_type": "display_data"
    },
    {
     "name": "stdout",
     "output_type": "stream",
     "text": [
      "Validation Metrics: Accuracy = 0.7196, Precision = 0.5239, Recall = 0.4201, F1-Score = 0.4408\n",
      "Epoch 31: Train Loss = 0.1474, Train Accuracy = 0.9423, Val Loss = 1.8584, Val Accuracy = 0.7196\n"
     ]
    },
    {
     "data": {
      "application/vnd.jupyter.widget-view+json": {
       "model_id": "b2bc6e23438a4118b93dbe4a267f30de",
       "version_major": 2,
       "version_minor": 0
      },
      "text/plain": [
       "Epoch 32/50:   0%|          | 0/1495 [00:00<?, ?it/s]"
      ]
     },
     "metadata": {},
     "output_type": "display_data"
    },
    {
     "name": "stdout",
     "output_type": "stream",
     "text": [
      "Validation Metrics: Accuracy = 0.7095, Precision = 0.4779, Recall = 0.4292, F1-Score = 0.4419\n",
      "Epoch 32: Train Loss = 0.1339, Train Accuracy = 0.9485, Val Loss = 1.8280, Val Accuracy = 0.7095\n"
     ]
    },
    {
     "data": {
      "application/vnd.jupyter.widget-view+json": {
       "model_id": "1c59e6cd9e664bdabc52f4dc43e9ddf3",
       "version_major": 2,
       "version_minor": 0
      },
      "text/plain": [
       "Epoch 33/50:   0%|          | 0/1495 [00:00<?, ?it/s]"
      ]
     },
     "metadata": {},
     "output_type": "display_data"
    },
    {
     "name": "stdout",
     "output_type": "stream",
     "text": [
      "Validation Metrics: Accuracy = 0.7136, Precision = 0.5098, Recall = 0.3948, F1-Score = 0.4228\n",
      "Epoch 33: Train Loss = 0.1332, Train Accuracy = 0.9484, Val Loss = 1.9468, Val Accuracy = 0.7136\n"
     ]
    },
    {
     "data": {
      "application/vnd.jupyter.widget-view+json": {
       "model_id": "fbde4bf068f24546b41c73276af70abc",
       "version_major": 2,
       "version_minor": 0
      },
      "text/plain": [
       "Epoch 34/50:   0%|          | 0/1495 [00:00<?, ?it/s]"
      ]
     },
     "metadata": {},
     "output_type": "display_data"
    },
    {
     "name": "stdout",
     "output_type": "stream",
     "text": [
      "Validation Metrics: Accuracy = 0.7151, Precision = 0.4877, Recall = 0.4212, F1-Score = 0.4418\n",
      "Epoch 34: Train Loss = 0.1265, Train Accuracy = 0.9502, Val Loss = 1.9153, Val Accuracy = 0.7151\n"
     ]
    },
    {
     "data": {
      "application/vnd.jupyter.widget-view+json": {
       "model_id": "d3f6bb39ba8743d4a03ef57690a2c298",
       "version_major": 2,
       "version_minor": 0
      },
      "text/plain": [
       "Epoch 35/50:   0%|          | 0/1495 [00:00<?, ?it/s]"
      ]
     },
     "metadata": {},
     "output_type": "display_data"
    },
    {
     "name": "stdout",
     "output_type": "stream",
     "text": [
      "Validation Metrics: Accuracy = 0.7139, Precision = 0.4909, Recall = 0.4161, F1-Score = 0.4351\n",
      "Epoch 35: Train Loss = 0.1213, Train Accuracy = 0.9532, Val Loss = 1.9780, Val Accuracy = 0.7139\n"
     ]
    },
    {
     "data": {
      "application/vnd.jupyter.widget-view+json": {
       "model_id": "619003f8a9294496b7a8aab6d0d04e54",
       "version_major": 2,
       "version_minor": 0
      },
      "text/plain": [
       "Epoch 36/50:   0%|          | 0/1495 [00:00<?, ?it/s]"
      ]
     },
     "metadata": {},
     "output_type": "display_data"
    },
    {
     "name": "stdout",
     "output_type": "stream",
     "text": [
      "Validation Metrics: Accuracy = 0.7082, Precision = 0.5100, Recall = 0.4244, F1-Score = 0.4467\n",
      "Epoch 36: Train Loss = 0.1189, Train Accuracy = 0.9536, Val Loss = 1.9899, Val Accuracy = 0.7082\n"
     ]
    },
    {
     "data": {
      "application/vnd.jupyter.widget-view+json": {
       "model_id": "d67c547afbd9421eb3e0b6a7c803f458",
       "version_major": 2,
       "version_minor": 0
      },
      "text/plain": [
       "Epoch 37/50:   0%|          | 0/1495 [00:00<?, ?it/s]"
      ]
     },
     "metadata": {},
     "output_type": "display_data"
    },
    {
     "name": "stdout",
     "output_type": "stream",
     "text": [
      "Validation Metrics: Accuracy = 0.7181, Precision = 0.4911, Recall = 0.4089, F1-Score = 0.4290\n",
      "Epoch 37: Train Loss = 0.1135, Train Accuracy = 0.9567, Val Loss = 2.0036, Val Accuracy = 0.7181\n"
     ]
    },
    {
     "data": {
      "application/vnd.jupyter.widget-view+json": {
       "model_id": "1a80294bc9fd42ac98e6214f28d29535",
       "version_major": 2,
       "version_minor": 0
      },
      "text/plain": [
       "Epoch 38/50:   0%|          | 0/1495 [00:00<?, ?it/s]"
      ]
     },
     "metadata": {},
     "output_type": "display_data"
    },
    {
     "name": "stdout",
     "output_type": "stream",
     "text": [
      "Validation Metrics: Accuracy = 0.7074, Precision = 0.4699, Recall = 0.4377, F1-Score = 0.4476\n",
      "Epoch 38: Train Loss = 0.1102, Train Accuracy = 0.9580, Val Loss = 1.8726, Val Accuracy = 0.7074\n"
     ]
    },
    {
     "data": {
      "application/vnd.jupyter.widget-view+json": {
       "model_id": "bf8d69d9272344d397dc868929378754",
       "version_major": 2,
       "version_minor": 0
      },
      "text/plain": [
       "Epoch 39/50:   0%|          | 0/1495 [00:00<?, ?it/s]"
      ]
     },
     "metadata": {},
     "output_type": "display_data"
    },
    {
     "name": "stdout",
     "output_type": "stream",
     "text": [
      "Validation Metrics: Accuracy = 0.7109, Precision = 0.5014, Recall = 0.3974, F1-Score = 0.4243\n",
      "Epoch 39: Train Loss = 0.1035, Train Accuracy = 0.9599, Val Loss = 2.2258, Val Accuracy = 0.7109\n"
     ]
    },
    {
     "data": {
      "application/vnd.jupyter.widget-view+json": {
       "model_id": "cd09548e233543378ee5b7b2e210ddf3",
       "version_major": 2,
       "version_minor": 0
      },
      "text/plain": [
       "Epoch 40/50:   0%|          | 0/1495 [00:00<?, ?it/s]"
      ]
     },
     "metadata": {},
     "output_type": "display_data"
    },
    {
     "name": "stdout",
     "output_type": "stream",
     "text": [
      "Validation Metrics: Accuracy = 0.7018, Precision = 0.4824, Recall = 0.4343, F1-Score = 0.4476\n",
      "Epoch 40: Train Loss = 0.1040, Train Accuracy = 0.9596, Val Loss = 2.0707, Val Accuracy = 0.7018\n"
     ]
    },
    {
     "data": {
      "application/vnd.jupyter.widget-view+json": {
       "model_id": "fb9d955c3669420b84bb610d28f09e00",
       "version_major": 2,
       "version_minor": 0
      },
      "text/plain": [
       "Epoch 41/50:   0%|          | 0/1495 [00:00<?, ?it/s]"
      ]
     },
     "metadata": {},
     "output_type": "display_data"
    },
    {
     "name": "stdout",
     "output_type": "stream",
     "text": [
      "Validation Metrics: Accuracy = 0.6900, Precision = 0.4856, Recall = 0.4301, F1-Score = 0.4404\n",
      "Epoch 41: Train Loss = 0.0978, Train Accuracy = 0.9623, Val Loss = 2.1312, Val Accuracy = 0.6900\n"
     ]
    },
    {
     "data": {
      "application/vnd.jupyter.widget-view+json": {
       "model_id": "4666dab88322489ab343332124ad8b94",
       "version_major": 2,
       "version_minor": 0
      },
      "text/plain": [
       "Epoch 42/50:   0%|          | 0/1495 [00:00<?, ?it/s]"
      ]
     },
     "metadata": {},
     "output_type": "display_data"
    },
    {
     "name": "stdout",
     "output_type": "stream",
     "text": [
      "Validation Metrics: Accuracy = 0.6954, Precision = 0.4766, Recall = 0.4346, F1-Score = 0.4498\n",
      "Epoch 42: Train Loss = 0.0957, Train Accuracy = 0.9641, Val Loss = 2.0343, Val Accuracy = 0.6954\n"
     ]
    },
    {
     "data": {
      "application/vnd.jupyter.widget-view+json": {
       "model_id": "0fa90d53e69c49469ca6779af3df3ebd",
       "version_major": 2,
       "version_minor": 0
      },
      "text/plain": [
       "Epoch 43/50:   0%|          | 0/1495 [00:00<?, ?it/s]"
      ]
     },
     "metadata": {},
     "output_type": "display_data"
    },
    {
     "name": "stdout",
     "output_type": "stream",
     "text": [
      "Validation Metrics: Accuracy = 0.6943, Precision = 0.4703, Recall = 0.4447, F1-Score = 0.4534\n",
      "Epoch 43: Train Loss = 0.0923, Train Accuracy = 0.9645, Val Loss = 2.0169, Val Accuracy = 0.6943\n"
     ]
    },
    {
     "data": {
      "application/vnd.jupyter.widget-view+json": {
       "model_id": "d0f22ceaf2c54ddcaf24e397688682f9",
       "version_major": 2,
       "version_minor": 0
      },
      "text/plain": [
       "Epoch 44/50:   0%|          | 0/1495 [00:00<?, ?it/s]"
      ]
     },
     "metadata": {},
     "output_type": "display_data"
    },
    {
     "name": "stdout",
     "output_type": "stream",
     "text": [
      "Validation Metrics: Accuracy = 0.7085, Precision = 0.4758, Recall = 0.4282, F1-Score = 0.4451\n",
      "Epoch 44: Train Loss = 0.0890, Train Accuracy = 0.9662, Val Loss = 2.1173, Val Accuracy = 0.7085\n"
     ]
    },
    {
     "data": {
      "application/vnd.jupyter.widget-view+json": {
       "model_id": "b72420994140451789fca61f9b70198f",
       "version_major": 2,
       "version_minor": 0
      },
      "text/plain": [
       "Epoch 45/50:   0%|          | 0/1495 [00:00<?, ?it/s]"
      ]
     },
     "metadata": {},
     "output_type": "display_data"
    },
    {
     "name": "stdout",
     "output_type": "stream",
     "text": [
      "Validation Metrics: Accuracy = 0.7162, Precision = 0.4920, Recall = 0.4168, F1-Score = 0.4383\n",
      "Epoch 45: Train Loss = 0.0910, Train Accuracy = 0.9642, Val Loss = 2.1665, Val Accuracy = 0.7162\n"
     ]
    },
    {
     "data": {
      "application/vnd.jupyter.widget-view+json": {
       "model_id": "d9c4f644b37c43039f671aab9a48476f",
       "version_major": 2,
       "version_minor": 0
      },
      "text/plain": [
       "Epoch 46/50:   0%|          | 0/1495 [00:00<?, ?it/s]"
      ]
     },
     "metadata": {},
     "output_type": "display_data"
    },
    {
     "name": "stdout",
     "output_type": "stream",
     "text": [
      "Validation Metrics: Accuracy = 0.7034, Precision = 0.4864, Recall = 0.4376, F1-Score = 0.4516\n",
      "Epoch 46: Train Loss = 0.0867, Train Accuracy = 0.9667, Val Loss = 2.0759, Val Accuracy = 0.7034\n"
     ]
    },
    {
     "data": {
      "application/vnd.jupyter.widget-view+json": {
       "model_id": "045cce64472b4115bed9ef9ffa407bb1",
       "version_major": 2,
       "version_minor": 0
      },
      "text/plain": [
       "Epoch 47/50:   0%|          | 0/1495 [00:00<?, ?it/s]"
      ]
     },
     "metadata": {},
     "output_type": "display_data"
    },
    {
     "name": "stdout",
     "output_type": "stream",
     "text": [
      "Validation Metrics: Accuracy = 0.6846, Precision = 0.4783, Recall = 0.4231, F1-Score = 0.4348\n",
      "Epoch 47: Train Loss = 0.0838, Train Accuracy = 0.9679, Val Loss = 2.1865, Val Accuracy = 0.6846\n"
     ]
    },
    {
     "data": {
      "application/vnd.jupyter.widget-view+json": {
       "model_id": "958d4e1e0b5b452f96a63b2e180d248f",
       "version_major": 2,
       "version_minor": 0
      },
      "text/plain": [
       "Epoch 48/50:   0%|          | 0/1495 [00:00<?, ?it/s]"
      ]
     },
     "metadata": {},
     "output_type": "display_data"
    },
    {
     "name": "stdout",
     "output_type": "stream",
     "text": [
      "Validation Metrics: Accuracy = 0.7012, Precision = 0.4886, Recall = 0.4312, F1-Score = 0.4476\n",
      "Epoch 48: Train Loss = 0.0844, Train Accuracy = 0.9673, Val Loss = 2.2295, Val Accuracy = 0.7012\n"
     ]
    },
    {
     "data": {
      "application/vnd.jupyter.widget-view+json": {
       "model_id": "4783ce4fbd434c07b5e5dcb0ed424c22",
       "version_major": 2,
       "version_minor": 0
      },
      "text/plain": [
       "Epoch 49/50:   0%|          | 0/1495 [00:00<?, ?it/s]"
      ]
     },
     "metadata": {},
     "output_type": "display_data"
    },
    {
     "name": "stdout",
     "output_type": "stream",
     "text": [
      "Validation Metrics: Accuracy = 0.7003, Precision = 0.5005, Recall = 0.4274, F1-Score = 0.4421\n",
      "Epoch 49: Train Loss = 0.0806, Train Accuracy = 0.9689, Val Loss = 2.2891, Val Accuracy = 0.7003\n"
     ]
    },
    {
     "data": {
      "application/vnd.jupyter.widget-view+json": {
       "model_id": "4412de56a21548d9a5dcd276a89dd870",
       "version_major": 2,
       "version_minor": 0
      },
      "text/plain": [
       "Epoch 50/50:   0%|          | 0/1495 [00:00<?, ?it/s]"
      ]
     },
     "metadata": {},
     "output_type": "display_data"
    },
    {
     "name": "stdout",
     "output_type": "stream",
     "text": [
      "Validation Metrics: Accuracy = 0.6928, Precision = 0.4936, Recall = 0.4394, F1-Score = 0.4516\n",
      "Epoch 50: Train Loss = 0.0753, Train Accuracy = 0.9713, Val Loss = 2.1754, Val Accuracy = 0.6928\n"
     ]
    }
   ],
   "source": [
    "learner = AdapterLearner(\n",
    "    embedding_dim=768,  # XLM-RoBERTa base embedding dimension\n",
    "    hidden_dims=[512, 256],\n",
    "    learning_rate=1e-4,\n",
    "    batch_size=32,\n",
    "    num_epochs=50\n",
    ")\n",
    "\n",
    "train_losses, val_losses, train_accuracies, val_accuracies = learner.train(train_dataset, dev_dataset)"
   ]
  },
  {
   "cell_type": "code",
   "execution_count": 18,
   "metadata": {
    "id": "UicxmerShQ8b"
   },
   "outputs": [],
   "source": [
    "def plot_performance(train_losses, val_losses, train_accuracies, val_accuracies, num_epochs=50):\n",
    "    epochs = range(1, num_epochs + 1)\n",
    "\n",
    "    plt.figure(figsize=(14, 6))\n",
    "\n",
    "    # Plot Losses\n",
    "    plt.subplot(1, 2, 1)\n",
    "    plt.plot(epochs, train_losses, 'b-', label='Training Loss')\n",
    "    if val_losses:\n",
    "        plt.plot(epochs, val_losses, 'r-', label='Validation Loss')\n",
    "    plt.xlabel('Epoch')\n",
    "    plt.ylabel('Loss')\n",
    "    plt.title('Training and Validation Loss')\n",
    "    plt.legend()\n",
    "\n",
    "    # Plot Accuracies\n",
    "    plt.subplot(1, 2, 2)\n",
    "    plt.plot(epochs, train_accuracies, 'b-', label='Training Accuracy')\n",
    "    if val_accuracies:\n",
    "        plt.plot(epochs, val_accuracies, 'r-', label='Validation Accuracy')\n",
    "    plt.xlabel('Epoch')\n",
    "    plt.ylabel('Accuracy')\n",
    "    plt.title('Training and Validation Accuracy')\n",
    "    plt.legend()\n",
    "\n",
    "    plt.tight_layout()\n",
    "    plt.show()\n"
   ]
  },
  {
   "cell_type": "code",
   "execution_count": 19,
   "metadata": {
    "colab": {
     "base_uri": "https://localhost:8080/",
     "height": 558
    },
    "id": "kiBIv8tMimV9",
    "outputId": "b49425a2-a74c-46b1-a356-551a4cb93ee5"
   },
   "outputs": [
    {
     "data": {
      "image/png": "[encoded data removed]",
      "text/plain": [
       "<Figure size 1400x600 with 2 Axes>"
      ]
     },
     "metadata": {},
     "output_type": "display_data"
    }
   ],
   "source": [
    "plot_performance(train_losses, val_losses, train_accuracies, val_accuracies)"
   ]
  },
  {
   "cell_type": "code",
   "execution_count": 20,
   "metadata": {
    "id": "-0QoytKoin9N"
   },
   "outputs": [],
   "source": [
    "predictions = learner.predict(test_dataset)"
   ]
  },
  {
   "cell_type": "code",
   "execution_count": null,
   "metadata": {},
   "outputs": [],
   "source": [
    "#learner.load_state_dict(torch.load('best_adapter_model.pt'))\n",
    "#learner.eval()"
   ]
  },
  {
   "cell_type": "code",
   "execution_count": 21,
   "metadata": {},
   "outputs": [
    {
     "name": "stdout",
     "output_type": "stream",
     "text": [
      "Saved answer.zip with predictions per language.\n"
     ]
    }
   ],
   "source": [
    "df_test_uses_merged['prediction'] = predictions\n",
    "\n",
    "out_dir = 'answer/'\n",
    "if not os.path.exists(out_dir):\n",
    "    os.mkdir(out_dir)\n",
    "\n",
    "answer_df = df_test_uses_merged[['identifier1', 'identifier2', 'language', 'prediction']].copy()\n",
    "\n",
    "# Saving files per language\n",
    "for language in answer_df[\"language\"].unique():\n",
    "    df_temp = answer_df[answer_df[\"language\"] == language].drop('language', axis=1)\n",
    "    df_temp['prediction'] = label_encoder.inverse_transform(df_temp['prediction'])\n",
    "    df_temp.to_csv(f'{out_dir}{language}.tsv', index=False, sep='\\t', quoting=csv.QUOTE_MINIMAL, quotechar='\"')\n",
    "\n",
    "with ZipFile('answer.zip', 'w') as zipf:\n",
    "    for root, _, files in os.walk(out_dir):\n",
    "        for file in files:\n",
    "            zipf.write(os.path.join(root, file), arcname=file)\n",
    "\n",
    "print(\"Saved answer.zip with predictions per language.\")"
   ]
  },
  {
   "cell_type": "code",
   "execution_count": 17,
   "metadata": {
    "colab": {
     "base_uri": "https://localhost:8080/",
     "height": 241
    },
    "id": "EtISUiJxjzUx",
    "outputId": "9d26204f-024f-4092-f312-bc1c41fc573e"
   },
   "outputs": [
    {
     "data": {
      "text/plain": [
       "prediction\n",
       "4.0    854\n",
       "1.0     11\n",
       "2.0      4\n",
       "3.0      2\n",
       "Name: count, dtype: int64"
      ]
     },
     "execution_count": 17,
     "metadata": {},
     "output_type": "execute_result"
    }
   ],
   "source": [
    "df_temp['prediction'].value_counts()"
   ]
  },
  {
   "cell_type": "code",
   "execution_count": 22,
   "metadata": {},
   "outputs": [
    {
     "name": "stdout",
     "output_type": "stream",
     "text": [
      "Saved truth labels for norwegian at ref/norwegian/labels.tsv\n",
      "Saved truth labels for german at ref/german/labels.tsv\n",
      "Saved truth labels for chinese at ref/chinese/labels.tsv\n",
      "Saved truth labels for spanish at ref/spanish/labels.tsv\n",
      "Saved truth labels for english at ref/english/labels.tsv\n",
      "Saved truth labels for russian at ref/russian/labels.tsv\n",
      "Saved truth labels for swedish at ref/swedish/labels.tsv\n"
     ]
    }
   ],
   "source": [
    "def true_labels(df, ref):\n",
    "  \n",
    "    if not os.path.exists(ref):\n",
    "        os.makedirs(ref)\n",
    "\n",
    "    languages = df['language'].unique()\n",
    "\n",
    "    for language in languages:\n",
    "        lang_df = df[df['language'] == language][['identifier1', 'identifier2', 'median_cleaned']]\n",
    "\n",
    "        lang_dir = os.path.join(ref, language)\n",
    "        if not os.path.exists(lang_dir):\n",
    "            os.makedirs(lang_dir)\n",
    "\n",
    "        lang_file_path = os.path.join(lang_dir, 'labels.tsv')\n",
    "        lang_df.to_csv(lang_file_path, sep='\\t', index=False, quoting=csv.QUOTE_NONE)\n",
    "        print(f\"Saved truth labels for {language} at {lang_file_path}\")\n",
    "\n",
    "true_labels(df_test_uses_merged, 'ref')"
   ]
  },
  {
   "cell_type": "code",
   "execution_count": null,
   "metadata": {},
   "outputs": [],
   "source": []
  },
  {
   "cell_type": "code",
   "execution_count": null,
   "metadata": {},
   "outputs": [],
   "source": []
  },
  {
   "cell_type": "code",
   "execution_count": null,
   "metadata": {},
   "outputs": [],
   "source": []
  },
  {
   "cell_type": "code",
   "execution_count": null,
   "metadata": {},
   "outputs": [],
   "source": []
  },
  {
   "cell_type": "code",
   "execution_count": null,
   "metadata": {
    "id": "vgeaYz5TkFeM"
   },
   "outputs": [],
   "source": []
  },
  {
   "cell_type": "code",
   "execution_count": 14,
   "metadata": {},
   "outputs": [],
   "source": [
    "class AdapterLayer(nn.Module):\n",
    "    \"\"\"\n",
    "    Bottleneck adapter architecture following standard practices:\n",
    "    - Down-project -> Non-linearity -> Up-project\n",
    "    \"\"\"\n",
    "    def __init__(self, input_dim, bottleneck_dim, dropout_rate=0.1):\n",
    "        super().__init__()\n",
    "        self.down_project = nn.Linear(input_dim, bottleneck_dim)\n",
    "        self.up_project = nn.Linear(bottleneck_dim, input_dim)\n",
    "        self.layer_norm = nn.LayerNorm(input_dim)\n",
    "        self.dropout = nn.Dropout(dropout_rate)\n",
    "        self.activation = nn.GELU()\n",
    "\n",
    "    def forward(self, x):\n",
    "        residual = x\n",
    "        x = self.down_project(x)\n",
    "        x = self.activation(x)\n",
    "        x = self.dropout(x)\n",
    "        x = self.up_project(x)\n",
    "        x = self.dropout(x)\n",
    "        x = x + residual  # Residual connection\n",
    "        x = self.layer_norm(x)\n",
    "        return x\n",
    "\n",
    "class AdapterNetwork(nn.Module):\n",
    "    def __init__(\n",
    "        self,\n",
    "        num_classes=4,\n",
    "        embedding_dim=768,\n",
    "        adapter_dim=64,  # Bottleneck dimension\n",
    "        hidden_dims=[512, 256],\n",
    "        dropout_rate=0.2\n",
    "    ):\n",
    "        super().__init__()\n",
    "\n",
    "        # Adapter layers with bottleneck architecture\n",
    "        self.adapter1 = AdapterLayer(\n",
    "            input_dim=embedding_dim,\n",
    "            bottleneck_dim=adapter_dim,\n",
    "            dropout_rate=dropout_rate\n",
    "        )\n",
    "\n",
    "        self.adapter2 = AdapterLayer(\n",
    "            input_dim=embedding_dim,\n",
    "            bottleneck_dim=adapter_dim,\n",
    "            dropout_rate=dropout_rate\n",
    "        )\n",
    "\n",
    "        # Calculate input dimensions\n",
    "        combined_embedding_dim = embedding_dim * 2  # Concatenated adapted embeddings\n",
    "        feature_dim = embedding_dim * 4 + 3  # From CustomDataset.create_features\n",
    "        total_input_dim = combined_embedding_dim + feature_dim\n",
    "\n",
    "        # Build classifier layers with skip connections\n",
    "        self.classifier_layers = nn.ModuleList()\n",
    "        input_dim = total_input_dim\n",
    "\n",
    "        for hidden_dim in hidden_dims:\n",
    "            self.classifier_layers.append(\n",
    "                nn.Sequential(\n",
    "                    nn.Linear(input_dim, hidden_dim),\n",
    "                    nn.LayerNorm(hidden_dim),\n",
    "                    nn.GELU(),\n",
    "                    nn.Dropout(dropout_rate)\n",
    "                )\n",
    "            )\n",
    "            input_dim = hidden_dim\n",
    "\n",
    "        # Final classification layer\n",
    "        self.final_layer = nn.Linear(input_dim, num_classes)\n",
    "\n",
    "        # Initialize weights\n",
    "        self._init_weights()\n",
    "\n",
    "    def _init_weights(self):\n",
    "        \"\"\"Initialize weights using Xavier initialization\"\"\"\n",
    "        for module in self.modules():\n",
    "            if isinstance(module, nn.Linear):\n",
    "                nn.init.xavier_uniform_(module.weight)\n",
    "                if module.bias is not None:\n",
    "                    nn.init.zeros_(module.bias)\n",
    "\n",
    "    def forward(self, embedding1, embedding2, combined_features):\n",
    "        # Apply adapters with residual connections\n",
    "        adapted1 = self.adapter1(embedding1)\n",
    "        adapted2 = self.adapter2(embedding2)\n",
    "\n",
    "        # Concatenate adapted embeddings with combined features\n",
    "        x = torch.cat([adapted1, adapted2, combined_features], dim=1)\n",
    "\n",
    "        # Pass through classifier layers with skip connections\n",
    "        for layer in self.classifier_layers:\n",
    "            layer_output = layer(x)\n",
    "            # Add skip connection if dimensions match\n",
    "            if layer_output.shape == x.shape:\n",
    "                x = layer_output + x\n",
    "            else:\n",
    "                x = layer_output\n",
    "\n",
    "        # Final classification\n",
    "        output = self.final_layer(x)\n",
    "\n",
    "        return output\n",
    "\n",
    "    def get_adapter_params(self):\n",
    "        \"\"\"Get only the adapter parameters for efficient fine-tuning\"\"\"\n",
    "        adapter_params = []\n",
    "        for name, param in self.named_parameters():\n",
    "            if 'adapter' in name:\n",
    "                adapter_params.append(param)\n",
    "        return adapter_params\n",
    "\n",
    "    def freeze_non_adapter_params(self):\n",
    "        \"\"\"Freeze all parameters except adapters for fine-tuning\"\"\"\n",
    "        for name, param in self.named_parameters():\n",
    "            if 'adapter' not in name:\n",
    "                param.requires_grad = False"
   ]
  }
 ],
 "metadata": {
  "accelerator": "GPU",
  "colab": {
   "gpuType": "T4",
   "provenance": []
  },
  "kernelspec": {
   "display_name": "base",
   "language": "python",
   "name": "python3"
  },
  "language_info": {
   "codemirror_mode": {
    "name": "ipython",
    "version": 3
   },
   "file_extension": ".py",
   "mimetype": "text/x-python",
   "name": "python",
   "nbconvert_exporter": "python",
   "pygments_lexer": "ipython3",
   "version": "3.11.4"
  },
  "widgets": {
   "application/vnd.jupyter.widget-state+json": {
    "057326ac2aa34258964f5030d5c55f44": {
     "model_module": "@jupyter-widgets/controls",
     "model_module_version": "1.5.0",
     "model_name": "HTMLModel",
     "state": {
      "_dom_classes": [],
      "_model_module": "@jupyter-widgets/controls",
      "_model_module_version": "1.5.0",
      "_model_name": "HTMLModel",
      "_view_count": null,
      "_view_module": "@jupyter-widgets/controls",
      "_view_module_version": "1.5.0",
      "_view_name": "HTMLView",
      "description": "",
      "description_tooltip": null,
      "layout": "IPY_MODEL_122e31e9821146dfb45aa79a42eb350b",
      "placeholder": "​",
      "style": "IPY_MODEL_9d7197c47e5d45f89eb4260ba22ca2f5",
      "value": " 1495/1495 [00:30&lt;00:00, 61.58it/s, train_loss=0.791]"
     }
    },
    "07278ace6b5e434aaad6f6b5503587d3": {
     "model_module": "@jupyter-widgets/base",
     "model_module_version": "1.2.0",
     "model_name": "LayoutModel",
     "state": {
      "_model_module": "@jupyter-widgets/base",
      "_model_module_version": "1.2.0",
      "_model_name": "LayoutModel",
      "_view_count": null,
      "_view_module": "@jupyter-widgets/base",
      "_view_module_version": "1.2.0",
      "_view_name": "LayoutView",
      "align_content": null,
      "align_items": null,
      "align_self": null,
      "border": null,
      "bottom": null,
      "display": null,
      "flex": null,
      "flex_flow": null,
      "grid_area": null,
      "grid_auto_columns": null,
      "grid_auto_flow": null,
      "grid_auto_rows": null,
      "grid_column": null,
      "grid_gap": null,
      "grid_row": null,
      "grid_template_areas": null,
      "grid_template_columns": null,
      "grid_template_rows": null,
      "height": null,
      "justify_content": null,
      "justify_items": null,
      "left": null,
      "margin": null,
      "max_height": null,
      "max_width": null,
      "min_height": null,
      "min_width": null,
      "object_fit": null,
      "object_position": null,
      "order": null,
      "overflow": null,
      "overflow_x": null,
      "overflow_y": null,
      "padding": null,
      "right": null,
      "top": null,
      "visibility": null,
      "width": null
     }
    },
    "07c72348577e4b7a98482863daa3548e": {
     "model_module": "@jupyter-widgets/base",
     "model_module_version": "1.2.0",
     "model_name": "LayoutModel",
     "state": {
      "_model_module": "@jupyter-widgets/base",
      "_model_module_version": "1.2.0",
      "_model_name": "LayoutModel",
      "_view_count": null,
      "_view_module": "@jupyter-widgets/base",
      "_view_module_version": "1.2.0",
      "_view_name": "LayoutView",
      "align_content": null,
      "align_items": null,
      "align_self": null,
      "border": null,
      "bottom": null,
      "display": null,
      "flex": null,
      "flex_flow": null,
      "grid_area": null,
      "grid_auto_columns": null,
      "grid_auto_flow": null,
      "grid_auto_rows": null,
      "grid_column": null,
      "grid_gap": null,
      "grid_row": null,
      "grid_template_areas": null,
      "grid_template_columns": null,
      "grid_template_rows": null,
      "height": null,
      "justify_content": null,
      "justify_items": null,
      "left": null,
      "margin": null,
      "max_height": null,
      "max_width": null,
      "min_height": null,
      "min_width": null,
      "object_fit": null,
      "object_position": null,
      "order": null,
      "overflow": null,
      "overflow_x": null,
      "overflow_y": null,
      "padding": null,
      "right": null,
      "top": null,
      "visibility": null,
      "width": null
     }
    },
    "09fbf5c5793942f485230c7bc529d0dd": {
     "model_module": "@jupyter-widgets/base",
     "model_module_version": "1.2.0",
     "model_name": "LayoutModel",
     "state": {
      "_model_module": "@jupyter-widgets/base",
      "_model_module_version": "1.2.0",
      "_model_name": "LayoutModel",
      "_view_count": null,
      "_view_module": "@jupyter-widgets/base",
      "_view_module_version": "1.2.0",
      "_view_name": "LayoutView",
      "align_content": null,
      "align_items": null,
      "align_self": null,
      "border": null,
      "bottom": null,
      "display": null,
      "flex": null,
      "flex_flow": null,
      "grid_area": null,
      "grid_auto_columns": null,
      "grid_auto_flow": null,
      "grid_auto_rows": null,
      "grid_column": null,
      "grid_gap": null,
      "grid_row": null,
      "grid_template_areas": null,
      "grid_template_columns": null,
      "grid_template_rows": null,
      "height": null,
      "justify_content": null,
      "justify_items": null,
      "left": null,
      "margin": null,
      "max_height": null,
      "max_width": null,
      "min_height": null,
      "min_width": null,
      "object_fit": null,
      "object_position": null,
      "order": null,
      "overflow": null,
      "overflow_x": null,
      "overflow_y": null,
      "padding": null,
      "right": null,
      "top": null,
      "visibility": null,
      "width": null
     }
    },
    "0bb2967d59f94006967220488b47bffb": {
     "model_module": "@jupyter-widgets/controls",
     "model_module_version": "1.5.0",
     "model_name": "FloatProgressModel",
     "state": {
      "_dom_classes": [],
      "_model_module": "@jupyter-widgets/controls",
      "_model_module_version": "1.5.0",
      "_model_name": "FloatProgressModel",
      "_view_count": null,
      "_view_module": "@jupyter-widgets/controls",
      "_view_module_version": "1.5.0",
      "_view_name": "ProgressView",
      "bar_style": "success",
      "description": "",
      "description_tooltip": null,
      "layout": "IPY_MODEL_26533f093e60470e848dff38d0031959",
      "max": 1495,
      "min": 0,
      "orientation": "horizontal",
      "style": "IPY_MODEL_904124b075054a3e95abbed5ca4392c1",
      "value": 1495
     }
    },
    "103828b9560042c882b5f4ced1bd8062": {
     "model_module": "@jupyter-widgets/base",
     "model_module_version": "1.2.0",
     "model_name": "LayoutModel",
     "state": {
      "_model_module": "@jupyter-widgets/base",
      "_model_module_version": "1.2.0",
      "_model_name": "LayoutModel",
      "_view_count": null,
      "_view_module": "@jupyter-widgets/base",
      "_view_module_version": "1.2.0",
      "_view_name": "LayoutView",
      "align_content": null,
      "align_items": null,
      "align_self": null,
      "border": null,
      "bottom": null,
      "display": null,
      "flex": null,
      "flex_flow": null,
      "grid_area": null,
      "grid_auto_columns": null,
      "grid_auto_flow": null,
      "grid_auto_rows": null,
      "grid_column": null,
      "grid_gap": null,
      "grid_row": null,
      "grid_template_areas": null,
      "grid_template_columns": null,
      "grid_template_rows": null,
      "height": null,
      "justify_content": null,
      "justify_items": null,
      "left": null,
      "margin": null,
      "max_height": null,
      "max_width": null,
      "min_height": null,
      "min_width": null,
      "object_fit": null,
      "object_position": null,
      "order": null,
      "overflow": null,
      "overflow_x": null,
      "overflow_y": null,
      "padding": null,
      "right": null,
      "top": null,
      "visibility": null,
      "width": null
     }
    },
    "122e31e9821146dfb45aa79a42eb350b": {
     "model_module": "@jupyter-widgets/base",
     "model_module_version": "1.2.0",
     "model_name": "LayoutModel",
     "state": {
      "_model_module": "@jupyter-widgets/base",
      "_model_module_version": "1.2.0",
      "_model_name": "LayoutModel",
      "_view_count": null,
      "_view_module": "@jupyter-widgets/base",
      "_view_module_version": "1.2.0",
      "_view_name": "LayoutView",
      "align_content": null,
      "align_items": null,
      "align_self": null,
      "border": null,
      "bottom": null,
      "display": null,
      "flex": null,
      "flex_flow": null,
      "grid_area": null,
      "grid_auto_columns": null,
      "grid_auto_flow": null,
      "grid_auto_rows": null,
      "grid_column": null,
      "grid_gap": null,
      "grid_row": null,
      "grid_template_areas": null,
      "grid_template_columns": null,
      "grid_template_rows": null,
      "height": null,
      "justify_content": null,
      "justify_items": null,
      "left": null,
      "margin": null,
      "max_height": null,
      "max_width": null,
      "min_height": null,
      "min_width": null,
      "object_fit": null,
      "object_position": null,
      "order": null,
      "overflow": null,
      "overflow_x": null,
      "overflow_y": null,
      "padding": null,
      "right": null,
      "top": null,
      "visibility": null,
      "width": null
     }
    },
    "12fccbe7a85b4c0f912729dd811210c6": {
     "model_module": "@jupyter-widgets/controls",
     "model_module_version": "1.5.0",
     "model_name": "DescriptionStyleModel",
     "state": {
      "_model_module": "@jupyter-widgets/controls",
      "_model_module_version": "1.5.0",
      "_model_name": "DescriptionStyleModel",
      "_view_count": null,
      "_view_module": "@jupyter-widgets/base",
      "_view_module_version": "1.2.0",
      "_view_name": "StyleView",
      "description_width": ""
     }
    },
    "14fef39c16554c79841b066a1e6ca999": {
     "model_module": "@jupyter-widgets/controls",
     "model_module_version": "1.5.0",
     "model_name": "HBoxModel",
     "state": {
      "_dom_classes": [],
      "_model_module": "@jupyter-widgets/controls",
      "_model_module_version": "1.5.0",
      "_model_name": "HBoxModel",
      "_view_count": null,
      "_view_module": "@jupyter-widgets/controls",
      "_view_module_version": "1.5.0",
      "_view_name": "HBoxView",
      "box_style": "",
      "children": [
       "IPY_MODEL_f5beefc6e4a44464b69ba665d8ea8383",
       "IPY_MODEL_74f0e22f64dd4d99832a6201523be013",
       "IPY_MODEL_42b6900fe5e148d09ecb263d0ca55152"
      ],
      "layout": "IPY_MODEL_c468a8a1b80b4fab9603d6eb01c4908e"
     }
    },
    "1c8af6d427524bc0b44d335a9037d063": {
     "model_module": "@jupyter-widgets/controls",
     "model_module_version": "1.5.0",
     "model_name": "HTMLModel",
     "state": {
      "_dom_classes": [],
      "_model_module": "@jupyter-widgets/controls",
      "_model_module_version": "1.5.0",
      "_model_name": "HTMLModel",
      "_view_count": null,
      "_view_module": "@jupyter-widgets/controls",
      "_view_module_version": "1.5.0",
      "_view_name": "HTMLView",
      "description": "",
      "description_tooltip": null,
      "layout": "IPY_MODEL_7414ab078f4e42efb260b0fb2a9d501e",
      "placeholder": "​",
      "style": "IPY_MODEL_bcdfd3fe43474eac9d7702f5cdc96e66",
      "value": "Epoch 3/10: 100%"
     }
    },
    "1f69e4caaf9d4399a2dfefe74d7f82fb": {
     "model_module": "@jupyter-widgets/controls",
     "model_module_version": "1.5.0",
     "model_name": "ProgressStyleModel",
     "state": {
      "_model_module": "@jupyter-widgets/controls",
      "_model_module_version": "1.5.0",
      "_model_name": "ProgressStyleModel",
      "_view_count": null,
      "_view_module": "@jupyter-widgets/base",
      "_view_module_version": "1.2.0",
      "_view_name": "StyleView",
      "bar_color": null,
      "description_width": ""
     }
    },
    "23c4929e6a764d658820e7fa4d977a05": {
     "model_module": "@jupyter-widgets/base",
     "model_module_version": "1.2.0",
     "model_name": "LayoutModel",
     "state": {
      "_model_module": "@jupyter-widgets/base",
      "_model_module_version": "1.2.0",
      "_model_name": "LayoutModel",
      "_view_count": null,
      "_view_module": "@jupyter-widgets/base",
      "_view_module_version": "1.2.0",
      "_view_name": "LayoutView",
      "align_content": null,
      "align_items": null,
      "align_self": null,
      "border": null,
      "bottom": null,
      "display": null,
      "flex": null,
      "flex_flow": null,
      "grid_area": null,
      "grid_auto_columns": null,
      "grid_auto_flow": null,
      "grid_auto_rows": null,
      "grid_column": null,
      "grid_gap": null,
      "grid_row": null,
      "grid_template_areas": null,
      "grid_template_columns": null,
      "grid_template_rows": null,
      "height": null,
      "justify_content": null,
      "justify_items": null,
      "left": null,
      "margin": null,
      "max_height": null,
      "max_width": null,
      "min_height": null,
      "min_width": null,
      "object_fit": null,
      "object_position": null,
      "order": null,
      "overflow": null,
      "overflow_x": null,
      "overflow_y": null,
      "padding": null,
      "right": null,
      "top": null,
      "visibility": null,
      "width": null
     }
    },
    "26533f093e60470e848dff38d0031959": {
     "model_module": "@jupyter-widgets/base",
     "model_module_version": "1.2.0",
     "model_name": "LayoutModel",
     "state": {
      "_model_module": "@jupyter-widgets/base",
      "_model_module_version": "1.2.0",
      "_model_name": "LayoutModel",
      "_view_count": null,
      "_view_module": "@jupyter-widgets/base",
      "_view_module_version": "1.2.0",
      "_view_name": "LayoutView",
      "align_content": null,
      "align_items": null,
      "align_self": null,
      "border": null,
      "bottom": null,
      "display": null,
      "flex": null,
      "flex_flow": null,
      "grid_area": null,
      "grid_auto_columns": null,
      "grid_auto_flow": null,
      "grid_auto_rows": null,
      "grid_column": null,
      "grid_gap": null,
      "grid_row": null,
      "grid_template_areas": null,
      "grid_template_columns": null,
      "grid_template_rows": null,
      "height": null,
      "justify_content": null,
      "justify_items": null,
      "left": null,
      "margin": null,
      "max_height": null,
      "max_width": null,
      "min_height": null,
      "min_width": null,
      "object_fit": null,
      "object_position": null,
      "order": null,
      "overflow": null,
      "overflow_x": null,
      "overflow_y": null,
      "padding": null,
      "right": null,
      "top": null,
      "visibility": null,
      "width": null
     }
    },
    "28b4956dc1a34c11904ebee43be5f75a": {
     "model_module": "@jupyter-widgets/controls",
     "model_module_version": "1.5.0",
     "model_name": "DescriptionStyleModel",
     "state": {
      "_model_module": "@jupyter-widgets/controls",
      "_model_module_version": "1.5.0",
      "_model_name": "DescriptionStyleModel",
      "_view_count": null,
      "_view_module": "@jupyter-widgets/base",
      "_view_module_version": "1.2.0",
      "_view_name": "StyleView",
      "description_width": ""
     }
    },
    "2919bbb044ee49789a4ead7b228f027c": {
     "model_module": "@jupyter-widgets/base",
     "model_module_version": "1.2.0",
     "model_name": "LayoutModel",
     "state": {
      "_model_module": "@jupyter-widgets/base",
      "_model_module_version": "1.2.0",
      "_model_name": "LayoutModel",
      "_view_count": null,
      "_view_module": "@jupyter-widgets/base",
      "_view_module_version": "1.2.0",
      "_view_name": "LayoutView",
      "align_content": null,
      "align_items": null,
      "align_self": null,
      "border": null,
      "bottom": null,
      "display": null,
      "flex": null,
      "flex_flow": null,
      "grid_area": null,
      "grid_auto_columns": null,
      "grid_auto_flow": null,
      "grid_auto_rows": null,
      "grid_column": null,
      "grid_gap": null,
      "grid_row": null,
      "grid_template_areas": null,
      "grid_template_columns": null,
      "grid_template_rows": null,
      "height": null,
      "justify_content": null,
      "justify_items": null,
      "left": null,
      "margin": null,
      "max_height": null,
      "max_width": null,
      "min_height": null,
      "min_width": null,
      "object_fit": null,
      "object_position": null,
      "order": null,
      "overflow": null,
      "overflow_x": null,
      "overflow_y": null,
      "padding": null,
      "right": null,
      "top": null,
      "visibility": null,
      "width": null
     }
    },
    "29e5ef99378e477688e5889ec02a9274": {
     "model_module": "@jupyter-widgets/base",
     "model_module_version": "1.2.0",
     "model_name": "LayoutModel",
     "state": {
      "_model_module": "@jupyter-widgets/base",
      "_model_module_version": "1.2.0",
      "_model_name": "LayoutModel",
      "_view_count": null,
      "_view_module": "@jupyter-widgets/base",
      "_view_module_version": "1.2.0",
      "_view_name": "LayoutView",
      "align_content": null,
      "align_items": null,
      "align_self": null,
      "border": null,
      "bottom": null,
      "display": null,
      "flex": null,
      "flex_flow": null,
      "grid_area": null,
      "grid_auto_columns": null,
      "grid_auto_flow": null,
      "grid_auto_rows": null,
      "grid_column": null,
      "grid_gap": null,
      "grid_row": null,
      "grid_template_areas": null,
      "grid_template_columns": null,
      "grid_template_rows": null,
      "height": null,
      "justify_content": null,
      "justify_items": null,
      "left": null,
      "margin": null,
      "max_height": null,
      "max_width": null,
      "min_height": null,
      "min_width": null,
      "object_fit": null,
      "object_position": null,
      "order": null,
      "overflow": null,
      "overflow_x": null,
      "overflow_y": null,
      "padding": null,
      "right": null,
      "top": null,
      "visibility": null,
      "width": null
     }
    },
    "31bf0adf15844cde86a68c119ae601e2": {
     "model_module": "@jupyter-widgets/controls",
     "model_module_version": "1.5.0",
     "model_name": "DescriptionStyleModel",
     "state": {
      "_model_module": "@jupyter-widgets/controls",
      "_model_module_version": "1.5.0",
      "_model_name": "DescriptionStyleModel",
      "_view_count": null,
      "_view_module": "@jupyter-widgets/base",
      "_view_module_version": "1.2.0",
      "_view_name": "StyleView",
      "description_width": ""
     }
    },
    "3285cd0c11e04e13b9e3e20ee48b9ba6": {
     "model_module": "@jupyter-widgets/controls",
     "model_module_version": "1.5.0",
     "model_name": "FloatProgressModel",
     "state": {
      "_dom_classes": [],
      "_model_module": "@jupyter-widgets/controls",
      "_model_module_version": "1.5.0",
      "_model_name": "FloatProgressModel",
      "_view_count": null,
      "_view_module": "@jupyter-widgets/controls",
      "_view_module_version": "1.5.0",
      "_view_name": "ProgressView",
      "bar_style": "success",
      "description": "",
      "description_tooltip": null,
      "layout": "IPY_MODEL_e82022b489bc4b6aacc06d5ca577f765",
      "max": 1495,
      "min": 0,
      "orientation": "horizontal",
      "style": "IPY_MODEL_5696db60dce34850af257d0ce3a3ac61",
      "value": 1495
     }
    },
    "35214c46675a4c07986508c6ffc97e38": {
     "model_module": "@jupyter-widgets/base",
     "model_module_version": "1.2.0",
     "model_name": "LayoutModel",
     "state": {
      "_model_module": "@jupyter-widgets/base",
      "_model_module_version": "1.2.0",
      "_model_name": "LayoutModel",
      "_view_count": null,
      "_view_module": "@jupyter-widgets/base",
      "_view_module_version": "1.2.0",
      "_view_name": "LayoutView",
      "align_content": null,
      "align_items": null,
      "align_self": null,
      "border": null,
      "bottom": null,
      "display": null,
      "flex": null,
      "flex_flow": null,
      "grid_area": null,
      "grid_auto_columns": null,
      "grid_auto_flow": null,
      "grid_auto_rows": null,
      "grid_column": null,
      "grid_gap": null,
      "grid_row": null,
      "grid_template_areas": null,
      "grid_template_columns": null,
      "grid_template_rows": null,
      "height": null,
      "justify_content": null,
      "justify_items": null,
      "left": null,
      "margin": null,
      "max_height": null,
      "max_width": null,
      "min_height": null,
      "min_width": null,
      "object_fit": null,
      "object_position": null,
      "order": null,
      "overflow": null,
      "overflow_x": null,
      "overflow_y": null,
      "padding": null,
      "right": null,
      "top": null,
      "visibility": null,
      "width": null
     }
    },
    "3539415b9e4b41b494cdcd6ae8419abb": {
     "model_module": "@jupyter-widgets/controls",
     "model_module_version": "1.5.0",
     "model_name": "ProgressStyleModel",
     "state": {
      "_model_module": "@jupyter-widgets/controls",
      "_model_module_version": "1.5.0",
      "_model_name": "ProgressStyleModel",
      "_view_count": null,
      "_view_module": "@jupyter-widgets/base",
      "_view_module_version": "1.2.0",
      "_view_name": "StyleView",
      "bar_color": null,
      "description_width": ""
     }
    },
    "393c3eb529ef4f3fbdedeeeea991f21a": {
     "model_module": "@jupyter-widgets/controls",
     "model_module_version": "1.5.0",
     "model_name": "HBoxModel",
     "state": {
      "_dom_classes": [],
      "_model_module": "@jupyter-widgets/controls",
      "_model_module_version": "1.5.0",
      "_model_name": "HBoxModel",
      "_view_count": null,
      "_view_module": "@jupyter-widgets/controls",
      "_view_module_version": "1.5.0",
      "_view_name": "HBoxView",
      "box_style": "",
      "children": [
       "IPY_MODEL_6620d524caec4726b42610caec20d303",
       "IPY_MODEL_3285cd0c11e04e13b9e3e20ee48b9ba6",
       "IPY_MODEL_f56944726c2d46498bc077ca426fe0ac"
      ],
      "layout": "IPY_MODEL_6838f3e71df14ee79202f9ada96030a6"
     }
    },
    "3ad7c17375f242e396edaeabaafe664c": {
     "model_module": "@jupyter-widgets/controls",
     "model_module_version": "1.5.0",
     "model_name": "DescriptionStyleModel",
     "state": {
      "_model_module": "@jupyter-widgets/controls",
      "_model_module_version": "1.5.0",
      "_model_name": "DescriptionStyleModel",
      "_view_count": null,
      "_view_module": "@jupyter-widgets/base",
      "_view_module_version": "1.2.0",
      "_view_name": "StyleView",
      "description_width": ""
     }
    },
    "3b2d40fd84704d2f8297e7e11bc4048c": {
     "model_module": "@jupyter-widgets/controls",
     "model_module_version": "1.5.0",
     "model_name": "DescriptionStyleModel",
     "state": {
      "_model_module": "@jupyter-widgets/controls",
      "_model_module_version": "1.5.0",
      "_model_name": "DescriptionStyleModel",
      "_view_count": null,
      "_view_module": "@jupyter-widgets/base",
      "_view_module_version": "1.2.0",
      "_view_name": "StyleView",
      "description_width": ""
     }
    },
    "3c7b46e804494495861472b598a976b9": {
     "model_module": "@jupyter-widgets/base",
     "model_module_version": "1.2.0",
     "model_name": "LayoutModel",
     "state": {
      "_model_module": "@jupyter-widgets/base",
      "_model_module_version": "1.2.0",
      "_model_name": "LayoutModel",
      "_view_count": null,
      "_view_module": "@jupyter-widgets/base",
      "_view_module_version": "1.2.0",
      "_view_name": "LayoutView",
      "align_content": null,
      "align_items": null,
      "align_self": null,
      "border": null,
      "bottom": null,
      "display": null,
      "flex": null,
      "flex_flow": null,
      "grid_area": null,
      "grid_auto_columns": null,
      "grid_auto_flow": null,
      "grid_auto_rows": null,
      "grid_column": null,
      "grid_gap": null,
      "grid_row": null,
      "grid_template_areas": null,
      "grid_template_columns": null,
      "grid_template_rows": null,
      "height": null,
      "justify_content": null,
      "justify_items": null,
      "left": null,
      "margin": null,
      "max_height": null,
      "max_width": null,
      "min_height": null,
      "min_width": null,
      "object_fit": null,
      "object_position": null,
      "order": null,
      "overflow": null,
      "overflow_x": null,
      "overflow_y": null,
      "padding": null,
      "right": null,
      "top": null,
      "visibility": null,
      "width": null
     }
    },
    "3c93b1fbba744d07bbf90da14aa44e04": {
     "model_module": "@jupyter-widgets/controls",
     "model_module_version": "1.5.0",
     "model_name": "DescriptionStyleModel",
     "state": {
      "_model_module": "@jupyter-widgets/controls",
      "_model_module_version": "1.5.0",
      "_model_name": "DescriptionStyleModel",
      "_view_count": null,
      "_view_module": "@jupyter-widgets/base",
      "_view_module_version": "1.2.0",
      "_view_name": "StyleView",
      "description_width": ""
     }
    },
    "3d1da7a34f52483fbc8a419031ef0a25": {
     "model_module": "@jupyter-widgets/base",
     "model_module_version": "1.2.0",
     "model_name": "LayoutModel",
     "state": {
      "_model_module": "@jupyter-widgets/base",
      "_model_module_version": "1.2.0",
      "_model_name": "LayoutModel",
      "_view_count": null,
      "_view_module": "@jupyter-widgets/base",
      "_view_module_version": "1.2.0",
      "_view_name": "LayoutView",
      "align_content": null,
      "align_items": null,
      "align_self": null,
      "border": null,
      "bottom": null,
      "display": null,
      "flex": null,
      "flex_flow": null,
      "grid_area": null,
      "grid_auto_columns": null,
      "grid_auto_flow": null,
      "grid_auto_rows": null,
      "grid_column": null,
      "grid_gap": null,
      "grid_row": null,
      "grid_template_areas": null,
      "grid_template_columns": null,
      "grid_template_rows": null,
      "height": null,
      "justify_content": null,
      "justify_items": null,
      "left": null,
      "margin": null,
      "max_height": null,
      "max_width": null,
      "min_height": null,
      "min_width": null,
      "object_fit": null,
      "object_position": null,
      "order": null,
      "overflow": null,
      "overflow_x": null,
      "overflow_y": null,
      "padding": null,
      "right": null,
      "top": null,
      "visibility": null,
      "width": null
     }
    },
    "3d2502b8c4c14d83bb609840d5da3e3b": {
     "model_module": "@jupyter-widgets/base",
     "model_module_version": "1.2.0",
     "model_name": "LayoutModel",
     "state": {
      "_model_module": "@jupyter-widgets/base",
      "_model_module_version": "1.2.0",
      "_model_name": "LayoutModel",
      "_view_count": null,
      "_view_module": "@jupyter-widgets/base",
      "_view_module_version": "1.2.0",
      "_view_name": "LayoutView",
      "align_content": null,
      "align_items": null,
      "align_self": null,
      "border": null,
      "bottom": null,
      "display": null,
      "flex": null,
      "flex_flow": null,
      "grid_area": null,
      "grid_auto_columns": null,
      "grid_auto_flow": null,
      "grid_auto_rows": null,
      "grid_column": null,
      "grid_gap": null,
      "grid_row": null,
      "grid_template_areas": null,
      "grid_template_columns": null,
      "grid_template_rows": null,
      "height": null,
      "justify_content": null,
      "justify_items": null,
      "left": null,
      "margin": null,
      "max_height": null,
      "max_width": null,
      "min_height": null,
      "min_width": null,
      "object_fit": null,
      "object_position": null,
      "order": null,
      "overflow": null,
      "overflow_x": null,
      "overflow_y": null,
      "padding": null,
      "right": null,
      "top": null,
      "visibility": null,
      "width": null
     }
    },
    "3e2a0f7d7fd248c88582c6f22e1fe062": {
     "model_module": "@jupyter-widgets/controls",
     "model_module_version": "1.5.0",
     "model_name": "HTMLModel",
     "state": {
      "_dom_classes": [],
      "_model_module": "@jupyter-widgets/controls",
      "_model_module_version": "1.5.0",
      "_model_name": "HTMLModel",
      "_view_count": null,
      "_view_module": "@jupyter-widgets/controls",
      "_view_module_version": "1.5.0",
      "_view_name": "HTMLView",
      "description": "",
      "description_tooltip": null,
      "layout": "IPY_MODEL_b6ddc786aee248bfbc36624865d6b012",
      "placeholder": "​",
      "style": "IPY_MODEL_925746f78ec24bf2be04fedfc1d1fa4c",
      "value": " 1495/1495 [00:23&lt;00:00, 48.22it/s, train_loss=0.732]"
     }
    },
    "3e33d9a559734ea982a0df8ccdd78b2a": {
     "model_module": "@jupyter-widgets/controls",
     "model_module_version": "1.5.0",
     "model_name": "HTMLModel",
     "state": {
      "_dom_classes": [],
      "_model_module": "@jupyter-widgets/controls",
      "_model_module_version": "1.5.0",
      "_model_name": "HTMLModel",
      "_view_count": null,
      "_view_module": "@jupyter-widgets/controls",
      "_view_module_version": "1.5.0",
      "_view_name": "HTMLView",
      "description": "",
      "description_tooltip": null,
      "layout": "IPY_MODEL_103828b9560042c882b5f4ced1bd8062",
      "placeholder": "​",
      "style": "IPY_MODEL_cf8fab36a95c4ee491f0ceff5038e913",
      "value": "Epoch 4/10: 100%"
     }
    },
    "42b6900fe5e148d09ecb263d0ca55152": {
     "model_module": "@jupyter-widgets/controls",
     "model_module_version": "1.5.0",
     "model_name": "HTMLModel",
     "state": {
      "_dom_classes": [],
      "_model_module": "@jupyter-widgets/controls",
      "_model_module_version": "1.5.0",
      "_model_name": "HTMLModel",
      "_view_count": null,
      "_view_module": "@jupyter-widgets/controls",
      "_view_module_version": "1.5.0",
      "_view_name": "HTMLView",
      "description": "",
      "description_tooltip": null,
      "layout": "IPY_MODEL_e4e0c976eb164c0b8a0367e0b080556b",
      "placeholder": "​",
      "style": "IPY_MODEL_3ad7c17375f242e396edaeabaafe664c",
      "value": " 1495/1495 [00:25&lt;00:00, 64.13it/s, train_loss=0.421]"
     }
    },
    "4733cd39045c47bfb2e5d6ceebf6c3ef": {
     "model_module": "@jupyter-widgets/controls",
     "model_module_version": "1.5.0",
     "model_name": "FloatProgressModel",
     "state": {
      "_dom_classes": [],
      "_model_module": "@jupyter-widgets/controls",
      "_model_module_version": "1.5.0",
      "_model_name": "FloatProgressModel",
      "_view_count": null,
      "_view_module": "@jupyter-widgets/controls",
      "_view_module_version": "1.5.0",
      "_view_name": "ProgressView",
      "bar_style": "success",
      "description": "",
      "description_tooltip": null,
      "layout": "IPY_MODEL_959ad9b215044c6ea4b23dc4706bdcc0",
      "max": 1495,
      "min": 0,
      "orientation": "horizontal",
      "style": "IPY_MODEL_1f69e4caaf9d4399a2dfefe74d7f82fb",
      "value": 1495
     }
    },
    "4761b9e976164fc199593cf7b8269747": {
     "model_module": "@jupyter-widgets/controls",
     "model_module_version": "1.5.0",
     "model_name": "ProgressStyleModel",
     "state": {
      "_model_module": "@jupyter-widgets/controls",
      "_model_module_version": "1.5.0",
      "_model_name": "ProgressStyleModel",
      "_view_count": null,
      "_view_module": "@jupyter-widgets/base",
      "_view_module_version": "1.2.0",
      "_view_name": "StyleView",
      "bar_color": null,
      "description_width": ""
     }
    },
    "4c0ac6365e2b4429a30734bc5bd84ac4": {
     "model_module": "@jupyter-widgets/base",
     "model_module_version": "1.2.0",
     "model_name": "LayoutModel",
     "state": {
      "_model_module": "@jupyter-widgets/base",
      "_model_module_version": "1.2.0",
      "_model_name": "LayoutModel",
      "_view_count": null,
      "_view_module": "@jupyter-widgets/base",
      "_view_module_version": "1.2.0",
      "_view_name": "LayoutView",
      "align_content": null,
      "align_items": null,
      "align_self": null,
      "border": null,
      "bottom": null,
      "display": null,
      "flex": null,
      "flex_flow": null,
      "grid_area": null,
      "grid_auto_columns": null,
      "grid_auto_flow": null,
      "grid_auto_rows": null,
      "grid_column": null,
      "grid_gap": null,
      "grid_row": null,
      "grid_template_areas": null,
      "grid_template_columns": null,
      "grid_template_rows": null,
      "height": null,
      "justify_content": null,
      "justify_items": null,
      "left": null,
      "margin": null,
      "max_height": null,
      "max_width": null,
      "min_height": null,
      "min_width": null,
      "object_fit": null,
      "object_position": null,
      "order": null,
      "overflow": null,
      "overflow_x": null,
      "overflow_y": null,
      "padding": null,
      "right": null,
      "top": null,
      "visibility": null,
      "width": null
     }
    },
    "54f08e7d38ac454ab2a05fe074f54b12": {
     "model_module": "@jupyter-widgets/controls",
     "model_module_version": "1.5.0",
     "model_name": "ProgressStyleModel",
     "state": {
      "_model_module": "@jupyter-widgets/controls",
      "_model_module_version": "1.5.0",
      "_model_name": "ProgressStyleModel",
      "_view_count": null,
      "_view_module": "@jupyter-widgets/base",
      "_view_module_version": "1.2.0",
      "_view_name": "StyleView",
      "bar_color": null,
      "description_width": ""
     }
    },
    "55e6906e62ee47da98e4b5e982444e7d": {
     "model_module": "@jupyter-widgets/controls",
     "model_module_version": "1.5.0",
     "model_name": "FloatProgressModel",
     "state": {
      "_dom_classes": [],
      "_model_module": "@jupyter-widgets/controls",
      "_model_module_version": "1.5.0",
      "_model_name": "FloatProgressModel",
      "_view_count": null,
      "_view_module": "@jupyter-widgets/controls",
      "_view_module_version": "1.5.0",
      "_view_name": "ProgressView",
      "bar_style": "success",
      "description": "",
      "description_tooltip": null,
      "layout": "IPY_MODEL_2919bbb044ee49789a4ead7b228f027c",
      "max": 1495,
      "min": 0,
      "orientation": "horizontal",
      "style": "IPY_MODEL_71fb75fd9b7540f784c6e066430362c4",
      "value": 1495
     }
    },
    "5696db60dce34850af257d0ce3a3ac61": {
     "model_module": "@jupyter-widgets/controls",
     "model_module_version": "1.5.0",
     "model_name": "ProgressStyleModel",
     "state": {
      "_model_module": "@jupyter-widgets/controls",
      "_model_module_version": "1.5.0",
      "_model_name": "ProgressStyleModel",
      "_view_count": null,
      "_view_module": "@jupyter-widgets/base",
      "_view_module_version": "1.2.0",
      "_view_name": "StyleView",
      "bar_color": null,
      "description_width": ""
     }
    },
    "5a3193e1a38c4f1cad648be34af3bf8d": {
     "model_module": "@jupyter-widgets/controls",
     "model_module_version": "1.5.0",
     "model_name": "FloatProgressModel",
     "state": {
      "_dom_classes": [],
      "_model_module": "@jupyter-widgets/controls",
      "_model_module_version": "1.5.0",
      "_model_name": "FloatProgressModel",
      "_view_count": null,
      "_view_module": "@jupyter-widgets/controls",
      "_view_module_version": "1.5.0",
      "_view_name": "ProgressView",
      "bar_style": "success",
      "description": "",
      "description_tooltip": null,
      "layout": "IPY_MODEL_d2bee3163556451aa758b394c14a2d89",
      "max": 1495,
      "min": 0,
      "orientation": "horizontal",
      "style": "IPY_MODEL_8f9aacc4091d4eb2b57baff77503b7a9",
      "value": 1495
     }
    },
    "6620d524caec4726b42610caec20d303": {
     "model_module": "@jupyter-widgets/controls",
     "model_module_version": "1.5.0",
     "model_name": "HTMLModel",
     "state": {
      "_dom_classes": [],
      "_model_module": "@jupyter-widgets/controls",
      "_model_module_version": "1.5.0",
      "_model_name": "HTMLModel",
      "_view_count": null,
      "_view_module": "@jupyter-widgets/controls",
      "_view_module_version": "1.5.0",
      "_view_name": "HTMLView",
      "description": "",
      "description_tooltip": null,
      "layout": "IPY_MODEL_4c0ac6365e2b4429a30734bc5bd84ac4",
      "placeholder": "​",
      "style": "IPY_MODEL_bfcbb8ea630948dc9ad1675f6c2b8f19",
      "value": "Epoch 7/10: 100%"
     }
    },
    "6712733917f8478087ff0097f11313e9": {
     "model_module": "@jupyter-widgets/controls",
     "model_module_version": "1.5.0",
     "model_name": "DescriptionStyleModel",
     "state": {
      "_model_module": "@jupyter-widgets/controls",
      "_model_module_version": "1.5.0",
      "_model_name": "DescriptionStyleModel",
      "_view_count": null,
      "_view_module": "@jupyter-widgets/base",
      "_view_module_version": "1.2.0",
      "_view_name": "StyleView",
      "description_width": ""
     }
    },
    "67dbcb9fcf1c48a7aa70472760e486e7": {
     "model_module": "@jupyter-widgets/controls",
     "model_module_version": "1.5.0",
     "model_name": "HBoxModel",
     "state": {
      "_dom_classes": [],
      "_model_module": "@jupyter-widgets/controls",
      "_model_module_version": "1.5.0",
      "_model_name": "HBoxModel",
      "_view_count": null,
      "_view_module": "@jupyter-widgets/controls",
      "_view_module_version": "1.5.0",
      "_view_name": "HBoxView",
      "box_style": "",
      "children": [
       "IPY_MODEL_72244fcf4346440bb6a292f48d283727",
       "IPY_MODEL_0bb2967d59f94006967220488b47bffb",
       "IPY_MODEL_b9f8d8a2d4914704bd88461febfea740"
      ],
      "layout": "IPY_MODEL_9c3cd37ca6f84e4c9108bb89712c42f2"
     }
    },
    "6838f3e71df14ee79202f9ada96030a6": {
     "model_module": "@jupyter-widgets/base",
     "model_module_version": "1.2.0",
     "model_name": "LayoutModel",
     "state": {
      "_model_module": "@jupyter-widgets/base",
      "_model_module_version": "1.2.0",
      "_model_name": "LayoutModel",
      "_view_count": null,
      "_view_module": "@jupyter-widgets/base",
      "_view_module_version": "1.2.0",
      "_view_name": "LayoutView",
      "align_content": null,
      "align_items": null,
      "align_self": null,
      "border": null,
      "bottom": null,
      "display": null,
      "flex": null,
      "flex_flow": null,
      "grid_area": null,
      "grid_auto_columns": null,
      "grid_auto_flow": null,
      "grid_auto_rows": null,
      "grid_column": null,
      "grid_gap": null,
      "grid_row": null,
      "grid_template_areas": null,
      "grid_template_columns": null,
      "grid_template_rows": null,
      "height": null,
      "justify_content": null,
      "justify_items": null,
      "left": null,
      "margin": null,
      "max_height": null,
      "max_width": null,
      "min_height": null,
      "min_width": null,
      "object_fit": null,
      "object_position": null,
      "order": null,
      "overflow": null,
      "overflow_x": null,
      "overflow_y": null,
      "padding": null,
      "right": null,
      "top": null,
      "visibility": null,
      "width": null
     }
    },
    "68fc7bb5775d4dfe8e1f7a17181ddee9": {
     "model_module": "@jupyter-widgets/controls",
     "model_module_version": "1.5.0",
     "model_name": "HBoxModel",
     "state": {
      "_dom_classes": [],
      "_model_module": "@jupyter-widgets/controls",
      "_model_module_version": "1.5.0",
      "_model_name": "HBoxModel",
      "_view_count": null,
      "_view_module": "@jupyter-widgets/controls",
      "_view_module_version": "1.5.0",
      "_view_name": "HBoxView",
      "box_style": "",
      "children": [
       "IPY_MODEL_3e33d9a559734ea982a0df8ccdd78b2a",
       "IPY_MODEL_6c0c1b729f674519a43a8e5da98a6ceb",
       "IPY_MODEL_921af096b2fc41de9acc8c883f6c0ad1"
      ],
      "layout": "IPY_MODEL_3c7b46e804494495861472b598a976b9"
     }
    },
    "6900d4fc9aff4920bd729f456f2c6e2e": {
     "model_module": "@jupyter-widgets/controls",
     "model_module_version": "1.5.0",
     "model_name": "DescriptionStyleModel",
     "state": {
      "_model_module": "@jupyter-widgets/controls",
      "_model_module_version": "1.5.0",
      "_model_name": "DescriptionStyleModel",
      "_view_count": null,
      "_view_module": "@jupyter-widgets/base",
      "_view_module_version": "1.2.0",
      "_view_name": "StyleView",
      "description_width": ""
     }
    },
    "6c0c1b729f674519a43a8e5da98a6ceb": {
     "model_module": "@jupyter-widgets/controls",
     "model_module_version": "1.5.0",
     "model_name": "FloatProgressModel",
     "state": {
      "_dom_classes": [],
      "_model_module": "@jupyter-widgets/controls",
      "_model_module_version": "1.5.0",
      "_model_name": "FloatProgressModel",
      "_view_count": null,
      "_view_module": "@jupyter-widgets/controls",
      "_view_module_version": "1.5.0",
      "_view_name": "ProgressView",
      "bar_style": "success",
      "description": "",
      "description_tooltip": null,
      "layout": "IPY_MODEL_da4482c2c5f04c59a278e42e7d29e026",
      "max": 1495,
      "min": 0,
      "orientation": "horizontal",
      "style": "IPY_MODEL_54f08e7d38ac454ab2a05fe074f54b12",
      "value": 1495
     }
    },
    "6ebb6f11226c4114a7f00db3676d59c7": {
     "model_module": "@jupyter-widgets/controls",
     "model_module_version": "1.5.0",
     "model_name": "HBoxModel",
     "state": {
      "_dom_classes": [],
      "_model_module": "@jupyter-widgets/controls",
      "_model_module_version": "1.5.0",
      "_model_name": "HBoxModel",
      "_view_count": null,
      "_view_module": "@jupyter-widgets/controls",
      "_view_module_version": "1.5.0",
      "_view_name": "HBoxView",
      "box_style": "",
      "children": [
       "IPY_MODEL_1c8af6d427524bc0b44d335a9037d063",
       "IPY_MODEL_cf3e104c07794b75b9fd7d6b413bc8b9",
       "IPY_MODEL_c993a4d8158e42459cc8dcb77888b094"
      ],
      "layout": "IPY_MODEL_7fa0c95c2e0f4dbdae4a595c4b37ddbc"
     }
    },
    "7113804a61404c17870cc8b13921a21b": {
     "model_module": "@jupyter-widgets/base",
     "model_module_version": "1.2.0",
     "model_name": "LayoutModel",
     "state": {
      "_model_module": "@jupyter-widgets/base",
      "_model_module_version": "1.2.0",
      "_model_name": "LayoutModel",
      "_view_count": null,
      "_view_module": "@jupyter-widgets/base",
      "_view_module_version": "1.2.0",
      "_view_name": "LayoutView",
      "align_content": null,
      "align_items": null,
      "align_self": null,
      "border": null,
      "bottom": null,
      "display": null,
      "flex": null,
      "flex_flow": null,
      "grid_area": null,
      "grid_auto_columns": null,
      "grid_auto_flow": null,
      "grid_auto_rows": null,
      "grid_column": null,
      "grid_gap": null,
      "grid_row": null,
      "grid_template_areas": null,
      "grid_template_columns": null,
      "grid_template_rows": null,
      "height": null,
      "justify_content": null,
      "justify_items": null,
      "left": null,
      "margin": null,
      "max_height": null,
      "max_width": null,
      "min_height": null,
      "min_width": null,
      "object_fit": null,
      "object_position": null,
      "order": null,
      "overflow": null,
      "overflow_x": null,
      "overflow_y": null,
      "padding": null,
      "right": null,
      "top": null,
      "visibility": null,
      "width": null
     }
    },
    "71fb75fd9b7540f784c6e066430362c4": {
     "model_module": "@jupyter-widgets/controls",
     "model_module_version": "1.5.0",
     "model_name": "ProgressStyleModel",
     "state": {
      "_model_module": "@jupyter-widgets/controls",
      "_model_module_version": "1.5.0",
      "_model_name": "ProgressStyleModel",
      "_view_count": null,
      "_view_module": "@jupyter-widgets/base",
      "_view_module_version": "1.2.0",
      "_view_name": "StyleView",
      "bar_color": null,
      "description_width": ""
     }
    },
    "72244fcf4346440bb6a292f48d283727": {
     "model_module": "@jupyter-widgets/controls",
     "model_module_version": "1.5.0",
     "model_name": "HTMLModel",
     "state": {
      "_dom_classes": [],
      "_model_module": "@jupyter-widgets/controls",
      "_model_module_version": "1.5.0",
      "_model_name": "HTMLModel",
      "_view_count": null,
      "_view_module": "@jupyter-widgets/controls",
      "_view_module_version": "1.5.0",
      "_view_name": "HTMLView",
      "description": "",
      "description_tooltip": null,
      "layout": "IPY_MODEL_f44e1cb4aaa14da785ef4af8e016c1d2",
      "placeholder": "​",
      "style": "IPY_MODEL_6900d4fc9aff4920bd729f456f2c6e2e",
      "value": "Epoch 2/10: 100%"
     }
    },
    "72ba31f8f62242919065bd3cba53f112": {
     "model_module": "@jupyter-widgets/controls",
     "model_module_version": "1.5.0",
     "model_name": "ProgressStyleModel",
     "state": {
      "_model_module": "@jupyter-widgets/controls",
      "_model_module_version": "1.5.0",
      "_model_name": "ProgressStyleModel",
      "_view_count": null,
      "_view_module": "@jupyter-widgets/base",
      "_view_module_version": "1.2.0",
      "_view_name": "StyleView",
      "bar_color": null,
      "description_width": ""
     }
    },
    "7414ab078f4e42efb260b0fb2a9d501e": {
     "model_module": "@jupyter-widgets/base",
     "model_module_version": "1.2.0",
     "model_name": "LayoutModel",
     "state": {
      "_model_module": "@jupyter-widgets/base",
      "_model_module_version": "1.2.0",
      "_model_name": "LayoutModel",
      "_view_count": null,
      "_view_module": "@jupyter-widgets/base",
      "_view_module_version": "1.2.0",
      "_view_name": "LayoutView",
      "align_content": null,
      "align_items": null,
      "align_self": null,
      "border": null,
      "bottom": null,
      "display": null,
      "flex": null,
      "flex_flow": null,
      "grid_area": null,
      "grid_auto_columns": null,
      "grid_auto_flow": null,
      "grid_auto_rows": null,
      "grid_column": null,
      "grid_gap": null,
      "grid_row": null,
      "grid_template_areas": null,
      "grid_template_columns": null,
      "grid_template_rows": null,
      "height": null,
      "justify_content": null,
      "justify_items": null,
      "left": null,
      "margin": null,
      "max_height": null,
      "max_width": null,
      "min_height": null,
      "min_width": null,
      "object_fit": null,
      "object_position": null,
      "order": null,
      "overflow": null,
      "overflow_x": null,
      "overflow_y": null,
      "padding": null,
      "right": null,
      "top": null,
      "visibility": null,
      "width": null
     }
    },
    "7433f125465e463aa386a4928a70e144": {
     "model_module": "@jupyter-widgets/base",
     "model_module_version": "1.2.0",
     "model_name": "LayoutModel",
     "state": {
      "_model_module": "@jupyter-widgets/base",
      "_model_module_version": "1.2.0",
      "_model_name": "LayoutModel",
      "_view_count": null,
      "_view_module": "@jupyter-widgets/base",
      "_view_module_version": "1.2.0",
      "_view_name": "LayoutView",
      "align_content": null,
      "align_items": null,
      "align_self": null,
      "border": null,
      "bottom": null,
      "display": null,
      "flex": null,
      "flex_flow": null,
      "grid_area": null,
      "grid_auto_columns": null,
      "grid_auto_flow": null,
      "grid_auto_rows": null,
      "grid_column": null,
      "grid_gap": null,
      "grid_row": null,
      "grid_template_areas": null,
      "grid_template_columns": null,
      "grid_template_rows": null,
      "height": null,
      "justify_content": null,
      "justify_items": null,
      "left": null,
      "margin": null,
      "max_height": null,
      "max_width": null,
      "min_height": null,
      "min_width": null,
      "object_fit": null,
      "object_position": null,
      "order": null,
      "overflow": null,
      "overflow_x": null,
      "overflow_y": null,
      "padding": null,
      "right": null,
      "top": null,
      "visibility": null,
      "width": null
     }
    },
    "74f0e22f64dd4d99832a6201523be013": {
     "model_module": "@jupyter-widgets/controls",
     "model_module_version": "1.5.0",
     "model_name": "FloatProgressModel",
     "state": {
      "_dom_classes": [],
      "_model_module": "@jupyter-widgets/controls",
      "_model_module_version": "1.5.0",
      "_model_name": "FloatProgressModel",
      "_view_count": null,
      "_view_module": "@jupyter-widgets/controls",
      "_view_module_version": "1.5.0",
      "_view_name": "ProgressView",
      "bar_style": "success",
      "description": "",
      "description_tooltip": null,
      "layout": "IPY_MODEL_23c4929e6a764d658820e7fa4d977a05",
      "max": 1495,
      "min": 0,
      "orientation": "horizontal",
      "style": "IPY_MODEL_4761b9e976164fc199593cf7b8269747",
      "value": 1495
     }
    },
    "7aa26adf9a0747d998bd408cc1183e9a": {
     "model_module": "@jupyter-widgets/controls",
     "model_module_version": "1.5.0",
     "model_name": "DescriptionStyleModel",
     "state": {
      "_model_module": "@jupyter-widgets/controls",
      "_model_module_version": "1.5.0",
      "_model_name": "DescriptionStyleModel",
      "_view_count": null,
      "_view_module": "@jupyter-widgets/base",
      "_view_module_version": "1.2.0",
      "_view_name": "StyleView",
      "description_width": ""
     }
    },
    "7d688c9efb90473787140eb337798e76": {
     "model_module": "@jupyter-widgets/controls",
     "model_module_version": "1.5.0",
     "model_name": "HTMLModel",
     "state": {
      "_dom_classes": [],
      "_model_module": "@jupyter-widgets/controls",
      "_model_module_version": "1.5.0",
      "_model_name": "HTMLModel",
      "_view_count": null,
      "_view_module": "@jupyter-widgets/controls",
      "_view_module_version": "1.5.0",
      "_view_name": "HTMLView",
      "description": "",
      "description_tooltip": null,
      "layout": "IPY_MODEL_a55ab80b89704018b8c95a86b00506e7",
      "placeholder": "​",
      "style": "IPY_MODEL_3c93b1fbba744d07bbf90da14aa44e04",
      "value": "Epoch 5/10: 100%"
     }
    },
    "7fa0c95c2e0f4dbdae4a595c4b37ddbc": {
     "model_module": "@jupyter-widgets/base",
     "model_module_version": "1.2.0",
     "model_name": "LayoutModel",
     "state": {
      "_model_module": "@jupyter-widgets/base",
      "_model_module_version": "1.2.0",
      "_model_name": "LayoutModel",
      "_view_count": null,
      "_view_module": "@jupyter-widgets/base",
      "_view_module_version": "1.2.0",
      "_view_name": "LayoutView",
      "align_content": null,
      "align_items": null,
      "align_self": null,
      "border": null,
      "bottom": null,
      "display": null,
      "flex": null,
      "flex_flow": null,
      "grid_area": null,
      "grid_auto_columns": null,
      "grid_auto_flow": null,
      "grid_auto_rows": null,
      "grid_column": null,
      "grid_gap": null,
      "grid_row": null,
      "grid_template_areas": null,
      "grid_template_columns": null,
      "grid_template_rows": null,
      "height": null,
      "justify_content": null,
      "justify_items": null,
      "left": null,
      "margin": null,
      "max_height": null,
      "max_width": null,
      "min_height": null,
      "min_width": null,
      "object_fit": null,
      "object_position": null,
      "order": null,
      "overflow": null,
      "overflow_x": null,
      "overflow_y": null,
      "padding": null,
      "right": null,
      "top": null,
      "visibility": null,
      "width": null
     }
    },
    "8a9c92cec8e74471a180f11888f9bb93": {
     "model_module": "@jupyter-widgets/controls",
     "model_module_version": "1.5.0",
     "model_name": "HTMLModel",
     "state": {
      "_dom_classes": [],
      "_model_module": "@jupyter-widgets/controls",
      "_model_module_version": "1.5.0",
      "_model_name": "HTMLModel",
      "_view_count": null,
      "_view_module": "@jupyter-widgets/controls",
      "_view_module_version": "1.5.0",
      "_view_name": "HTMLView",
      "description": "",
      "description_tooltip": null,
      "layout": "IPY_MODEL_c64c4731e45e45f1888737941d13b8e7",
      "placeholder": "​",
      "style": "IPY_MODEL_7aa26adf9a0747d998bd408cc1183e9a",
      "value": " 1495/1495 [00:24&lt;00:00, 69.20it/s, train_loss=0.423]"
     }
    },
    "8d30cbeb39994379907e8ead691ec6e0": {
     "model_module": "@jupyter-widgets/base",
     "model_module_version": "1.2.0",
     "model_name": "LayoutModel",
     "state": {
      "_model_module": "@jupyter-widgets/base",
      "_model_module_version": "1.2.0",
      "_model_name": "LayoutModel",
      "_view_count": null,
      "_view_module": "@jupyter-widgets/base",
      "_view_module_version": "1.2.0",
      "_view_name": "LayoutView",
      "align_content": null,
      "align_items": null,
      "align_self": null,
      "border": null,
      "bottom": null,
      "display": null,
      "flex": null,
      "flex_flow": null,
      "grid_area": null,
      "grid_auto_columns": null,
      "grid_auto_flow": null,
      "grid_auto_rows": null,
      "grid_column": null,
      "grid_gap": null,
      "grid_row": null,
      "grid_template_areas": null,
      "grid_template_columns": null,
      "grid_template_rows": null,
      "height": null,
      "justify_content": null,
      "justify_items": null,
      "left": null,
      "margin": null,
      "max_height": null,
      "max_width": null,
      "min_height": null,
      "min_width": null,
      "object_fit": null,
      "object_position": null,
      "order": null,
      "overflow": null,
      "overflow_x": null,
      "overflow_y": null,
      "padding": null,
      "right": null,
      "top": null,
      "visibility": null,
      "width": null
     }
    },
    "8f9aacc4091d4eb2b57baff77503b7a9": {
     "model_module": "@jupyter-widgets/controls",
     "model_module_version": "1.5.0",
     "model_name": "ProgressStyleModel",
     "state": {
      "_model_module": "@jupyter-widgets/controls",
      "_model_module_version": "1.5.0",
      "_model_name": "ProgressStyleModel",
      "_view_count": null,
      "_view_module": "@jupyter-widgets/base",
      "_view_module_version": "1.2.0",
      "_view_name": "StyleView",
      "bar_color": null,
      "description_width": ""
     }
    },
    "904124b075054a3e95abbed5ca4392c1": {
     "model_module": "@jupyter-widgets/controls",
     "model_module_version": "1.5.0",
     "model_name": "ProgressStyleModel",
     "state": {
      "_model_module": "@jupyter-widgets/controls",
      "_model_module_version": "1.5.0",
      "_model_name": "ProgressStyleModel",
      "_view_count": null,
      "_view_module": "@jupyter-widgets/base",
      "_view_module_version": "1.2.0",
      "_view_name": "StyleView",
      "bar_color": null,
      "description_width": ""
     }
    },
    "921af096b2fc41de9acc8c883f6c0ad1": {
     "model_module": "@jupyter-widgets/controls",
     "model_module_version": "1.5.0",
     "model_name": "HTMLModel",
     "state": {
      "_dom_classes": [],
      "_model_module": "@jupyter-widgets/controls",
      "_model_module_version": "1.5.0",
      "_model_name": "HTMLModel",
      "_view_count": null,
      "_view_module": "@jupyter-widgets/controls",
      "_view_module_version": "1.5.0",
      "_view_name": "HTMLView",
      "description": "",
      "description_tooltip": null,
      "layout": "IPY_MODEL_3d1da7a34f52483fbc8a419031ef0a25",
      "placeholder": "​",
      "style": "IPY_MODEL_c803728552bf4b08a0bc04256f98409d",
      "value": " 1495/1495 [00:39&lt;00:00, 25.12it/s, train_loss=0.512]"
     }
    },
    "925746f78ec24bf2be04fedfc1d1fa4c": {
     "model_module": "@jupyter-widgets/controls",
     "model_module_version": "1.5.0",
     "model_name": "DescriptionStyleModel",
     "state": {
      "_model_module": "@jupyter-widgets/controls",
      "_model_module_version": "1.5.0",
      "_model_name": "DescriptionStyleModel",
      "_view_count": null,
      "_view_module": "@jupyter-widgets/base",
      "_view_module_version": "1.2.0",
      "_view_name": "StyleView",
      "description_width": ""
     }
    },
    "9261a6b92a764664a90efb95ce1c69ad": {
     "model_module": "@jupyter-widgets/base",
     "model_module_version": "1.2.0",
     "model_name": "LayoutModel",
     "state": {
      "_model_module": "@jupyter-widgets/base",
      "_model_module_version": "1.2.0",
      "_model_name": "LayoutModel",
      "_view_count": null,
      "_view_module": "@jupyter-widgets/base",
      "_view_module_version": "1.2.0",
      "_view_name": "LayoutView",
      "align_content": null,
      "align_items": null,
      "align_self": null,
      "border": null,
      "bottom": null,
      "display": null,
      "flex": null,
      "flex_flow": null,
      "grid_area": null,
      "grid_auto_columns": null,
      "grid_auto_flow": null,
      "grid_auto_rows": null,
      "grid_column": null,
      "grid_gap": null,
      "grid_row": null,
      "grid_template_areas": null,
      "grid_template_columns": null,
      "grid_template_rows": null,
      "height": null,
      "justify_content": null,
      "justify_items": null,
      "left": null,
      "margin": null,
      "max_height": null,
      "max_width": null,
      "min_height": null,
      "min_width": null,
      "object_fit": null,
      "object_position": null,
      "order": null,
      "overflow": null,
      "overflow_x": null,
      "overflow_y": null,
      "padding": null,
      "right": null,
      "top": null,
      "visibility": null,
      "width": null
     }
    },
    "959ad9b215044c6ea4b23dc4706bdcc0": {
     "model_module": "@jupyter-widgets/base",
     "model_module_version": "1.2.0",
     "model_name": "LayoutModel",
     "state": {
      "_model_module": "@jupyter-widgets/base",
      "_model_module_version": "1.2.0",
      "_model_name": "LayoutModel",
      "_view_count": null,
      "_view_module": "@jupyter-widgets/base",
      "_view_module_version": "1.2.0",
      "_view_name": "LayoutView",
      "align_content": null,
      "align_items": null,
      "align_self": null,
      "border": null,
      "bottom": null,
      "display": null,
      "flex": null,
      "flex_flow": null,
      "grid_area": null,
      "grid_auto_columns": null,
      "grid_auto_flow": null,
      "grid_auto_rows": null,
      "grid_column": null,
      "grid_gap": null,
      "grid_row": null,
      "grid_template_areas": null,
      "grid_template_columns": null,
      "grid_template_rows": null,
      "height": null,
      "justify_content": null,
      "justify_items": null,
      "left": null,
      "margin": null,
      "max_height": null,
      "max_width": null,
      "min_height": null,
      "min_width": null,
      "object_fit": null,
      "object_position": null,
      "order": null,
      "overflow": null,
      "overflow_x": null,
      "overflow_y": null,
      "padding": null,
      "right": null,
      "top": null,
      "visibility": null,
      "width": null
     }
    },
    "985db25c8f1946f6aa420bc432272c35": {
     "model_module": "@jupyter-widgets/controls",
     "model_module_version": "1.5.0",
     "model_name": "HTMLModel",
     "state": {
      "_dom_classes": [],
      "_model_module": "@jupyter-widgets/controls",
      "_model_module_version": "1.5.0",
      "_model_name": "HTMLModel",
      "_view_count": null,
      "_view_module": "@jupyter-widgets/controls",
      "_view_module_version": "1.5.0",
      "_view_name": "HTMLView",
      "description": "",
      "description_tooltip": null,
      "layout": "IPY_MODEL_3d2502b8c4c14d83bb609840d5da3e3b",
      "placeholder": "​",
      "style": "IPY_MODEL_9fcb1f161f574b789eed795972eeadec",
      "value": "Epoch 10/10: 100%"
     }
    },
    "9966c25f0262429ab7bbd0731a714916": {
     "model_module": "@jupyter-widgets/controls",
     "model_module_version": "1.5.0",
     "model_name": "HBoxModel",
     "state": {
      "_dom_classes": [],
      "_model_module": "@jupyter-widgets/controls",
      "_model_module_version": "1.5.0",
      "_model_name": "HBoxModel",
      "_view_count": null,
      "_view_module": "@jupyter-widgets/controls",
      "_view_module_version": "1.5.0",
      "_view_name": "HBoxView",
      "box_style": "",
      "children": [
       "IPY_MODEL_985db25c8f1946f6aa420bc432272c35",
       "IPY_MODEL_4733cd39045c47bfb2e5d6ceebf6c3ef",
       "IPY_MODEL_b8403eaf68b649baba365f5a398974d9"
      ],
      "layout": "IPY_MODEL_07c72348577e4b7a98482863daa3548e"
     }
    },
    "9c3cd37ca6f84e4c9108bb89712c42f2": {
     "model_module": "@jupyter-widgets/base",
     "model_module_version": "1.2.0",
     "model_name": "LayoutModel",
     "state": {
      "_model_module": "@jupyter-widgets/base",
      "_model_module_version": "1.2.0",
      "_model_name": "LayoutModel",
      "_view_count": null,
      "_view_module": "@jupyter-widgets/base",
      "_view_module_version": "1.2.0",
      "_view_name": "LayoutView",
      "align_content": null,
      "align_items": null,
      "align_self": null,
      "border": null,
      "bottom": null,
      "display": null,
      "flex": null,
      "flex_flow": null,
      "grid_area": null,
      "grid_auto_columns": null,
      "grid_auto_flow": null,
      "grid_auto_rows": null,
      "grid_column": null,
      "grid_gap": null,
      "grid_row": null,
      "grid_template_areas": null,
      "grid_template_columns": null,
      "grid_template_rows": null,
      "height": null,
      "justify_content": null,
      "justify_items": null,
      "left": null,
      "margin": null,
      "max_height": null,
      "max_width": null,
      "min_height": null,
      "min_width": null,
      "object_fit": null,
      "object_position": null,
      "order": null,
      "overflow": null,
      "overflow_x": null,
      "overflow_y": null,
      "padding": null,
      "right": null,
      "top": null,
      "visibility": null,
      "width": null
     }
    },
    "9d7197c47e5d45f89eb4260ba22ca2f5": {
     "model_module": "@jupyter-widgets/controls",
     "model_module_version": "1.5.0",
     "model_name": "DescriptionStyleModel",
     "state": {
      "_model_module": "@jupyter-widgets/controls",
      "_model_module_version": "1.5.0",
      "_model_name": "DescriptionStyleModel",
      "_view_count": null,
      "_view_module": "@jupyter-widgets/base",
      "_view_module_version": "1.2.0",
      "_view_name": "StyleView",
      "description_width": ""
     }
    },
    "9ef82070bc6b406ea251a56a59fcda81": {
     "model_module": "@jupyter-widgets/base",
     "model_module_version": "1.2.0",
     "model_name": "LayoutModel",
     "state": {
      "_model_module": "@jupyter-widgets/base",
      "_model_module_version": "1.2.0",
      "_model_name": "LayoutModel",
      "_view_count": null,
      "_view_module": "@jupyter-widgets/base",
      "_view_module_version": "1.2.0",
      "_view_name": "LayoutView",
      "align_content": null,
      "align_items": null,
      "align_self": null,
      "border": null,
      "bottom": null,
      "display": null,
      "flex": null,
      "flex_flow": null,
      "grid_area": null,
      "grid_auto_columns": null,
      "grid_auto_flow": null,
      "grid_auto_rows": null,
      "grid_column": null,
      "grid_gap": null,
      "grid_row": null,
      "grid_template_areas": null,
      "grid_template_columns": null,
      "grid_template_rows": null,
      "height": null,
      "justify_content": null,
      "justify_items": null,
      "left": null,
      "margin": null,
      "max_height": null,
      "max_width": null,
      "min_height": null,
      "min_width": null,
      "object_fit": null,
      "object_position": null,
      "order": null,
      "overflow": null,
      "overflow_x": null,
      "overflow_y": null,
      "padding": null,
      "right": null,
      "top": null,
      "visibility": null,
      "width": null
     }
    },
    "9fcb1f161f574b789eed795972eeadec": {
     "model_module": "@jupyter-widgets/controls",
     "model_module_version": "1.5.0",
     "model_name": "DescriptionStyleModel",
     "state": {
      "_model_module": "@jupyter-widgets/controls",
      "_model_module_version": "1.5.0",
      "_model_name": "DescriptionStyleModel",
      "_view_count": null,
      "_view_module": "@jupyter-widgets/base",
      "_view_module_version": "1.2.0",
      "_view_name": "StyleView",
      "description_width": ""
     }
    },
    "a3f4d46de3d04e2fb2c7c526f1aa90f7": {
     "model_module": "@jupyter-widgets/base",
     "model_module_version": "1.2.0",
     "model_name": "LayoutModel",
     "state": {
      "_model_module": "@jupyter-widgets/base",
      "_model_module_version": "1.2.0",
      "_model_name": "LayoutModel",
      "_view_count": null,
      "_view_module": "@jupyter-widgets/base",
      "_view_module_version": "1.2.0",
      "_view_name": "LayoutView",
      "align_content": null,
      "align_items": null,
      "align_self": null,
      "border": null,
      "bottom": null,
      "display": null,
      "flex": null,
      "flex_flow": null,
      "grid_area": null,
      "grid_auto_columns": null,
      "grid_auto_flow": null,
      "grid_auto_rows": null,
      "grid_column": null,
      "grid_gap": null,
      "grid_row": null,
      "grid_template_areas": null,
      "grid_template_columns": null,
      "grid_template_rows": null,
      "height": null,
      "justify_content": null,
      "justify_items": null,
      "left": null,
      "margin": null,
      "max_height": null,
      "max_width": null,
      "min_height": null,
      "min_width": null,
      "object_fit": null,
      "object_position": null,
      "order": null,
      "overflow": null,
      "overflow_x": null,
      "overflow_y": null,
      "padding": null,
      "right": null,
      "top": null,
      "visibility": null,
      "width": null
     }
    },
    "a55ab80b89704018b8c95a86b00506e7": {
     "model_module": "@jupyter-widgets/base",
     "model_module_version": "1.2.0",
     "model_name": "LayoutModel",
     "state": {
      "_model_module": "@jupyter-widgets/base",
      "_model_module_version": "1.2.0",
      "_model_name": "LayoutModel",
      "_view_count": null,
      "_view_module": "@jupyter-widgets/base",
      "_view_module_version": "1.2.0",
      "_view_name": "LayoutView",
      "align_content": null,
      "align_items": null,
      "align_self": null,
      "border": null,
      "bottom": null,
      "display": null,
      "flex": null,
      "flex_flow": null,
      "grid_area": null,
      "grid_auto_columns": null,
      "grid_auto_flow": null,
      "grid_auto_rows": null,
      "grid_column": null,
      "grid_gap": null,
      "grid_row": null,
      "grid_template_areas": null,
      "grid_template_columns": null,
      "grid_template_rows": null,
      "height": null,
      "justify_content": null,
      "justify_items": null,
      "left": null,
      "margin": null,
      "max_height": null,
      "max_width": null,
      "min_height": null,
      "min_width": null,
      "object_fit": null,
      "object_position": null,
      "order": null,
      "overflow": null,
      "overflow_x": null,
      "overflow_y": null,
      "padding": null,
      "right": null,
      "top": null,
      "visibility": null,
      "width": null
     }
    },
    "ace3f161152449ddbe3437c00175b5c0": {
     "model_module": "@jupyter-widgets/controls",
     "model_module_version": "1.5.0",
     "model_name": "HTMLModel",
     "state": {
      "_dom_classes": [],
      "_model_module": "@jupyter-widgets/controls",
      "_model_module_version": "1.5.0",
      "_model_name": "HTMLModel",
      "_view_count": null,
      "_view_module": "@jupyter-widgets/controls",
      "_view_module_version": "1.5.0",
      "_view_name": "HTMLView",
      "description": "",
      "description_tooltip": null,
      "layout": "IPY_MODEL_c2c37b7951bc435ba775228e60d0ca19",
      "placeholder": "​",
      "style": "IPY_MODEL_28b4956dc1a34c11904ebee43be5f75a",
      "value": "Epoch 6/10: 100%"
     }
    },
    "b00198cdb6f44ba5a082a1a4bf9ecd68": {
     "model_module": "@jupyter-widgets/controls",
     "model_module_version": "1.5.0",
     "model_name": "HTMLModel",
     "state": {
      "_dom_classes": [],
      "_model_module": "@jupyter-widgets/controls",
      "_model_module_version": "1.5.0",
      "_model_name": "HTMLModel",
      "_view_count": null,
      "_view_module": "@jupyter-widgets/controls",
      "_view_module_version": "1.5.0",
      "_view_name": "HTMLView",
      "description": "",
      "description_tooltip": null,
      "layout": "IPY_MODEL_a3f4d46de3d04e2fb2c7c526f1aa90f7",
      "placeholder": "​",
      "style": "IPY_MODEL_e36f6a34ab134330b2e604ec2a605b33",
      "value": "Epoch 1/10: 100%"
     }
    },
    "b6ddc786aee248bfbc36624865d6b012": {
     "model_module": "@jupyter-widgets/base",
     "model_module_version": "1.2.0",
     "model_name": "LayoutModel",
     "state": {
      "_model_module": "@jupyter-widgets/base",
      "_model_module_version": "1.2.0",
      "_model_name": "LayoutModel",
      "_view_count": null,
      "_view_module": "@jupyter-widgets/base",
      "_view_module_version": "1.2.0",
      "_view_name": "LayoutView",
      "align_content": null,
      "align_items": null,
      "align_self": null,
      "border": null,
      "bottom": null,
      "display": null,
      "flex": null,
      "flex_flow": null,
      "grid_area": null,
      "grid_auto_columns": null,
      "grid_auto_flow": null,
      "grid_auto_rows": null,
      "grid_column": null,
      "grid_gap": null,
      "grid_row": null,
      "grid_template_areas": null,
      "grid_template_columns": null,
      "grid_template_rows": null,
      "height": null,
      "justify_content": null,
      "justify_items": null,
      "left": null,
      "margin": null,
      "max_height": null,
      "max_width": null,
      "min_height": null,
      "min_width": null,
      "object_fit": null,
      "object_position": null,
      "order": null,
      "overflow": null,
      "overflow_x": null,
      "overflow_y": null,
      "padding": null,
      "right": null,
      "top": null,
      "visibility": null,
      "width": null
     }
    },
    "b8403eaf68b649baba365f5a398974d9": {
     "model_module": "@jupyter-widgets/controls",
     "model_module_version": "1.5.0",
     "model_name": "HTMLModel",
     "state": {
      "_dom_classes": [],
      "_model_module": "@jupyter-widgets/controls",
      "_model_module_version": "1.5.0",
      "_model_name": "HTMLModel",
      "_view_count": null,
      "_view_module": "@jupyter-widgets/controls",
      "_view_module_version": "1.5.0",
      "_view_name": "HTMLView",
      "description": "",
      "description_tooltip": null,
      "layout": "IPY_MODEL_9ef82070bc6b406ea251a56a59fcda81",
      "placeholder": "​",
      "style": "IPY_MODEL_c3a9a8fa7bc64dbbb91859484f75928b",
      "value": " 1495/1495 [00:28&lt;00:00, 45.51it/s, train_loss=0.508]"
     }
    },
    "b9f8d8a2d4914704bd88461febfea740": {
     "model_module": "@jupyter-widgets/controls",
     "model_module_version": "1.5.0",
     "model_name": "HTMLModel",
     "state": {
      "_dom_classes": [],
      "_model_module": "@jupyter-widgets/controls",
      "_model_module_version": "1.5.0",
      "_model_name": "HTMLModel",
      "_view_count": null,
      "_view_module": "@jupyter-widgets/controls",
      "_view_module_version": "1.5.0",
      "_view_name": "HTMLView",
      "description": "",
      "description_tooltip": null,
      "layout": "IPY_MODEL_07278ace6b5e434aaad6f6b5503587d3",
      "placeholder": "​",
      "style": "IPY_MODEL_31bf0adf15844cde86a68c119ae601e2",
      "value": " 1495/1495 [00:24&lt;00:00, 62.51it/s, train_loss=0.675]"
     }
    },
    "bc551b2a8015433e9afad0335b3c3040": {
     "model_module": "@jupyter-widgets/base",
     "model_module_version": "1.2.0",
     "model_name": "LayoutModel",
     "state": {
      "_model_module": "@jupyter-widgets/base",
      "_model_module_version": "1.2.0",
      "_model_name": "LayoutModel",
      "_view_count": null,
      "_view_module": "@jupyter-widgets/base",
      "_view_module_version": "1.2.0",
      "_view_name": "LayoutView",
      "align_content": null,
      "align_items": null,
      "align_self": null,
      "border": null,
      "bottom": null,
      "display": null,
      "flex": null,
      "flex_flow": null,
      "grid_area": null,
      "grid_auto_columns": null,
      "grid_auto_flow": null,
      "grid_auto_rows": null,
      "grid_column": null,
      "grid_gap": null,
      "grid_row": null,
      "grid_template_areas": null,
      "grid_template_columns": null,
      "grid_template_rows": null,
      "height": null,
      "justify_content": null,
      "justify_items": null,
      "left": null,
      "margin": null,
      "max_height": null,
      "max_width": null,
      "min_height": null,
      "min_width": null,
      "object_fit": null,
      "object_position": null,
      "order": null,
      "overflow": null,
      "overflow_x": null,
      "overflow_y": null,
      "padding": null,
      "right": null,
      "top": null,
      "visibility": null,
      "width": null
     }
    },
    "bcdfd3fe43474eac9d7702f5cdc96e66": {
     "model_module": "@jupyter-widgets/controls",
     "model_module_version": "1.5.0",
     "model_name": "DescriptionStyleModel",
     "state": {
      "_model_module": "@jupyter-widgets/controls",
      "_model_module_version": "1.5.0",
      "_model_name": "DescriptionStyleModel",
      "_view_count": null,
      "_view_module": "@jupyter-widgets/base",
      "_view_module_version": "1.2.0",
      "_view_name": "StyleView",
      "description_width": ""
     }
    },
    "bfcbb8ea630948dc9ad1675f6c2b8f19": {
     "model_module": "@jupyter-widgets/controls",
     "model_module_version": "1.5.0",
     "model_name": "DescriptionStyleModel",
     "state": {
      "_model_module": "@jupyter-widgets/controls",
      "_model_module_version": "1.5.0",
      "_model_name": "DescriptionStyleModel",
      "_view_count": null,
      "_view_module": "@jupyter-widgets/base",
      "_view_module_version": "1.2.0",
      "_view_name": "StyleView",
      "description_width": ""
     }
    },
    "c2c37b7951bc435ba775228e60d0ca19": {
     "model_module": "@jupyter-widgets/base",
     "model_module_version": "1.2.0",
     "model_name": "LayoutModel",
     "state": {
      "_model_module": "@jupyter-widgets/base",
      "_model_module_version": "1.2.0",
      "_model_name": "LayoutModel",
      "_view_count": null,
      "_view_module": "@jupyter-widgets/base",
      "_view_module_version": "1.2.0",
      "_view_name": "LayoutView",
      "align_content": null,
      "align_items": null,
      "align_self": null,
      "border": null,
      "bottom": null,
      "display": null,
      "flex": null,
      "flex_flow": null,
      "grid_area": null,
      "grid_auto_columns": null,
      "grid_auto_flow": null,
      "grid_auto_rows": null,
      "grid_column": null,
      "grid_gap": null,
      "grid_row": null,
      "grid_template_areas": null,
      "grid_template_columns": null,
      "grid_template_rows": null,
      "height": null,
      "justify_content": null,
      "justify_items": null,
      "left": null,
      "margin": null,
      "max_height": null,
      "max_width": null,
      "min_height": null,
      "min_width": null,
      "object_fit": null,
      "object_position": null,
      "order": null,
      "overflow": null,
      "overflow_x": null,
      "overflow_y": null,
      "padding": null,
      "right": null,
      "top": null,
      "visibility": null,
      "width": null
     }
    },
    "c3a9a8fa7bc64dbbb91859484f75928b": {
     "model_module": "@jupyter-widgets/controls",
     "model_module_version": "1.5.0",
     "model_name": "DescriptionStyleModel",
     "state": {
      "_model_module": "@jupyter-widgets/controls",
      "_model_module_version": "1.5.0",
      "_model_name": "DescriptionStyleModel",
      "_view_count": null,
      "_view_module": "@jupyter-widgets/base",
      "_view_module_version": "1.2.0",
      "_view_name": "StyleView",
      "description_width": ""
     }
    },
    "c468a8a1b80b4fab9603d6eb01c4908e": {
     "model_module": "@jupyter-widgets/base",
     "model_module_version": "1.2.0",
     "model_name": "LayoutModel",
     "state": {
      "_model_module": "@jupyter-widgets/base",
      "_model_module_version": "1.2.0",
      "_model_name": "LayoutModel",
      "_view_count": null,
      "_view_module": "@jupyter-widgets/base",
      "_view_module_version": "1.2.0",
      "_view_name": "LayoutView",
      "align_content": null,
      "align_items": null,
      "align_self": null,
      "border": null,
      "bottom": null,
      "display": null,
      "flex": null,
      "flex_flow": null,
      "grid_area": null,
      "grid_auto_columns": null,
      "grid_auto_flow": null,
      "grid_auto_rows": null,
      "grid_column": null,
      "grid_gap": null,
      "grid_row": null,
      "grid_template_areas": null,
      "grid_template_columns": null,
      "grid_template_rows": null,
      "height": null,
      "justify_content": null,
      "justify_items": null,
      "left": null,
      "margin": null,
      "max_height": null,
      "max_width": null,
      "min_height": null,
      "min_width": null,
      "object_fit": null,
      "object_position": null,
      "order": null,
      "overflow": null,
      "overflow_x": null,
      "overflow_y": null,
      "padding": null,
      "right": null,
      "top": null,
      "visibility": null,
      "width": null
     }
    },
    "c64c4731e45e45f1888737941d13b8e7": {
     "model_module": "@jupyter-widgets/base",
     "model_module_version": "1.2.0",
     "model_name": "LayoutModel",
     "state": {
      "_model_module": "@jupyter-widgets/base",
      "_model_module_version": "1.2.0",
      "_model_name": "LayoutModel",
      "_view_count": null,
      "_view_module": "@jupyter-widgets/base",
      "_view_module_version": "1.2.0",
      "_view_name": "LayoutView",
      "align_content": null,
      "align_items": null,
      "align_self": null,
      "border": null,
      "bottom": null,
      "display": null,
      "flex": null,
      "flex_flow": null,
      "grid_area": null,
      "grid_auto_columns": null,
      "grid_auto_flow": null,
      "grid_auto_rows": null,
      "grid_column": null,
      "grid_gap": null,
      "grid_row": null,
      "grid_template_areas": null,
      "grid_template_columns": null,
      "grid_template_rows": null,
      "height": null,
      "justify_content": null,
      "justify_items": null,
      "left": null,
      "margin": null,
      "max_height": null,
      "max_width": null,
      "min_height": null,
      "min_width": null,
      "object_fit": null,
      "object_position": null,
      "order": null,
      "overflow": null,
      "overflow_x": null,
      "overflow_y": null,
      "padding": null,
      "right": null,
      "top": null,
      "visibility": null,
      "width": null
     }
    },
    "c803728552bf4b08a0bc04256f98409d": {
     "model_module": "@jupyter-widgets/controls",
     "model_module_version": "1.5.0",
     "model_name": "DescriptionStyleModel",
     "state": {
      "_model_module": "@jupyter-widgets/controls",
      "_model_module_version": "1.5.0",
      "_model_name": "DescriptionStyleModel",
      "_view_count": null,
      "_view_module": "@jupyter-widgets/base",
      "_view_module_version": "1.2.0",
      "_view_name": "StyleView",
      "description_width": ""
     }
    },
    "c993a4d8158e42459cc8dcb77888b094": {
     "model_module": "@jupyter-widgets/controls",
     "model_module_version": "1.5.0",
     "model_name": "HTMLModel",
     "state": {
      "_dom_classes": [],
      "_model_module": "@jupyter-widgets/controls",
      "_model_module_version": "1.5.0",
      "_model_name": "HTMLModel",
      "_view_count": null,
      "_view_module": "@jupyter-widgets/controls",
      "_view_module_version": "1.5.0",
      "_view_name": "HTMLView",
      "description": "",
      "description_tooltip": null,
      "layout": "IPY_MODEL_bc551b2a8015433e9afad0335b3c3040",
      "placeholder": "​",
      "style": "IPY_MODEL_ed96d35d8e084a1d90a2a2d4ab3a057e",
      "value": " 1495/1495 [00:24&lt;00:00, 72.26it/s, train_loss=0.615]"
     }
    },
    "ca1a8a283ce54551a243e3770833d53e": {
     "model_module": "@jupyter-widgets/base",
     "model_module_version": "1.2.0",
     "model_name": "LayoutModel",
     "state": {
      "_model_module": "@jupyter-widgets/base",
      "_model_module_version": "1.2.0",
      "_model_name": "LayoutModel",
      "_view_count": null,
      "_view_module": "@jupyter-widgets/base",
      "_view_module_version": "1.2.0",
      "_view_name": "LayoutView",
      "align_content": null,
      "align_items": null,
      "align_self": null,
      "border": null,
      "bottom": null,
      "display": null,
      "flex": null,
      "flex_flow": null,
      "grid_area": null,
      "grid_auto_columns": null,
      "grid_auto_flow": null,
      "grid_auto_rows": null,
      "grid_column": null,
      "grid_gap": null,
      "grid_row": null,
      "grid_template_areas": null,
      "grid_template_columns": null,
      "grid_template_rows": null,
      "height": null,
      "justify_content": null,
      "justify_items": null,
      "left": null,
      "margin": null,
      "max_height": null,
      "max_width": null,
      "min_height": null,
      "min_width": null,
      "object_fit": null,
      "object_position": null,
      "order": null,
      "overflow": null,
      "overflow_x": null,
      "overflow_y": null,
      "padding": null,
      "right": null,
      "top": null,
      "visibility": null,
      "width": null
     }
    },
    "ca43f6d40016420781517b5ec7ed8e38": {
     "model_module": "@jupyter-widgets/controls",
     "model_module_version": "1.5.0",
     "model_name": "FloatProgressModel",
     "state": {
      "_dom_classes": [],
      "_model_module": "@jupyter-widgets/controls",
      "_model_module_version": "1.5.0",
      "_model_name": "FloatProgressModel",
      "_view_count": null,
      "_view_module": "@jupyter-widgets/controls",
      "_view_module_version": "1.5.0",
      "_view_name": "ProgressView",
      "bar_style": "success",
      "description": "",
      "description_tooltip": null,
      "layout": "IPY_MODEL_09fbf5c5793942f485230c7bc529d0dd",
      "max": 1495,
      "min": 0,
      "orientation": "horizontal",
      "style": "IPY_MODEL_f6556ea3feda4fa68f98ba130825e857",
      "value": 1495
     }
    },
    "cd1ffc7f535b4616a961474ad6f87ed3": {
     "model_module": "@jupyter-widgets/controls",
     "model_module_version": "1.5.0",
     "model_name": "HBoxModel",
     "state": {
      "_dom_classes": [],
      "_model_module": "@jupyter-widgets/controls",
      "_model_module_version": "1.5.0",
      "_model_name": "HBoxModel",
      "_view_count": null,
      "_view_module": "@jupyter-widgets/controls",
      "_view_module_version": "1.5.0",
      "_view_name": "HBoxView",
      "box_style": "",
      "children": [
       "IPY_MODEL_b00198cdb6f44ba5a082a1a4bf9ecd68",
       "IPY_MODEL_ca43f6d40016420781517b5ec7ed8e38",
       "IPY_MODEL_057326ac2aa34258964f5030d5c55f44"
      ],
      "layout": "IPY_MODEL_9261a6b92a764664a90efb95ce1c69ad"
     }
    },
    "cf3e104c07794b75b9fd7d6b413bc8b9": {
     "model_module": "@jupyter-widgets/controls",
     "model_module_version": "1.5.0",
     "model_name": "FloatProgressModel",
     "state": {
      "_dom_classes": [],
      "_model_module": "@jupyter-widgets/controls",
      "_model_module_version": "1.5.0",
      "_model_name": "FloatProgressModel",
      "_view_count": null,
      "_view_module": "@jupyter-widgets/controls",
      "_view_module_version": "1.5.0",
      "_view_name": "ProgressView",
      "bar_style": "success",
      "description": "",
      "description_tooltip": null,
      "layout": "IPY_MODEL_8d30cbeb39994379907e8ead691ec6e0",
      "max": 1495,
      "min": 0,
      "orientation": "horizontal",
      "style": "IPY_MODEL_3539415b9e4b41b494cdcd6ae8419abb",
      "value": 1495
     }
    },
    "cf8fab36a95c4ee491f0ceff5038e913": {
     "model_module": "@jupyter-widgets/controls",
     "model_module_version": "1.5.0",
     "model_name": "DescriptionStyleModel",
     "state": {
      "_model_module": "@jupyter-widgets/controls",
      "_model_module_version": "1.5.0",
      "_model_name": "DescriptionStyleModel",
      "_view_count": null,
      "_view_module": "@jupyter-widgets/base",
      "_view_module_version": "1.2.0",
      "_view_name": "StyleView",
      "description_width": ""
     }
    },
    "d0adba74e56740d79c1485d5f279b7b5": {
     "model_module": "@jupyter-widgets/controls",
     "model_module_version": "1.5.0",
     "model_name": "HBoxModel",
     "state": {
      "_dom_classes": [],
      "_model_module": "@jupyter-widgets/controls",
      "_model_module_version": "1.5.0",
      "_model_name": "HBoxModel",
      "_view_count": null,
      "_view_module": "@jupyter-widgets/controls",
      "_view_module_version": "1.5.0",
      "_view_name": "HBoxView",
      "box_style": "",
      "children": [
       "IPY_MODEL_ace3f161152449ddbe3437c00175b5c0",
       "IPY_MODEL_5a3193e1a38c4f1cad648be34af3bf8d",
       "IPY_MODEL_8a9c92cec8e74471a180f11888f9bb93"
      ],
      "layout": "IPY_MODEL_7433f125465e463aa386a4928a70e144"
     }
    },
    "d2bee3163556451aa758b394c14a2d89": {
     "model_module": "@jupyter-widgets/base",
     "model_module_version": "1.2.0",
     "model_name": "LayoutModel",
     "state": {
      "_model_module": "@jupyter-widgets/base",
      "_model_module_version": "1.2.0",
      "_model_name": "LayoutModel",
      "_view_count": null,
      "_view_module": "@jupyter-widgets/base",
      "_view_module_version": "1.2.0",
      "_view_name": "LayoutView",
      "align_content": null,
      "align_items": null,
      "align_self": null,
      "border": null,
      "bottom": null,
      "display": null,
      "flex": null,
      "flex_flow": null,
      "grid_area": null,
      "grid_auto_columns": null,
      "grid_auto_flow": null,
      "grid_auto_rows": null,
      "grid_column": null,
      "grid_gap": null,
      "grid_row": null,
      "grid_template_areas": null,
      "grid_template_columns": null,
      "grid_template_rows": null,
      "height": null,
      "justify_content": null,
      "justify_items": null,
      "left": null,
      "margin": null,
      "max_height": null,
      "max_width": null,
      "min_height": null,
      "min_width": null,
      "object_fit": null,
      "object_position": null,
      "order": null,
      "overflow": null,
      "overflow_x": null,
      "overflow_y": null,
      "padding": null,
      "right": null,
      "top": null,
      "visibility": null,
      "width": null
     }
    },
    "da4482c2c5f04c59a278e42e7d29e026": {
     "model_module": "@jupyter-widgets/base",
     "model_module_version": "1.2.0",
     "model_name": "LayoutModel",
     "state": {
      "_model_module": "@jupyter-widgets/base",
      "_model_module_version": "1.2.0",
      "_model_name": "LayoutModel",
      "_view_count": null,
      "_view_module": "@jupyter-widgets/base",
      "_view_module_version": "1.2.0",
      "_view_name": "LayoutView",
      "align_content": null,
      "align_items": null,
      "align_self": null,
      "border": null,
      "bottom": null,
      "display": null,
      "flex": null,
      "flex_flow": null,
      "grid_area": null,
      "grid_auto_columns": null,
      "grid_auto_flow": null,
      "grid_auto_rows": null,
      "grid_column": null,
      "grid_gap": null,
      "grid_row": null,
      "grid_template_areas": null,
      "grid_template_columns": null,
      "grid_template_rows": null,
      "height": null,
      "justify_content": null,
      "justify_items": null,
      "left": null,
      "margin": null,
      "max_height": null,
      "max_width": null,
      "min_height": null,
      "min_width": null,
      "object_fit": null,
      "object_position": null,
      "order": null,
      "overflow": null,
      "overflow_x": null,
      "overflow_y": null,
      "padding": null,
      "right": null,
      "top": null,
      "visibility": null,
      "width": null
     }
    },
    "dfd1f3ea0afc450592351f93724e76aa": {
     "model_module": "@jupyter-widgets/controls",
     "model_module_version": "1.5.0",
     "model_name": "HTMLModel",
     "state": {
      "_dom_classes": [],
      "_model_module": "@jupyter-widgets/controls",
      "_model_module_version": "1.5.0",
      "_model_name": "HTMLModel",
      "_view_count": null,
      "_view_module": "@jupyter-widgets/controls",
      "_view_module_version": "1.5.0",
      "_view_name": "HTMLView",
      "description": "",
      "description_tooltip": null,
      "layout": "IPY_MODEL_35214c46675a4c07986508c6ffc97e38",
      "placeholder": "​",
      "style": "IPY_MODEL_ec413fd66dbd4749b0dfcad1e0890181",
      "value": " 1495/1495 [00:26&lt;00:00, 60.85it/s, train_loss=0.307]"
     }
    },
    "e36f6a34ab134330b2e604ec2a605b33": {
     "model_module": "@jupyter-widgets/controls",
     "model_module_version": "1.5.0",
     "model_name": "DescriptionStyleModel",
     "state": {
      "_model_module": "@jupyter-widgets/controls",
      "_model_module_version": "1.5.0",
      "_model_name": "DescriptionStyleModel",
      "_view_count": null,
      "_view_module": "@jupyter-widgets/base",
      "_view_module_version": "1.2.0",
      "_view_name": "StyleView",
      "description_width": ""
     }
    },
    "e4e0c976eb164c0b8a0367e0b080556b": {
     "model_module": "@jupyter-widgets/base",
     "model_module_version": "1.2.0",
     "model_name": "LayoutModel",
     "state": {
      "_model_module": "@jupyter-widgets/base",
      "_model_module_version": "1.2.0",
      "_model_name": "LayoutModel",
      "_view_count": null,
      "_view_module": "@jupyter-widgets/base",
      "_view_module_version": "1.2.0",
      "_view_name": "LayoutView",
      "align_content": null,
      "align_items": null,
      "align_self": null,
      "border": null,
      "bottom": null,
      "display": null,
      "flex": null,
      "flex_flow": null,
      "grid_area": null,
      "grid_auto_columns": null,
      "grid_auto_flow": null,
      "grid_auto_rows": null,
      "grid_column": null,
      "grid_gap": null,
      "grid_row": null,
      "grid_template_areas": null,
      "grid_template_columns": null,
      "grid_template_rows": null,
      "height": null,
      "justify_content": null,
      "justify_items": null,
      "left": null,
      "margin": null,
      "max_height": null,
      "max_width": null,
      "min_height": null,
      "min_width": null,
      "object_fit": null,
      "object_position": null,
      "order": null,
      "overflow": null,
      "overflow_x": null,
      "overflow_y": null,
      "padding": null,
      "right": null,
      "top": null,
      "visibility": null,
      "width": null
     }
    },
    "e5f0914ddbd34fe78022a0b8b1fa02f2": {
     "model_module": "@jupyter-widgets/controls",
     "model_module_version": "1.5.0",
     "model_name": "HTMLModel",
     "state": {
      "_dom_classes": [],
      "_model_module": "@jupyter-widgets/controls",
      "_model_module_version": "1.5.0",
      "_model_name": "HTMLModel",
      "_view_count": null,
      "_view_module": "@jupyter-widgets/controls",
      "_view_module_version": "1.5.0",
      "_view_name": "HTMLView",
      "description": "",
      "description_tooltip": null,
      "layout": "IPY_MODEL_ec0db515f43f4190813e474438b8552f",
      "placeholder": "​",
      "style": "IPY_MODEL_3b2d40fd84704d2f8297e7e11bc4048c",
      "value": "Epoch 9/10: 100%"
     }
    },
    "e60fce1b554e461d80fbf8abd87118e3": {
     "model_module": "@jupyter-widgets/controls",
     "model_module_version": "1.5.0",
     "model_name": "FloatProgressModel",
     "state": {
      "_dom_classes": [],
      "_model_module": "@jupyter-widgets/controls",
      "_model_module_version": "1.5.0",
      "_model_name": "FloatProgressModel",
      "_view_count": null,
      "_view_module": "@jupyter-widgets/controls",
      "_view_module_version": "1.5.0",
      "_view_name": "ProgressView",
      "bar_style": "success",
      "description": "",
      "description_tooltip": null,
      "layout": "IPY_MODEL_ca1a8a283ce54551a243e3770833d53e",
      "max": 1495,
      "min": 0,
      "orientation": "horizontal",
      "style": "IPY_MODEL_72ba31f8f62242919065bd3cba53f112",
      "value": 1495
     }
    },
    "e6cc1e30080845f5a7c51434e976f898": {
     "model_module": "@jupyter-widgets/base",
     "model_module_version": "1.2.0",
     "model_name": "LayoutModel",
     "state": {
      "_model_module": "@jupyter-widgets/base",
      "_model_module_version": "1.2.0",
      "_model_name": "LayoutModel",
      "_view_count": null,
      "_view_module": "@jupyter-widgets/base",
      "_view_module_version": "1.2.0",
      "_view_name": "LayoutView",
      "align_content": null,
      "align_items": null,
      "align_self": null,
      "border": null,
      "bottom": null,
      "display": null,
      "flex": null,
      "flex_flow": null,
      "grid_area": null,
      "grid_auto_columns": null,
      "grid_auto_flow": null,
      "grid_auto_rows": null,
      "grid_column": null,
      "grid_gap": null,
      "grid_row": null,
      "grid_template_areas": null,
      "grid_template_columns": null,
      "grid_template_rows": null,
      "height": null,
      "justify_content": null,
      "justify_items": null,
      "left": null,
      "margin": null,
      "max_height": null,
      "max_width": null,
      "min_height": null,
      "min_width": null,
      "object_fit": null,
      "object_position": null,
      "order": null,
      "overflow": null,
      "overflow_x": null,
      "overflow_y": null,
      "padding": null,
      "right": null,
      "top": null,
      "visibility": null,
      "width": null
     }
    },
    "e82022b489bc4b6aacc06d5ca577f765": {
     "model_module": "@jupyter-widgets/base",
     "model_module_version": "1.2.0",
     "model_name": "LayoutModel",
     "state": {
      "_model_module": "@jupyter-widgets/base",
      "_model_module_version": "1.2.0",
      "_model_name": "LayoutModel",
      "_view_count": null,
      "_view_module": "@jupyter-widgets/base",
      "_view_module_version": "1.2.0",
      "_view_name": "LayoutView",
      "align_content": null,
      "align_items": null,
      "align_self": null,
      "border": null,
      "bottom": null,
      "display": null,
      "flex": null,
      "flex_flow": null,
      "grid_area": null,
      "grid_auto_columns": null,
      "grid_auto_flow": null,
      "grid_auto_rows": null,
      "grid_column": null,
      "grid_gap": null,
      "grid_row": null,
      "grid_template_areas": null,
      "grid_template_columns": null,
      "grid_template_rows": null,
      "height": null,
      "justify_content": null,
      "justify_items": null,
      "left": null,
      "margin": null,
      "max_height": null,
      "max_width": null,
      "min_height": null,
      "min_width": null,
      "object_fit": null,
      "object_position": null,
      "order": null,
      "overflow": null,
      "overflow_x": null,
      "overflow_y": null,
      "padding": null,
      "right": null,
      "top": null,
      "visibility": null,
      "width": null
     }
    },
    "e99d6847efdd481eb0f1f9d0b34ef3a4": {
     "model_module": "@jupyter-widgets/base",
     "model_module_version": "1.2.0",
     "model_name": "LayoutModel",
     "state": {
      "_model_module": "@jupyter-widgets/base",
      "_model_module_version": "1.2.0",
      "_model_name": "LayoutModel",
      "_view_count": null,
      "_view_module": "@jupyter-widgets/base",
      "_view_module_version": "1.2.0",
      "_view_name": "LayoutView",
      "align_content": null,
      "align_items": null,
      "align_self": null,
      "border": null,
      "bottom": null,
      "display": null,
      "flex": null,
      "flex_flow": null,
      "grid_area": null,
      "grid_auto_columns": null,
      "grid_auto_flow": null,
      "grid_auto_rows": null,
      "grid_column": null,
      "grid_gap": null,
      "grid_row": null,
      "grid_template_areas": null,
      "grid_template_columns": null,
      "grid_template_rows": null,
      "height": null,
      "justify_content": null,
      "justify_items": null,
      "left": null,
      "margin": null,
      "max_height": null,
      "max_width": null,
      "min_height": null,
      "min_width": null,
      "object_fit": null,
      "object_position": null,
      "order": null,
      "overflow": null,
      "overflow_x": null,
      "overflow_y": null,
      "padding": null,
      "right": null,
      "top": null,
      "visibility": null,
      "width": null
     }
    },
    "ec0db515f43f4190813e474438b8552f": {
     "model_module": "@jupyter-widgets/base",
     "model_module_version": "1.2.0",
     "model_name": "LayoutModel",
     "state": {
      "_model_module": "@jupyter-widgets/base",
      "_model_module_version": "1.2.0",
      "_model_name": "LayoutModel",
      "_view_count": null,
      "_view_module": "@jupyter-widgets/base",
      "_view_module_version": "1.2.0",
      "_view_name": "LayoutView",
      "align_content": null,
      "align_items": null,
      "align_self": null,
      "border": null,
      "bottom": null,
      "display": null,
      "flex": null,
      "flex_flow": null,
      "grid_area": null,
      "grid_auto_columns": null,
      "grid_auto_flow": null,
      "grid_auto_rows": null,
      "grid_column": null,
      "grid_gap": null,
      "grid_row": null,
      "grid_template_areas": null,
      "grid_template_columns": null,
      "grid_template_rows": null,
      "height": null,
      "justify_content": null,
      "justify_items": null,
      "left": null,
      "margin": null,
      "max_height": null,
      "max_width": null,
      "min_height": null,
      "min_width": null,
      "object_fit": null,
      "object_position": null,
      "order": null,
      "overflow": null,
      "overflow_x": null,
      "overflow_y": null,
      "padding": null,
      "right": null,
      "top": null,
      "visibility": null,
      "width": null
     }
    },
    "ec413fd66dbd4749b0dfcad1e0890181": {
     "model_module": "@jupyter-widgets/controls",
     "model_module_version": "1.5.0",
     "model_name": "DescriptionStyleModel",
     "state": {
      "_model_module": "@jupyter-widgets/controls",
      "_model_module_version": "1.5.0",
      "_model_name": "DescriptionStyleModel",
      "_view_count": null,
      "_view_module": "@jupyter-widgets/base",
      "_view_module_version": "1.2.0",
      "_view_name": "StyleView",
      "description_width": ""
     }
    },
    "ed96d35d8e084a1d90a2a2d4ab3a057e": {
     "model_module": "@jupyter-widgets/controls",
     "model_module_version": "1.5.0",
     "model_name": "DescriptionStyleModel",
     "state": {
      "_model_module": "@jupyter-widgets/controls",
      "_model_module_version": "1.5.0",
      "_model_name": "DescriptionStyleModel",
      "_view_count": null,
      "_view_module": "@jupyter-widgets/base",
      "_view_module_version": "1.2.0",
      "_view_name": "StyleView",
      "description_width": ""
     }
    },
    "f3267c7871784faf931440e56e48d094": {
     "model_module": "@jupyter-widgets/controls",
     "model_module_version": "1.5.0",
     "model_name": "HBoxModel",
     "state": {
      "_dom_classes": [],
      "_model_module": "@jupyter-widgets/controls",
      "_model_module_version": "1.5.0",
      "_model_name": "HBoxModel",
      "_view_count": null,
      "_view_module": "@jupyter-widgets/controls",
      "_view_module_version": "1.5.0",
      "_view_name": "HBoxView",
      "box_style": "",
      "children": [
       "IPY_MODEL_e5f0914ddbd34fe78022a0b8b1fa02f2",
       "IPY_MODEL_e60fce1b554e461d80fbf8abd87118e3",
       "IPY_MODEL_dfd1f3ea0afc450592351f93724e76aa"
      ],
      "layout": "IPY_MODEL_e99d6847efdd481eb0f1f9d0b34ef3a4"
     }
    },
    "f44e1cb4aaa14da785ef4af8e016c1d2": {
     "model_module": "@jupyter-widgets/base",
     "model_module_version": "1.2.0",
     "model_name": "LayoutModel",
     "state": {
      "_model_module": "@jupyter-widgets/base",
      "_model_module_version": "1.2.0",
      "_model_name": "LayoutModel",
      "_view_count": null,
      "_view_module": "@jupyter-widgets/base",
      "_view_module_version": "1.2.0",
      "_view_name": "LayoutView",
      "align_content": null,
      "align_items": null,
      "align_self": null,
      "border": null,
      "bottom": null,
      "display": null,
      "flex": null,
      "flex_flow": null,
      "grid_area": null,
      "grid_auto_columns": null,
      "grid_auto_flow": null,
      "grid_auto_rows": null,
      "grid_column": null,
      "grid_gap": null,
      "grid_row": null,
      "grid_template_areas": null,
      "grid_template_columns": null,
      "grid_template_rows": null,
      "height": null,
      "justify_content": null,
      "justify_items": null,
      "left": null,
      "margin": null,
      "max_height": null,
      "max_width": null,
      "min_height": null,
      "min_width": null,
      "object_fit": null,
      "object_position": null,
      "order": null,
      "overflow": null,
      "overflow_x": null,
      "overflow_y": null,
      "padding": null,
      "right": null,
      "top": null,
      "visibility": null,
      "width": null
     }
    },
    "f56944726c2d46498bc077ca426fe0ac": {
     "model_module": "@jupyter-widgets/controls",
     "model_module_version": "1.5.0",
     "model_name": "HTMLModel",
     "state": {
      "_dom_classes": [],
      "_model_module": "@jupyter-widgets/controls",
      "_model_module_version": "1.5.0",
      "_model_name": "HTMLModel",
      "_view_count": null,
      "_view_module": "@jupyter-widgets/controls",
      "_view_module_version": "1.5.0",
      "_view_name": "HTMLView",
      "description": "",
      "description_tooltip": null,
      "layout": "IPY_MODEL_29e5ef99378e477688e5889ec02a9274",
      "placeholder": "​",
      "style": "IPY_MODEL_6712733917f8478087ff0097f11313e9",
      "value": " 1495/1495 [00:24&lt;00:00, 61.46it/s, train_loss=0.641]"
     }
    },
    "f5beefc6e4a44464b69ba665d8ea8383": {
     "model_module": "@jupyter-widgets/controls",
     "model_module_version": "1.5.0",
     "model_name": "HTMLModel",
     "state": {
      "_dom_classes": [],
      "_model_module": "@jupyter-widgets/controls",
      "_model_module_version": "1.5.0",
      "_model_name": "HTMLModel",
      "_view_count": null,
      "_view_module": "@jupyter-widgets/controls",
      "_view_module_version": "1.5.0",
      "_view_name": "HTMLView",
      "description": "",
      "description_tooltip": null,
      "layout": "IPY_MODEL_7113804a61404c17870cc8b13921a21b",
      "placeholder": "​",
      "style": "IPY_MODEL_12fccbe7a85b4c0f912729dd811210c6",
      "value": "Epoch 8/10: 100%"
     }
    },
    "f6556ea3feda4fa68f98ba130825e857": {
     "model_module": "@jupyter-widgets/controls",
     "model_module_version": "1.5.0",
     "model_name": "ProgressStyleModel",
     "state": {
      "_model_module": "@jupyter-widgets/controls",
      "_model_module_version": "1.5.0",
      "_model_name": "ProgressStyleModel",
      "_view_count": null,
      "_view_module": "@jupyter-widgets/base",
      "_view_module_version": "1.2.0",
      "_view_name": "StyleView",
      "bar_color": null,
      "description_width": ""
     }
    },
    "f9e189dacf8e480db479a3f81c401174": {
     "model_module": "@jupyter-widgets/controls",
     "model_module_version": "1.5.0",
     "model_name": "HBoxModel",
     "state": {
      "_dom_classes": [],
      "_model_module": "@jupyter-widgets/controls",
      "_model_module_version": "1.5.0",
      "_model_name": "HBoxModel",
      "_view_count": null,
      "_view_module": "@jupyter-widgets/controls",
      "_view_module_version": "1.5.0",
      "_view_name": "HBoxView",
      "box_style": "",
      "children": [
       "IPY_MODEL_7d688c9efb90473787140eb337798e76",
       "IPY_MODEL_55e6906e62ee47da98e4b5e982444e7d",
       "IPY_MODEL_3e2a0f7d7fd248c88582c6f22e1fe062"
      ],
      "layout": "IPY_MODEL_e6cc1e30080845f5a7c51434e976f898"
     }
    }
   }
  }
 },
 "nbformat": 4,
 "nbformat_minor": 0
}
